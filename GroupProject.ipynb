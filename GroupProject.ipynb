{
  "cells": [
    {
      "cell_type": "markdown",
      "source": [
        "# How Couples Meet"
      ],
      "metadata": {
        "nteract": {
          "transient": {
            "deleting": false
          }
        }
      }
    },
    {
      "cell_type": "markdown",
      "source": [
        "## Setup and Initialization"
      ],
      "metadata": {
        "nteract": {
          "transient": {
            "deleting": false
          }
        }
      }
    },
    {
      "cell_type": "markdown",
      "source": [
        "### Import libraries"
      ],
      "metadata": {
        "nteract": {
          "transient": {
            "deleting": false
          }
        }
      }
    },
    {
      "cell_type": "code",
      "source": [
        "import pandas as pd\n",
        "import numpy as np\n",
        "import matplotlib.pyplot as plt\n",
        "from sklearn.linear_model import LassoCV\n",
        "from sklearn.decomposition import PCA\n",
        "from sklearn.preprocessing import StandardScaler\n",
        "import statsmodels.api as sm\n",
        "from sklearn.metrics import log_loss, accuracy_score"
      ],
      "outputs": [],
      "execution_count": 139,
      "metadata": {
        "gather": {
          "logged": 1730034249503
        }
      }
    },
    {
      "cell_type": "markdown",
      "source": [
        "### Import Dataset"
      ],
      "metadata": {
        "nteract": {
          "transient": {
            "deleting": false
          }
        }
      }
    },
    {
      "cell_type": "code",
      "source": [
        "df = pd.read_excel(\"HCMST_2009_Data_ver_3.04.xlsx\")\n",
        "df.head()\n"
      ],
      "outputs": [
        {
          "output_type": "stream",
          "name": "stderr",
          "text": "/anaconda/envs/azureml_py38/lib/python3.10/site-packages/openpyxl/worksheet/header_footer.py:48: UserWarning: Cannot parse header or footer so it will be ignored\n  warn(\"\"\"Cannot parse header or footer so it will be ignored\"\"\")\n"
        },
        {
          "output_type": "execute_result",
          "execution_count": 140,
          "data": {
            "text/plain": "  Variable      caseid_new                          weight1  \\\n0    Label  unique case ID  Main Weight for all respondents   \n1      NaN           22526                             4265   \n2      NaN           23286                            16485   \n3      NaN           25495                            52464   \n4      NaN           26315                             4575   \n\n                                 weight2  \\\n0  Main Weight for Partnered Respondents   \n1                                   4265   \n2                                  16485   \n3                                      0   \n4                                   4575   \n\n                                           ppage            ppagecat  \\\n0  respondent age at time of HCMST wave I survey  age - 7 categories   \n1                                             52                   4   \n2                                             28                   2   \n3                                             49                   4   \n4                                             31                   2   \n\n             ppagect4                               ppeduc  \\\n0  age - 4 categories  education (highest degree received)   \n1                   3                                   12   \n2                   1                                   13   \n3                   3                                    9   \n4                   2                                   11   \n\n                  ppeducat            ppethm  ...  \\\n0  education (categorical)  race / ethnicity  ...   \n1                        4                 4  ...   \n2                        4                 1  ...   \n3                        2                 2  ...   \n4                        3                 1  ...   \n\n                                    w3_mbtiming_year  \\\n0  [Year:] When did you get [divorced/separated] ...   \n1                                                  0   \n2                                                  0   \n3                                                  0   \n4                                                  0   \n\n                                   w3_mbtiming_month  \\\n0  [Month:] When did you get [divorced/separated]...   \n1                                                  0   \n2                                                  0   \n3                                                  0   \n4                                                  0   \n\n                                               w3_q5  \\\n0  Are you still in a romantic relationship with ...   \n1                                                  1   \n2                                                  0   \n3                                                  0   \n4                                                  0   \n\n                                     w3_q6  \\\n0  Are you currently living with [xNameP]?   \n1                                        1   \n2                                        0   \n3                                        0   \n4                                        0   \n\n                                               w3_q7  \\\n0  In the past [year/two years], have you and [xN...   \n1                                                  2   \n2                                                  0   \n3                                                  0   \n4                                                  0   \n\n                                               w3_q8  \\\n0  In the past [year/two years], have you and [xN...   \n1                                                  1   \n2                                                  0   \n3                                                  0   \n4                                                  0   \n\n                                          w3_q9  \\\n0  How did your relationship with [xNameP] end?   \n1                                             0   \n2                                             0   \n3                                             0   \n4                                             0   \n\n                                              w3_q10  \\\n0  Between you and [xNameP], who wanted more to b...   \n1                                                  0   \n2                                                  0   \n3                                                  0   \n4                                                  0   \n\n                            w3_nonmbtiming_year  \\\n0  [Year:] When did you break-up with [xNameP]?   \n1                                             0   \n2                                             0   \n3                                             0   \n4                                             0   \n\n                            w3_nonmbtiming_month  \n0  [Month:] When did you break-up with [xNameP]?  \n1                                              0  \n2                                              0  \n3                                              0  \n4                                              0  \n\n[5 rows x 388 columns]",
            "text/html": "<div>\n<style scoped>\n    .dataframe tbody tr th:only-of-type {\n        vertical-align: middle;\n    }\n\n    .dataframe tbody tr th {\n        vertical-align: top;\n    }\n\n    .dataframe thead th {\n        text-align: right;\n    }\n</style>\n<table border=\"1\" class=\"dataframe\">\n  <thead>\n    <tr style=\"text-align: right;\">\n      <th></th>\n      <th>Variable</th>\n      <th>caseid_new</th>\n      <th>weight1</th>\n      <th>weight2</th>\n      <th>ppage</th>\n      <th>ppagecat</th>\n      <th>ppagect4</th>\n      <th>ppeduc</th>\n      <th>ppeducat</th>\n      <th>ppethm</th>\n      <th>...</th>\n      <th>w3_mbtiming_year</th>\n      <th>w3_mbtiming_month</th>\n      <th>w3_q5</th>\n      <th>w3_q6</th>\n      <th>w3_q7</th>\n      <th>w3_q8</th>\n      <th>w3_q9</th>\n      <th>w3_q10</th>\n      <th>w3_nonmbtiming_year</th>\n      <th>w3_nonmbtiming_month</th>\n    </tr>\n  </thead>\n  <tbody>\n    <tr>\n      <th>0</th>\n      <td>Label</td>\n      <td>unique case ID</td>\n      <td>Main Weight for all respondents</td>\n      <td>Main Weight for Partnered Respondents</td>\n      <td>respondent age at time of HCMST wave I survey</td>\n      <td>age - 7 categories</td>\n      <td>age - 4 categories</td>\n      <td>education (highest degree received)</td>\n      <td>education (categorical)</td>\n      <td>race / ethnicity</td>\n      <td>...</td>\n      <td>[Year:] When did you get [divorced/separated] ...</td>\n      <td>[Month:] When did you get [divorced/separated]...</td>\n      <td>Are you still in a romantic relationship with ...</td>\n      <td>Are you currently living with [xNameP]?</td>\n      <td>In the past [year/two years], have you and [xN...</td>\n      <td>In the past [year/two years], have you and [xN...</td>\n      <td>How did your relationship with [xNameP] end?</td>\n      <td>Between you and [xNameP], who wanted more to b...</td>\n      <td>[Year:] When did you break-up with [xNameP]?</td>\n      <td>[Month:] When did you break-up with [xNameP]?</td>\n    </tr>\n    <tr>\n      <th>1</th>\n      <td>NaN</td>\n      <td>22526</td>\n      <td>4265</td>\n      <td>4265</td>\n      <td>52</td>\n      <td>4</td>\n      <td>3</td>\n      <td>12</td>\n      <td>4</td>\n      <td>4</td>\n      <td>...</td>\n      <td>0</td>\n      <td>0</td>\n      <td>1</td>\n      <td>1</td>\n      <td>2</td>\n      <td>1</td>\n      <td>0</td>\n      <td>0</td>\n      <td>0</td>\n      <td>0</td>\n    </tr>\n    <tr>\n      <th>2</th>\n      <td>NaN</td>\n      <td>23286</td>\n      <td>16485</td>\n      <td>16485</td>\n      <td>28</td>\n      <td>2</td>\n      <td>1</td>\n      <td>13</td>\n      <td>4</td>\n      <td>1</td>\n      <td>...</td>\n      <td>0</td>\n      <td>0</td>\n      <td>0</td>\n      <td>0</td>\n      <td>0</td>\n      <td>0</td>\n      <td>0</td>\n      <td>0</td>\n      <td>0</td>\n      <td>0</td>\n    </tr>\n    <tr>\n      <th>3</th>\n      <td>NaN</td>\n      <td>25495</td>\n      <td>52464</td>\n      <td>0</td>\n      <td>49</td>\n      <td>4</td>\n      <td>3</td>\n      <td>9</td>\n      <td>2</td>\n      <td>2</td>\n      <td>...</td>\n      <td>0</td>\n      <td>0</td>\n      <td>0</td>\n      <td>0</td>\n      <td>0</td>\n      <td>0</td>\n      <td>0</td>\n      <td>0</td>\n      <td>0</td>\n      <td>0</td>\n    </tr>\n    <tr>\n      <th>4</th>\n      <td>NaN</td>\n      <td>26315</td>\n      <td>4575</td>\n      <td>4575</td>\n      <td>31</td>\n      <td>2</td>\n      <td>2</td>\n      <td>11</td>\n      <td>3</td>\n      <td>1</td>\n      <td>...</td>\n      <td>0</td>\n      <td>0</td>\n      <td>0</td>\n      <td>0</td>\n      <td>0</td>\n      <td>0</td>\n      <td>0</td>\n      <td>0</td>\n      <td>0</td>\n      <td>0</td>\n    </tr>\n  </tbody>\n</table>\n<p>5 rows × 388 columns</p>\n</div>"
          },
          "metadata": {}
        }
      ],
      "execution_count": 140,
      "metadata": {
        "jupyter": {
          "source_hidden": false,
          "outputs_hidden": false
        },
        "nteract": {
          "transient": {
            "deleting": false
          }
        },
        "gather": {
          "logged": 1730034270216
        }
      }
    },
    {
      "cell_type": "code",
      "source": [
        "df = df.drop(index = 0).drop(columns = df.columns[0])\n",
        "df.head()"
      ],
      "outputs": [
        {
          "output_type": "execute_result",
          "execution_count": 141,
          "data": {
            "text/plain": "  caseid_new weight1 weight2 ppage ppagecat ppagect4 ppeduc ppeducat ppethm  \\\n1      22526    4265    4265    52        4        3     12        4      4   \n2      23286   16485   16485    28        2        1     13        4      1   \n3      25495   52464       0    49        4        3      9        2      2   \n4      26315    4575    4575    31        2        2     11        3      1   \n5      27355   12147       0    35        3        2      9        2      1   \n\n  ppgender  ... w3_mbtiming_year w3_mbtiming_month w3_q5 w3_q6 w3_q7 w3_q8  \\\n1        2  ...                0                 0     1     1     2     1   \n2        2  ...                0                 0     0     0     0     0   \n3        2  ...                0                 0     0     0     0     0   \n4        1  ...                0                 0     0     0     0     0   \n5        1  ...                0                 0     0     0     0     0   \n\n  w3_q9 w3_q10 w3_nonmbtiming_year w3_nonmbtiming_month  \n1     0      0                   0                    0  \n2     0      0                   0                    0  \n3     0      0                   0                    0  \n4     0      0                   0                    0  \n5     0      0                   0                    0  \n\n[5 rows x 387 columns]",
            "text/html": "<div>\n<style scoped>\n    .dataframe tbody tr th:only-of-type {\n        vertical-align: middle;\n    }\n\n    .dataframe tbody tr th {\n        vertical-align: top;\n    }\n\n    .dataframe thead th {\n        text-align: right;\n    }\n</style>\n<table border=\"1\" class=\"dataframe\">\n  <thead>\n    <tr style=\"text-align: right;\">\n      <th></th>\n      <th>caseid_new</th>\n      <th>weight1</th>\n      <th>weight2</th>\n      <th>ppage</th>\n      <th>ppagecat</th>\n      <th>ppagect4</th>\n      <th>ppeduc</th>\n      <th>ppeducat</th>\n      <th>ppethm</th>\n      <th>ppgender</th>\n      <th>...</th>\n      <th>w3_mbtiming_year</th>\n      <th>w3_mbtiming_month</th>\n      <th>w3_q5</th>\n      <th>w3_q6</th>\n      <th>w3_q7</th>\n      <th>w3_q8</th>\n      <th>w3_q9</th>\n      <th>w3_q10</th>\n      <th>w3_nonmbtiming_year</th>\n      <th>w3_nonmbtiming_month</th>\n    </tr>\n  </thead>\n  <tbody>\n    <tr>\n      <th>1</th>\n      <td>22526</td>\n      <td>4265</td>\n      <td>4265</td>\n      <td>52</td>\n      <td>4</td>\n      <td>3</td>\n      <td>12</td>\n      <td>4</td>\n      <td>4</td>\n      <td>2</td>\n      <td>...</td>\n      <td>0</td>\n      <td>0</td>\n      <td>1</td>\n      <td>1</td>\n      <td>2</td>\n      <td>1</td>\n      <td>0</td>\n      <td>0</td>\n      <td>0</td>\n      <td>0</td>\n    </tr>\n    <tr>\n      <th>2</th>\n      <td>23286</td>\n      <td>16485</td>\n      <td>16485</td>\n      <td>28</td>\n      <td>2</td>\n      <td>1</td>\n      <td>13</td>\n      <td>4</td>\n      <td>1</td>\n      <td>2</td>\n      <td>...</td>\n      <td>0</td>\n      <td>0</td>\n      <td>0</td>\n      <td>0</td>\n      <td>0</td>\n      <td>0</td>\n      <td>0</td>\n      <td>0</td>\n      <td>0</td>\n      <td>0</td>\n    </tr>\n    <tr>\n      <th>3</th>\n      <td>25495</td>\n      <td>52464</td>\n      <td>0</td>\n      <td>49</td>\n      <td>4</td>\n      <td>3</td>\n      <td>9</td>\n      <td>2</td>\n      <td>2</td>\n      <td>2</td>\n      <td>...</td>\n      <td>0</td>\n      <td>0</td>\n      <td>0</td>\n      <td>0</td>\n      <td>0</td>\n      <td>0</td>\n      <td>0</td>\n      <td>0</td>\n      <td>0</td>\n      <td>0</td>\n    </tr>\n    <tr>\n      <th>4</th>\n      <td>26315</td>\n      <td>4575</td>\n      <td>4575</td>\n      <td>31</td>\n      <td>2</td>\n      <td>2</td>\n      <td>11</td>\n      <td>3</td>\n      <td>1</td>\n      <td>1</td>\n      <td>...</td>\n      <td>0</td>\n      <td>0</td>\n      <td>0</td>\n      <td>0</td>\n      <td>0</td>\n      <td>0</td>\n      <td>0</td>\n      <td>0</td>\n      <td>0</td>\n      <td>0</td>\n    </tr>\n    <tr>\n      <th>5</th>\n      <td>27355</td>\n      <td>12147</td>\n      <td>0</td>\n      <td>35</td>\n      <td>3</td>\n      <td>2</td>\n      <td>9</td>\n      <td>2</td>\n      <td>1</td>\n      <td>1</td>\n      <td>...</td>\n      <td>0</td>\n      <td>0</td>\n      <td>0</td>\n      <td>0</td>\n      <td>0</td>\n      <td>0</td>\n      <td>0</td>\n      <td>0</td>\n      <td>0</td>\n      <td>0</td>\n    </tr>\n  </tbody>\n</table>\n<p>5 rows × 387 columns</p>\n</div>"
          },
          "metadata": {}
        }
      ],
      "execution_count": 141,
      "metadata": {
        "jupyter": {
          "source_hidden": false,
          "outputs_hidden": false
        },
        "nteract": {
          "transient": {
            "deleting": false
          }
        },
        "gather": {
          "logged": 1730034270696
        }
      }
    },
    {
      "cell_type": "code",
      "source": [
        "df.info()"
      ],
      "outputs": [
        {
          "output_type": "stream",
          "name": "stdout",
          "text": "<class 'pandas.core.frame.DataFrame'>\nInt64Index: 4002 entries, 1 to 4002\nColumns: 387 entries, caseid_new to w3_nonmbtiming_month\ndtypes: object(387)\nmemory usage: 11.8+ MB\n"
        }
      ],
      "execution_count": 142,
      "metadata": {
        "jupyter": {
          "source_hidden": false,
          "outputs_hidden": false
        },
        "nteract": {
          "transient": {
            "deleting": false
          }
        },
        "gather": {
          "logged": 1730034271126
        }
      }
    },
    {
      "cell_type": "markdown",
      "source": [
        "**Inferences:**\n",
        "\n",
        "The dataset consists of **4002 entries** and **387 columns**.\n",
        "We can also see that the data is in **object** format so it will be necessary to **convert** it to the correct **data types**\n",
        "\n",
        "Given the extensive number of **columns** we have decided to **retain only the essential ones for our study**. \n",
        "\n",
        "So in the next step we will proceed with cleaning the data. "
      ],
      "metadata": {
        "nteract": {
          "transient": {
            "deleting": false
          }
        }
      }
    },
    {
      "cell_type": "code",
      "source": [
        "columns_to_keep = [\n",
        "    'caseid_new', 'weight1', 'weight2', 'ppage', 'ppeduc', 'ppgender', 'pphhhead', \n",
        "    'pphouseholdsize', 'pphouse', 'ppincimp', 'ppmarit', 'ppmsacat', 'pprent', \n",
        "    'ppt18ov', 'children_in_hh', 'ppwork', 'pphispan', 'pprace_white', 'pprace_black', \n",
        "    'pprace_nativeamerican', 'pprace_asianindian', 'pprace_chinese', 'pprace_filipino', \n",
        "    'pprace_japanese', 'pprace_korean', 'pprace_vietnamese', 'pprace_otherasian', \n",
        "    'pprace_hawaiian', 'pprace_guamanian', 'pprace_samoan', 'pprace_otherpacificislander', \n",
        "    'pprace_someotherrace', 'pppartyid3', 'papreligion', 'ppppcmdate_yrmo', 'pppadate_yrmo', \n",
        "    'HCMST_main_interview_yrmo', 'qflag', 'glbstatus', 's1', 's1a', 's2', 'q4', 'q5', \n",
        "    'q6a', 'q6b', 'q7b', 'q9', 'q10', 'q15a1_compressed', 'q16', 'q17b', 'q19', 'q20', 'q21a',\n",
        "    'q21b', 'q21c', 'q21d', 'q22', 'q23', 'q25', 'q26', 'q27', 'q28', 'q29', 'q30', \n",
        "    'q31_1', 'q31_2', 'q31_3', 'q31_4', 'q31_5', 'q31_6', 'q31_7', 'q31_8', 'q31_9', \n",
        "    'q31_other_text_entered', 'q32', 'q33_1', 'q33_2', 'q33_3', 'q33_4', 'q33_5', 'q33_6', \n",
        "    'q33_7', 'q33_other_text_entered', 'q34', 'q24_met_online', 'q24_btwn_I_cowork', \n",
        "    'q24_btwn_I_friend', 'q24_btwn_I_family', 'q24_btwn_I_sig_other', 'q24_btwn_I_neighbor', \n",
        "    'q24_school', 'q24_college', 'q24_military', 'q24_church', 'q24_vol_org', 'q24_customer', \n",
        "    'q24_bar_restaurant', 'q24_internet_dating', 'q24_internet_social_networking', \n",
        "    'q24_internet_game', 'q24_internet_chat', 'q24_internet_community', 'q24_internet_other', \n",
        "    'q24_public', 'q24_private_party', 'q24_blind_date', 'q24_vacation', \n",
        "    'q24_singles_service_non_internet', 'q24_business_trip', 'q24_work_neighbor', \n",
        "    'age_difference', 'met_through_friends', 'met_through_family', 'met_through_as_neighbors', \n",
        "    'met_through_as_coworkers', 'parental_approval', 'relationship_quality', 'coresident', \n",
        "    'pp2_afterp1', 'pp2_pphhhead', 'pp2_pphhsize', 'pp2_pphouse', 'pp2_ppincimp', 'pp2_ppmarit', \n",
        "    'pp2_ppmsacat', 'pp2_ppeduc', 'pp2_ppeducat', 'pp2_respondent_yrsed', 'pp2_ppethm', \n",
        "    'pp2_ppreg4', 'pp2_ppreg9', 'pp2_pprent', 'pp2_ppt01', 'pp2_ppt1317', 'pp2_ppt18ov', \n",
        "    'pp2_ppt25', 'pp2_ppt612', 'pp2_ppwork', 'pp2_ppnet', 'pp2_ppcmdate_yrmo', \n",
        "    'w2_HCMST_interview_fin_yrmo', 'w2_q10', 'w2_broke_up'\n",
        "]\n",
        "\n",
        "df = df[columns_to_keep]\n",
        "df.head()"
      ],
      "outputs": [
        {
          "output_type": "execute_result",
          "execution_count": 143,
          "data": {
            "text/plain": "  caseid_new weight1 weight2 ppage ppeduc ppgender pphhhead pphouseholdsize  \\\n1      22526    4265    4265    52     12        2        1               2   \n2      23286   16485   16485    28     13        2        1               2   \n3      25495   52464       0    49      9        2        1               4   \n4      26315    4575    4575    31     11        1        1               1   \n5      27355   12147       0    35      9        1        1               2   \n\n  pphouse ppincimp  ... pp2_ppt1317 pp2_ppt18ov pp2_ppt25 pp2_ppt612  \\\n1       3        7  ...           0           2         0          0   \n2       3       11  ...           0           2         0          0   \n3       3       10  ...           1           3         0          0   \n4       3       11  ...           0           1         0          0   \n5       2       11  ...           0           2         0          0   \n\n  pp2_ppwork pp2_ppnet pp2_ppcmdate_yrmo w2_HCMST_interview_fin_yrmo w2_q10  \\\n1          4         1            200905                      201003      0   \n2          1         1            200904                      201003      0   \n3          1         1            200904                           0      0   \n4          1         1            200905                      201003      1   \n5          2         1            200904                           0      0   \n\n  w2_broke_up  \n1           0  \n2           0  \n3           0  \n4           1  \n5           0  \n\n[5 rows x 145 columns]",
            "text/html": "<div>\n<style scoped>\n    .dataframe tbody tr th:only-of-type {\n        vertical-align: middle;\n    }\n\n    .dataframe tbody tr th {\n        vertical-align: top;\n    }\n\n    .dataframe thead th {\n        text-align: right;\n    }\n</style>\n<table border=\"1\" class=\"dataframe\">\n  <thead>\n    <tr style=\"text-align: right;\">\n      <th></th>\n      <th>caseid_new</th>\n      <th>weight1</th>\n      <th>weight2</th>\n      <th>ppage</th>\n      <th>ppeduc</th>\n      <th>ppgender</th>\n      <th>pphhhead</th>\n      <th>pphouseholdsize</th>\n      <th>pphouse</th>\n      <th>ppincimp</th>\n      <th>...</th>\n      <th>pp2_ppt1317</th>\n      <th>pp2_ppt18ov</th>\n      <th>pp2_ppt25</th>\n      <th>pp2_ppt612</th>\n      <th>pp2_ppwork</th>\n      <th>pp2_ppnet</th>\n      <th>pp2_ppcmdate_yrmo</th>\n      <th>w2_HCMST_interview_fin_yrmo</th>\n      <th>w2_q10</th>\n      <th>w2_broke_up</th>\n    </tr>\n  </thead>\n  <tbody>\n    <tr>\n      <th>1</th>\n      <td>22526</td>\n      <td>4265</td>\n      <td>4265</td>\n      <td>52</td>\n      <td>12</td>\n      <td>2</td>\n      <td>1</td>\n      <td>2</td>\n      <td>3</td>\n      <td>7</td>\n      <td>...</td>\n      <td>0</td>\n      <td>2</td>\n      <td>0</td>\n      <td>0</td>\n      <td>4</td>\n      <td>1</td>\n      <td>200905</td>\n      <td>201003</td>\n      <td>0</td>\n      <td>0</td>\n    </tr>\n    <tr>\n      <th>2</th>\n      <td>23286</td>\n      <td>16485</td>\n      <td>16485</td>\n      <td>28</td>\n      <td>13</td>\n      <td>2</td>\n      <td>1</td>\n      <td>2</td>\n      <td>3</td>\n      <td>11</td>\n      <td>...</td>\n      <td>0</td>\n      <td>2</td>\n      <td>0</td>\n      <td>0</td>\n      <td>1</td>\n      <td>1</td>\n      <td>200904</td>\n      <td>201003</td>\n      <td>0</td>\n      <td>0</td>\n    </tr>\n    <tr>\n      <th>3</th>\n      <td>25495</td>\n      <td>52464</td>\n      <td>0</td>\n      <td>49</td>\n      <td>9</td>\n      <td>2</td>\n      <td>1</td>\n      <td>4</td>\n      <td>3</td>\n      <td>10</td>\n      <td>...</td>\n      <td>1</td>\n      <td>3</td>\n      <td>0</td>\n      <td>0</td>\n      <td>1</td>\n      <td>1</td>\n      <td>200904</td>\n      <td>0</td>\n      <td>0</td>\n      <td>0</td>\n    </tr>\n    <tr>\n      <th>4</th>\n      <td>26315</td>\n      <td>4575</td>\n      <td>4575</td>\n      <td>31</td>\n      <td>11</td>\n      <td>1</td>\n      <td>1</td>\n      <td>1</td>\n      <td>3</td>\n      <td>11</td>\n      <td>...</td>\n      <td>0</td>\n      <td>1</td>\n      <td>0</td>\n      <td>0</td>\n      <td>1</td>\n      <td>1</td>\n      <td>200905</td>\n      <td>201003</td>\n      <td>1</td>\n      <td>1</td>\n    </tr>\n    <tr>\n      <th>5</th>\n      <td>27355</td>\n      <td>12147</td>\n      <td>0</td>\n      <td>35</td>\n      <td>9</td>\n      <td>1</td>\n      <td>1</td>\n      <td>2</td>\n      <td>2</td>\n      <td>11</td>\n      <td>...</td>\n      <td>0</td>\n      <td>2</td>\n      <td>0</td>\n      <td>0</td>\n      <td>2</td>\n      <td>1</td>\n      <td>200904</td>\n      <td>0</td>\n      <td>0</td>\n      <td>0</td>\n    </tr>\n  </tbody>\n</table>\n<p>5 rows × 145 columns</p>\n</div>"
          },
          "metadata": {}
        }
      ],
      "execution_count": 143,
      "metadata": {
        "jupyter": {
          "source_hidden": false,
          "outputs_hidden": false
        },
        "nteract": {
          "transient": {
            "deleting": false
          }
        },
        "gather": {
          "logged": 1730034271579
        }
      }
    },
    {
      "cell_type": "code",
      "source": [
        "categorical_columns = [\n",
        "    'ppeduc', 'pphhhead', 'pphouse', 'ppincimp', 'ppmarit', \n",
        "    'ppmsacat', 'pprent', 'ppgender', 'ppwork', 'pppartyid3', \n",
        "    'papreligion', 'glbstatus', 'qflag', 'pphispan', 'pprace_white', 'pprace_black', \n",
        "    'pprace_chinese', 'pprace_filipino', 'pprace_japanese', 'pprace_korean',\n",
        "    'pprace_vietnamese', 'pprace_otherasian', 's1a','pp2_respondent_yrsed',\n",
        "    'pprace_nativeamerican', 'pprace_asianindian', 'pprace_hawaiian', \n",
        "    'pprace_guamanian', 'pprace_samoan', 'pprace_otherpacificislander', \n",
        "    'pprace_someotherrace', 's1', 's2', 'q4', 'q5', 'q6a', 'q6b', 'q7b'\n",
        "    ,'q10', 'q15a1_compressed', 'q17b', 'q19', 'q20', \n",
        "    'q22', 'q23', 'q25', 'q26', 'q27', 'q28', \n",
        "    'q29', 'q30', 'q31_1', 'q31_2', 'q31_3', 'q31_4', 'q31_5', 'q31_6', 'q31_7', \n",
        "    'q31_8', 'q31_9', 'q31_other_text_entered', 'q32', 'q33_1', 'q33_2', 'q33_3', \n",
        "    'q33_4', 'q33_5', 'q33_6', 'q33_7', 'q33_other_text_entered', 'q34', 'q24_met_online', \n",
        "    'q24_btwn_I_cowork', 'q24_btwn_I_friend', 'q24_btwn_I_family', 'q24_btwn_I_sig_other', \n",
        "    'q24_btwn_I_neighbor', 'q24_school', 'q24_college', 'q24_military', 'q24_church', \n",
        "    'q24_vol_org', 'q24_customer', 'q24_bar_restaurant', 'q24_internet_dating', \n",
        "    'q24_internet_social_networking', 'q24_internet_game', 'q24_internet_chat', \n",
        "    'q24_internet_community', 'q24_internet_other', 'q24_public', 'q24_private_party', \n",
        "    'q24_blind_date', 'q24_vacation', 'q24_singles_service_non_internet', 'q24_business_trip', \n",
        "    'q24_work_neighbor', 'met_through_friends', 'met_through_family', 'met_through_as_neighbors', \n",
        "    'met_through_as_coworkers', 'parental_approval', 'relationship_quality', 'coresident', \n",
        "    'pp2_afterp1', 'pp2_pphhhead', 'pp2_pphouse', 'pp2_ppincimp', 'pp2_ppmarit', \n",
        "    'pp2_ppmsacat', 'pp2_ppeduc', 'pp2_ppeducat', 'pp2_ppethm', 'pp2_ppreg4', 'pp2_ppreg9', \n",
        "    'pp2_pprent', 'pp2_ppt01', 'pp2_ppt1317', 'pp2_ppt25', 'pp2_ppt612', \n",
        "    'pp2_ppwork', 'pp2_ppnet', 'w2_q10', 'w2_broke_up'\n",
        "]\n",
        "\n",
        "numerical_columns = [\n",
        "    'caseid_new', 'weight1', 'weight2', 'ppage', 'ppt18ov', 'pp2_ppt18ov',  \n",
        "    'pphouseholdsize', 'children_in_hh', 'age_difference', 'pp2_pphhsize', 'q21a', 'q21b', \n",
        "    'q21c', 'q21d', 'q9', 'q16', \n",
        "]\n",
        "\n",
        "date_columns = [\n",
        "    'ppppcmdate_yrmo', 'pppadate_yrmo', 'HCMST_main_interview_yrmo', 'pp2_ppcmdate_yrmo', \n",
        "    'w2_HCMST_interview_fin_yrmo'\n",
        "]\n",
        "\n",
        "for col in categorical_columns:\n",
        "    df[col] = df[col].astype('category')\n",
        "\n",
        "for col in numerical_columns:\n",
        "    df[col] = df[col].astype(int)\n",
        "\n",
        "for col in date_columns:\n",
        "    df[col] = pd.to_datetime(df[col])\n",
        "\n",
        "df.info()"
      ],
      "outputs": [
        {
          "output_type": "stream",
          "name": "stdout",
          "text": "<class 'pandas.core.frame.DataFrame'>\nInt64Index: 4002 entries, 1 to 4002\nColumns: 145 entries, caseid_new to w2_broke_up\ndtypes: category(124), datetime64[ns](5), int64(16)\nmemory usage: 1.2 MB\n"
        }
      ],
      "execution_count": 144,
      "metadata": {
        "jupyter": {
          "source_hidden": false,
          "outputs_hidden": false
        },
        "nteract": {
          "transient": {
            "deleting": false
          }
        },
        "gather": {
          "logged": 1730034272132
        }
      }
    },
    {
      "cell_type": "markdown",
      "source": [
        "## Initial Data Analysis"
      ],
      "metadata": {
        "nteract": {
          "transient": {
            "deleting": false
          }
        }
      }
    },
    {
      "cell_type": "markdown",
      "source": [
        "### Numerical Data"
      ],
      "metadata": {
        "nteract": {
          "transient": {
            "deleting": false
          }
        }
      }
    },
    {
      "cell_type": "code",
      "source": [
        "df.describe().T"
      ],
      "outputs": [
        {
          "output_type": "execute_result",
          "execution_count": 145,
          "data": {
            "text/plain": "                  count          mean           std      min         25%  \\\ncaseid_new       4002.0  2.285675e+06  1.341961e+06  22526.0  1114896.00   \nweight1          4002.0  5.642462e+04  4.924898e+04    522.0    20025.25   \nweight2          4002.0  4.248311e+04  4.910296e+04      0.0      522.00   \nppage            4002.0  4.750975e+01  1.649708e+01     19.0       34.25   \npphouseholdsize  4002.0  2.578461e+00  1.491110e+00      1.0        2.00   \nppt18ov          4002.0  2.067466e+00  1.007816e+00      1.0        1.00   \nchildren_in_hh   4002.0  4.037981e-01  8.495205e-01      0.0        0.00   \nq9               4002.0  3.446027e+01  2.419613e+01      0.0        0.00   \nq16              4002.0  2.997251e+00  5.251414e+00      0.0        0.00   \nq21a             4002.0  2.042179e+01  1.572241e+01      0.0        0.00   \nq21b             4002.0  2.145677e+01  1.621140e+01      0.0        0.00   \nq21c             4002.0  1.818991e+01  1.633575e+01      0.0        0.00   \nq21d             4002.0  1.362319e+01  1.586843e+01      0.0        0.00   \nage_difference   4002.0  3.540230e+00  5.129662e+00      0.0        0.00   \npp2_pphhsize     4002.0  2.373313e+00  1.577956e+00      0.0        1.00   \npp2_ppt18ov      4002.0  1.867066e+00  1.044771e+00      0.0        1.00   \n\n                       50%         75%        max  \ncaseid_new       2273181.0  3438307.50  4628251.0  \nweight1            49370.5    74526.25   264379.0  \nweight2            35925.5    63704.75   264379.0  \nppage                 47.0       59.00       95.0  \npphouseholdsize        2.0        3.00       15.0  \nppt18ov                2.0        2.00        8.0  \nchildren_in_hh         0.0        0.00        7.0  \nq9                    37.0       52.00       99.0  \nq16                    1.0        4.00       50.0  \nq21a                  20.0       29.00       85.0  \nq21b                  21.0       31.00       87.0  \nq21c                  21.0       28.00       83.0  \nq21d                   0.0       25.00       78.0  \nage_difference         2.0        5.00       70.0  \npp2_pphhsize           2.0        3.00       12.0  \npp2_ppt18ov            2.0        2.00       12.0  ",
            "text/html": "<div>\n<style scoped>\n    .dataframe tbody tr th:only-of-type {\n        vertical-align: middle;\n    }\n\n    .dataframe tbody tr th {\n        vertical-align: top;\n    }\n\n    .dataframe thead th {\n        text-align: right;\n    }\n</style>\n<table border=\"1\" class=\"dataframe\">\n  <thead>\n    <tr style=\"text-align: right;\">\n      <th></th>\n      <th>count</th>\n      <th>mean</th>\n      <th>std</th>\n      <th>min</th>\n      <th>25%</th>\n      <th>50%</th>\n      <th>75%</th>\n      <th>max</th>\n    </tr>\n  </thead>\n  <tbody>\n    <tr>\n      <th>caseid_new</th>\n      <td>4002.0</td>\n      <td>2.285675e+06</td>\n      <td>1.341961e+06</td>\n      <td>22526.0</td>\n      <td>1114896.00</td>\n      <td>2273181.0</td>\n      <td>3438307.50</td>\n      <td>4628251.0</td>\n    </tr>\n    <tr>\n      <th>weight1</th>\n      <td>4002.0</td>\n      <td>5.642462e+04</td>\n      <td>4.924898e+04</td>\n      <td>522.0</td>\n      <td>20025.25</td>\n      <td>49370.5</td>\n      <td>74526.25</td>\n      <td>264379.0</td>\n    </tr>\n    <tr>\n      <th>weight2</th>\n      <td>4002.0</td>\n      <td>4.248311e+04</td>\n      <td>4.910296e+04</td>\n      <td>0.0</td>\n      <td>522.00</td>\n      <td>35925.5</td>\n      <td>63704.75</td>\n      <td>264379.0</td>\n    </tr>\n    <tr>\n      <th>ppage</th>\n      <td>4002.0</td>\n      <td>4.750975e+01</td>\n      <td>1.649708e+01</td>\n      <td>19.0</td>\n      <td>34.25</td>\n      <td>47.0</td>\n      <td>59.00</td>\n      <td>95.0</td>\n    </tr>\n    <tr>\n      <th>pphouseholdsize</th>\n      <td>4002.0</td>\n      <td>2.578461e+00</td>\n      <td>1.491110e+00</td>\n      <td>1.0</td>\n      <td>2.00</td>\n      <td>2.0</td>\n      <td>3.00</td>\n      <td>15.0</td>\n    </tr>\n    <tr>\n      <th>ppt18ov</th>\n      <td>4002.0</td>\n      <td>2.067466e+00</td>\n      <td>1.007816e+00</td>\n      <td>1.0</td>\n      <td>1.00</td>\n      <td>2.0</td>\n      <td>2.00</td>\n      <td>8.0</td>\n    </tr>\n    <tr>\n      <th>children_in_hh</th>\n      <td>4002.0</td>\n      <td>4.037981e-01</td>\n      <td>8.495205e-01</td>\n      <td>0.0</td>\n      <td>0.00</td>\n      <td>0.0</td>\n      <td>0.00</td>\n      <td>7.0</td>\n    </tr>\n    <tr>\n      <th>q9</th>\n      <td>4002.0</td>\n      <td>3.446027e+01</td>\n      <td>2.419613e+01</td>\n      <td>0.0</td>\n      <td>0.00</td>\n      <td>37.0</td>\n      <td>52.00</td>\n      <td>99.0</td>\n    </tr>\n    <tr>\n      <th>q16</th>\n      <td>4002.0</td>\n      <td>2.997251e+00</td>\n      <td>5.251414e+00</td>\n      <td>0.0</td>\n      <td>0.00</td>\n      <td>1.0</td>\n      <td>4.00</td>\n      <td>50.0</td>\n    </tr>\n    <tr>\n      <th>q21a</th>\n      <td>4002.0</td>\n      <td>2.042179e+01</td>\n      <td>1.572241e+01</td>\n      <td>0.0</td>\n      <td>0.00</td>\n      <td>20.0</td>\n      <td>29.00</td>\n      <td>85.0</td>\n    </tr>\n    <tr>\n      <th>q21b</th>\n      <td>4002.0</td>\n      <td>2.145677e+01</td>\n      <td>1.621140e+01</td>\n      <td>0.0</td>\n      <td>0.00</td>\n      <td>21.0</td>\n      <td>31.00</td>\n      <td>87.0</td>\n    </tr>\n    <tr>\n      <th>q21c</th>\n      <td>4002.0</td>\n      <td>1.818991e+01</td>\n      <td>1.633575e+01</td>\n      <td>0.0</td>\n      <td>0.00</td>\n      <td>21.0</td>\n      <td>28.00</td>\n      <td>83.0</td>\n    </tr>\n    <tr>\n      <th>q21d</th>\n      <td>4002.0</td>\n      <td>1.362319e+01</td>\n      <td>1.586843e+01</td>\n      <td>0.0</td>\n      <td>0.00</td>\n      <td>0.0</td>\n      <td>25.00</td>\n      <td>78.0</td>\n    </tr>\n    <tr>\n      <th>age_difference</th>\n      <td>4002.0</td>\n      <td>3.540230e+00</td>\n      <td>5.129662e+00</td>\n      <td>0.0</td>\n      <td>0.00</td>\n      <td>2.0</td>\n      <td>5.00</td>\n      <td>70.0</td>\n    </tr>\n    <tr>\n      <th>pp2_pphhsize</th>\n      <td>4002.0</td>\n      <td>2.373313e+00</td>\n      <td>1.577956e+00</td>\n      <td>0.0</td>\n      <td>1.00</td>\n      <td>2.0</td>\n      <td>3.00</td>\n      <td>12.0</td>\n    </tr>\n    <tr>\n      <th>pp2_ppt18ov</th>\n      <td>4002.0</td>\n      <td>1.867066e+00</td>\n      <td>1.044771e+00</td>\n      <td>0.0</td>\n      <td>1.00</td>\n      <td>2.0</td>\n      <td>2.00</td>\n      <td>12.0</td>\n    </tr>\n  </tbody>\n</table>\n</div>"
          },
          "metadata": {}
        }
      ],
      "execution_count": 145,
      "metadata": {
        "jupyter": {
          "source_hidden": false,
          "outputs_hidden": false
        },
        "nteract": {
          "transient": {
            "deleting": false
          }
        },
        "gather": {
          "logged": 1730034272517
        }
      }
    },
    {
      "cell_type": "markdown",
      "source": [
        "### Categorical Data"
      ],
      "metadata": {
        "nteract": {
          "transient": {
            "deleting": false
          }
        }
      }
    },
    {
      "cell_type": "code",
      "source": [
        "df.describe(include= 'category').T"
      ],
      "outputs": [
        {
          "output_type": "execute_result",
          "execution_count": 146,
          "data": {
            "text/plain": "              count  unique   top    freq\nppeduc       4002.0    14.0   9.0   987.0\nppgender     4002.0     2.0   2.0  2035.0\npphhhead     4002.0     2.0   1.0  3253.0\npphouse      4002.0     5.0   1.0  2779.0\nppincimp     4002.0    19.0  13.0   461.0\n...             ...     ...   ...     ...\npp2_ppt612   4002.0     7.0   0.0  3445.0\npp2_ppwork   4002.0     8.0   1.0  1947.0\npp2_ppnet    4002.0     2.0   1.0  2722.0\nw2_q10       4002.0     4.0   0.0  3787.0\nw2_broke_up  4002.0     3.0   0.0  3713.0\n\n[124 rows x 4 columns]",
            "text/html": "<div>\n<style scoped>\n    .dataframe tbody tr th:only-of-type {\n        vertical-align: middle;\n    }\n\n    .dataframe tbody tr th {\n        vertical-align: top;\n    }\n\n    .dataframe thead th {\n        text-align: right;\n    }\n</style>\n<table border=\"1\" class=\"dataframe\">\n  <thead>\n    <tr style=\"text-align: right;\">\n      <th></th>\n      <th>count</th>\n      <th>unique</th>\n      <th>top</th>\n      <th>freq</th>\n    </tr>\n  </thead>\n  <tbody>\n    <tr>\n      <th>ppeduc</th>\n      <td>4002.0</td>\n      <td>14.0</td>\n      <td>9.0</td>\n      <td>987.0</td>\n    </tr>\n    <tr>\n      <th>ppgender</th>\n      <td>4002.0</td>\n      <td>2.0</td>\n      <td>2.0</td>\n      <td>2035.0</td>\n    </tr>\n    <tr>\n      <th>pphhhead</th>\n      <td>4002.0</td>\n      <td>2.0</td>\n      <td>1.0</td>\n      <td>3253.0</td>\n    </tr>\n    <tr>\n      <th>pphouse</th>\n      <td>4002.0</td>\n      <td>5.0</td>\n      <td>1.0</td>\n      <td>2779.0</td>\n    </tr>\n    <tr>\n      <th>ppincimp</th>\n      <td>4002.0</td>\n      <td>19.0</td>\n      <td>13.0</td>\n      <td>461.0</td>\n    </tr>\n    <tr>\n      <th>...</th>\n      <td>...</td>\n      <td>...</td>\n      <td>...</td>\n      <td>...</td>\n    </tr>\n    <tr>\n      <th>pp2_ppt612</th>\n      <td>4002.0</td>\n      <td>7.0</td>\n      <td>0.0</td>\n      <td>3445.0</td>\n    </tr>\n    <tr>\n      <th>pp2_ppwork</th>\n      <td>4002.0</td>\n      <td>8.0</td>\n      <td>1.0</td>\n      <td>1947.0</td>\n    </tr>\n    <tr>\n      <th>pp2_ppnet</th>\n      <td>4002.0</td>\n      <td>2.0</td>\n      <td>1.0</td>\n      <td>2722.0</td>\n    </tr>\n    <tr>\n      <th>w2_q10</th>\n      <td>4002.0</td>\n      <td>4.0</td>\n      <td>0.0</td>\n      <td>3787.0</td>\n    </tr>\n    <tr>\n      <th>w2_broke_up</th>\n      <td>4002.0</td>\n      <td>3.0</td>\n      <td>0.0</td>\n      <td>3713.0</td>\n    </tr>\n  </tbody>\n</table>\n<p>124 rows × 4 columns</p>\n</div>"
          },
          "metadata": {}
        }
      ],
      "execution_count": 146,
      "metadata": {
        "jupyter": {
          "source_hidden": false,
          "outputs_hidden": false
        },
        "nteract": {
          "transient": {
            "deleting": false
          }
        },
        "gather": {
          "logged": 1730034273007
        }
      }
    },
    {
      "cell_type": "markdown",
      "source": [
        "##### **Inferences:**\n\n**1. ppage:** \n- Ages range from 19 to 95 showing that the dataset includes a wide spectrum of adult ages\n- The average age of the respondents is 47 years\n- Half of the respondents are between 34 and 59 years old\n\n**2. q9:**\n- Partner ages range from 0 (indicates an anomalie in the data or null value) to 99.\n- The average as is 37\n\n**2.pphouseholdsize:**\n- The minimum household size is 1 while the maximum is 15 people\n- Most respondents live in households with 2 or 3 people. Only a small portion lives in households larger than 3\n\n**3.children_in_hh:**\n- The minimum is 0 and the maximum is 6, indicating that some households have up to 6 kids\n- The majority of households do not have children\n\n**4.age_difference:**\n- The mean age difference between respondents and their partners is 2 years\n- Age differences range from 0 to 70 years, indicating there are some cases with substantial age gaps between partners.\n- Most of the respondents have an age gap of 5 years\n\n**5.pp2_pphhsize:**\n- The minimum household size is 0 (potentially indicating the respondent hasn´t answer the question), while the maximum is 12\n- Most respondents live in households with 2 or 3 people, similar to wave 1\n\n**6.ppeduc:**\n- There is 14 different education levels\n- 987 respondents (approx 24% of the respondents) have completed high school or obtained a GED\n\n**7.ppgender:**\n- There are 2035 women in the dataset which represents 50.9% of the data\n\n**8.pphhhead:**\n- 3253 respondents (81%) are heads of their households\n\n**9.ppincimp:**\n- There are 19 different income levels\n- 461 respondents (11,6%) report an annual income between 60.000€ and 74.999€"
      ],
      "metadata": {
        "nteract": {
          "transient": {
            "deleting": false
          }
        }
      }
    },
    {
      "cell_type": "markdown",
      "source": [
        "We found an error where **household** size is **recorded as 0**. We'll **identify** and **handle** these cases appropriately."
      ],
      "metadata": {
        "nteract": {
          "transient": {
            "deleting": false
          }
        }
      }
    },
    {
      "cell_type": "markdown",
      "source": [
        "## Data Cleaning and Transformation"
      ],
      "metadata": {
        "nteract": {
          "transient": {
            "deleting": false
          }
        }
      }
    },
    {
      "cell_type": "markdown",
      "source": [
        "### Correcting anomalies"
      ],
      "metadata": {
        "nteract": {
          "transient": {
            "deleting": false
          }
        }
      }
    },
    {
      "cell_type": "code",
      "source": [
        "pphhsize2_zero = df[df['pp2_pphhsize'] == 0]\n",
        "pphhsize2_zero"
      ],
      "outputs": [
        {
          "output_type": "execute_result",
          "execution_count": 147,
          "data": {
            "text/plain": "      caseid_new  weight1  weight2  ppage ppeduc ppgender pphhhead  \\\n11         32656     2189     2189     65     13        2        1   \n33         55686     2170     2170     68     12        1        1   \n86        108501    33960    33960     50     14        1        1   \n129       153673     1624        0     67     12        2        1   \n150       174603    62958    62958     60     12        2        1   \n...          ...      ...      ...    ...    ...      ...      ...   \n3983     4607235    24695    24695     23     10        2        0   \n3985     4609371    38169    38169     37     12        2        1   \n3996     4621371    41156    41156     37     12        1        1   \n4000     4626536     2121     2121     53     11        2        0   \n4001     4627251    41771    41771     25     11        2        1   \n\n      pphouseholdsize pphouse ppincimp  ... pp2_ppt1317 pp2_ppt18ov pp2_ppt25  \\\n11                  2       1       17  ...           0           0         0   \n33                  2       1       10  ...           0           0         0   \n86                  2       1       14  ...           0           0         0   \n129                 1       3        4  ...           0           0         0   \n150                 1       2       10  ...           0           0         0   \n...               ...     ...      ...  ...         ...         ...       ...   \n3983                2       3        3  ...           0           0         0   \n3985                2       1       19  ...           0           0         0   \n3996                3       1       17  ...           0           0         0   \n4000                2       2       18  ...           0           0         0   \n4001                3       1       13  ...           0           0         0   \n\n      pp2_ppt612  pp2_ppwork pp2_ppnet pp2_ppcmdate_yrmo  \\\n11             0           0         0        1970-01-01   \n33             0           0         0        1970-01-01   \n86             0           0         0        1970-01-01   \n129            0           0         0        1970-01-01   \n150            0           0         0        1970-01-01   \n...          ...         ...       ...               ...   \n3983           0           0         0        1970-01-01   \n3985           0           0         0        1970-01-01   \n3996           0           0         0        1970-01-01   \n4000           0           0         0        1970-01-01   \n4001           0           0         0        1970-01-01   \n\n       w2_HCMST_interview_fin_yrmo w2_q10 w2_broke_up  \n11   1970-01-01 00:00:00.000000000      0           0  \n33   1970-01-01 00:00:00.000000000      0           0  \n86   1970-01-01 00:00:00.000201004      0           0  \n129  1970-01-01 00:00:00.000000000      0           0  \n150  1970-01-01 00:00:00.000201003      0           0  \n...                            ...    ...         ...  \n3983 1970-01-01 00:00:00.000000000      0           0  \n3985 1970-01-01 00:00:00.000000000      0           0  \n3996 1970-01-01 00:00:00.000201003      0           0  \n4000 1970-01-01 00:00:00.000000000      0           0  \n4001 1970-01-01 00:00:00.000000000      0           0  \n\n[309 rows x 145 columns]",
            "text/html": "<div>\n<style scoped>\n    .dataframe tbody tr th:only-of-type {\n        vertical-align: middle;\n    }\n\n    .dataframe tbody tr th {\n        vertical-align: top;\n    }\n\n    .dataframe thead th {\n        text-align: right;\n    }\n</style>\n<table border=\"1\" class=\"dataframe\">\n  <thead>\n    <tr style=\"text-align: right;\">\n      <th></th>\n      <th>caseid_new</th>\n      <th>weight1</th>\n      <th>weight2</th>\n      <th>ppage</th>\n      <th>ppeduc</th>\n      <th>ppgender</th>\n      <th>pphhhead</th>\n      <th>pphouseholdsize</th>\n      <th>pphouse</th>\n      <th>ppincimp</th>\n      <th>...</th>\n      <th>pp2_ppt1317</th>\n      <th>pp2_ppt18ov</th>\n      <th>pp2_ppt25</th>\n      <th>pp2_ppt612</th>\n      <th>pp2_ppwork</th>\n      <th>pp2_ppnet</th>\n      <th>pp2_ppcmdate_yrmo</th>\n      <th>w2_HCMST_interview_fin_yrmo</th>\n      <th>w2_q10</th>\n      <th>w2_broke_up</th>\n    </tr>\n  </thead>\n  <tbody>\n    <tr>\n      <th>11</th>\n      <td>32656</td>\n      <td>2189</td>\n      <td>2189</td>\n      <td>65</td>\n      <td>13</td>\n      <td>2</td>\n      <td>1</td>\n      <td>2</td>\n      <td>1</td>\n      <td>17</td>\n      <td>...</td>\n      <td>0</td>\n      <td>0</td>\n      <td>0</td>\n      <td>0</td>\n      <td>0</td>\n      <td>0</td>\n      <td>1970-01-01</td>\n      <td>1970-01-01 00:00:00.000000000</td>\n      <td>0</td>\n      <td>0</td>\n    </tr>\n    <tr>\n      <th>33</th>\n      <td>55686</td>\n      <td>2170</td>\n      <td>2170</td>\n      <td>68</td>\n      <td>12</td>\n      <td>1</td>\n      <td>1</td>\n      <td>2</td>\n      <td>1</td>\n      <td>10</td>\n      <td>...</td>\n      <td>0</td>\n      <td>0</td>\n      <td>0</td>\n      <td>0</td>\n      <td>0</td>\n      <td>0</td>\n      <td>1970-01-01</td>\n      <td>1970-01-01 00:00:00.000000000</td>\n      <td>0</td>\n      <td>0</td>\n    </tr>\n    <tr>\n      <th>86</th>\n      <td>108501</td>\n      <td>33960</td>\n      <td>33960</td>\n      <td>50</td>\n      <td>14</td>\n      <td>1</td>\n      <td>1</td>\n      <td>2</td>\n      <td>1</td>\n      <td>14</td>\n      <td>...</td>\n      <td>0</td>\n      <td>0</td>\n      <td>0</td>\n      <td>0</td>\n      <td>0</td>\n      <td>0</td>\n      <td>1970-01-01</td>\n      <td>1970-01-01 00:00:00.000201004</td>\n      <td>0</td>\n      <td>0</td>\n    </tr>\n    <tr>\n      <th>129</th>\n      <td>153673</td>\n      <td>1624</td>\n      <td>0</td>\n      <td>67</td>\n      <td>12</td>\n      <td>2</td>\n      <td>1</td>\n      <td>1</td>\n      <td>3</td>\n      <td>4</td>\n      <td>...</td>\n      <td>0</td>\n      <td>0</td>\n      <td>0</td>\n      <td>0</td>\n      <td>0</td>\n      <td>0</td>\n      <td>1970-01-01</td>\n      <td>1970-01-01 00:00:00.000000000</td>\n      <td>0</td>\n      <td>0</td>\n    </tr>\n    <tr>\n      <th>150</th>\n      <td>174603</td>\n      <td>62958</td>\n      <td>62958</td>\n      <td>60</td>\n      <td>12</td>\n      <td>2</td>\n      <td>1</td>\n      <td>1</td>\n      <td>2</td>\n      <td>10</td>\n      <td>...</td>\n      <td>0</td>\n      <td>0</td>\n      <td>0</td>\n      <td>0</td>\n      <td>0</td>\n      <td>0</td>\n      <td>1970-01-01</td>\n      <td>1970-01-01 00:00:00.000201003</td>\n      <td>0</td>\n      <td>0</td>\n    </tr>\n    <tr>\n      <th>...</th>\n      <td>...</td>\n      <td>...</td>\n      <td>...</td>\n      <td>...</td>\n      <td>...</td>\n      <td>...</td>\n      <td>...</td>\n      <td>...</td>\n      <td>...</td>\n      <td>...</td>\n      <td>...</td>\n      <td>...</td>\n      <td>...</td>\n      <td>...</td>\n      <td>...</td>\n      <td>...</td>\n      <td>...</td>\n      <td>...</td>\n      <td>...</td>\n      <td>...</td>\n      <td>...</td>\n    </tr>\n    <tr>\n      <th>3983</th>\n      <td>4607235</td>\n      <td>24695</td>\n      <td>24695</td>\n      <td>23</td>\n      <td>10</td>\n      <td>2</td>\n      <td>0</td>\n      <td>2</td>\n      <td>3</td>\n      <td>3</td>\n      <td>...</td>\n      <td>0</td>\n      <td>0</td>\n      <td>0</td>\n      <td>0</td>\n      <td>0</td>\n      <td>0</td>\n      <td>1970-01-01</td>\n      <td>1970-01-01 00:00:00.000000000</td>\n      <td>0</td>\n      <td>0</td>\n    </tr>\n    <tr>\n      <th>3985</th>\n      <td>4609371</td>\n      <td>38169</td>\n      <td>38169</td>\n      <td>37</td>\n      <td>12</td>\n      <td>2</td>\n      <td>1</td>\n      <td>2</td>\n      <td>1</td>\n      <td>19</td>\n      <td>...</td>\n      <td>0</td>\n      <td>0</td>\n      <td>0</td>\n      <td>0</td>\n      <td>0</td>\n      <td>0</td>\n      <td>1970-01-01</td>\n      <td>1970-01-01 00:00:00.000000000</td>\n      <td>0</td>\n      <td>0</td>\n    </tr>\n    <tr>\n      <th>3996</th>\n      <td>4621371</td>\n      <td>41156</td>\n      <td>41156</td>\n      <td>37</td>\n      <td>12</td>\n      <td>1</td>\n      <td>1</td>\n      <td>3</td>\n      <td>1</td>\n      <td>17</td>\n      <td>...</td>\n      <td>0</td>\n      <td>0</td>\n      <td>0</td>\n      <td>0</td>\n      <td>0</td>\n      <td>0</td>\n      <td>1970-01-01</td>\n      <td>1970-01-01 00:00:00.000201003</td>\n      <td>0</td>\n      <td>0</td>\n    </tr>\n    <tr>\n      <th>4000</th>\n      <td>4626536</td>\n      <td>2121</td>\n      <td>2121</td>\n      <td>53</td>\n      <td>11</td>\n      <td>2</td>\n      <td>0</td>\n      <td>2</td>\n      <td>2</td>\n      <td>18</td>\n      <td>...</td>\n      <td>0</td>\n      <td>0</td>\n      <td>0</td>\n      <td>0</td>\n      <td>0</td>\n      <td>0</td>\n      <td>1970-01-01</td>\n      <td>1970-01-01 00:00:00.000000000</td>\n      <td>0</td>\n      <td>0</td>\n    </tr>\n    <tr>\n      <th>4001</th>\n      <td>4627251</td>\n      <td>41771</td>\n      <td>41771</td>\n      <td>25</td>\n      <td>11</td>\n      <td>2</td>\n      <td>1</td>\n      <td>3</td>\n      <td>1</td>\n      <td>13</td>\n      <td>...</td>\n      <td>0</td>\n      <td>0</td>\n      <td>0</td>\n      <td>0</td>\n      <td>0</td>\n      <td>0</td>\n      <td>1970-01-01</td>\n      <td>1970-01-01 00:00:00.000000000</td>\n      <td>0</td>\n      <td>0</td>\n    </tr>\n  </tbody>\n</table>\n<p>309 rows × 145 columns</p>\n</div>"
          },
          "metadata": {}
        }
      ],
      "execution_count": 147,
      "metadata": {
        "jupyter": {
          "source_hidden": false,
          "outputs_hidden": false
        },
        "nteract": {
          "transient": {
            "deleting": false
          }
        },
        "gather": {
          "logged": 1730034274535
        }
      }
    },
    {
      "cell_type": "markdown",
      "source": [
        "**Inferences:**\n",
        "\n",
        "There is 3693 valid cases out of 4002"
      ],
      "metadata": {
        "nteract": {
          "transient": {
            "deleting": false
          }
        }
      }
    },
    {
      "cell_type": "markdown",
      "source": [
        "## Data Preprocessing"
      ],
      "metadata": {
        "nteract": {
          "transient": {
            "deleting": false
          }
        }
      }
    },
    {
      "cell_type": "markdown",
      "source": [
        "### Religion"
      ],
      "metadata": {
        "nteract": {
          "transient": {
            "deleting": false
          }
        }
      }
    },
    {
      "cell_type": "code",
      "source": [
        "religion_mapping = {\n",
        "    1: \"Baptist- any denomination\",\n",
        "    2: \"Protestant\",\n",
        "    3: \"Catholic\",\n",
        "    4: \"Mormon\",\n",
        "    5: \"Jewish\",\n",
        "    6: \"Muslim\",\n",
        "    7: \"Hindu\",\n",
        "    8: \"Buddhist\",\n",
        "    9: \"Pentecostal\",\n",
        "    10: \"Eastern Orthodox\",\n",
        "    11: \"Other Christian\",\n",
        "    12: \"Other non-Christian\",\n",
        "    13: \"None\"\n",
        "}"
      ],
      "outputs": [],
      "execution_count": 148,
      "metadata": {
        "jupyter": {
          "source_hidden": false,
          "outputs_hidden": false
        },
        "nteract": {
          "transient": {
            "deleting": false
          }
        },
        "gather": {
          "logged": 1730034279656
        }
      }
    },
    {
      "cell_type": "code",
      "source": [
        "religion_counts = df['papreligion'].map(religion_mapping).value_counts()\n",
        "\n",
        "# Compute percentages\n",
        "religion_percentages = (religion_counts / religion_counts.sum() * 100).round(1)\n",
        "\n",
        "# Create a DataFrame with counts and percentages\n",
        "religion_distribution = pd.DataFrame({\n",
        "    'Count': religion_counts,\n",
        "    'Percentage': religion_percentages\n",
        "})\n",
        "\n",
        "religion_distribution.sort_values(by='Count')\n"
      ],
      "outputs": [
        {
          "output_type": "execute_result",
          "execution_count": 149,
          "data": {
            "text/plain": "                           Count  Percentage\nMuslim                         8         0.2\nHindu                         13         0.3\nEastern Orthodox              15         0.4\nBuddhist                      33         0.8\nMormon                        66         1.7\nJewish                       110         2.8\nPentecostal                  110         2.8\nOther non-Christian          172         4.3\nOther Christian              482        12.1\nBaptist- any denomination    523        13.1\nNone                         640        16.1\nCatholic                     897        22.5\nProtestant                   918        23.0",
            "text/html": "<div>\n<style scoped>\n    .dataframe tbody tr th:only-of-type {\n        vertical-align: middle;\n    }\n\n    .dataframe tbody tr th {\n        vertical-align: top;\n    }\n\n    .dataframe thead th {\n        text-align: right;\n    }\n</style>\n<table border=\"1\" class=\"dataframe\">\n  <thead>\n    <tr style=\"text-align: right;\">\n      <th></th>\n      <th>Count</th>\n      <th>Percentage</th>\n    </tr>\n  </thead>\n  <tbody>\n    <tr>\n      <th>Muslim</th>\n      <td>8</td>\n      <td>0.2</td>\n    </tr>\n    <tr>\n      <th>Hindu</th>\n      <td>13</td>\n      <td>0.3</td>\n    </tr>\n    <tr>\n      <th>Eastern Orthodox</th>\n      <td>15</td>\n      <td>0.4</td>\n    </tr>\n    <tr>\n      <th>Buddhist</th>\n      <td>33</td>\n      <td>0.8</td>\n    </tr>\n    <tr>\n      <th>Mormon</th>\n      <td>66</td>\n      <td>1.7</td>\n    </tr>\n    <tr>\n      <th>Jewish</th>\n      <td>110</td>\n      <td>2.8</td>\n    </tr>\n    <tr>\n      <th>Pentecostal</th>\n      <td>110</td>\n      <td>2.8</td>\n    </tr>\n    <tr>\n      <th>Other non-Christian</th>\n      <td>172</td>\n      <td>4.3</td>\n    </tr>\n    <tr>\n      <th>Other Christian</th>\n      <td>482</td>\n      <td>12.1</td>\n    </tr>\n    <tr>\n      <th>Baptist- any denomination</th>\n      <td>523</td>\n      <td>13.1</td>\n    </tr>\n    <tr>\n      <th>None</th>\n      <td>640</td>\n      <td>16.1</td>\n    </tr>\n    <tr>\n      <th>Catholic</th>\n      <td>897</td>\n      <td>22.5</td>\n    </tr>\n    <tr>\n      <th>Protestant</th>\n      <td>918</td>\n      <td>23.0</td>\n    </tr>\n  </tbody>\n</table>\n</div>"
          },
          "metadata": {}
        }
      ],
      "execution_count": 149,
      "metadata": {
        "jupyter": {
          "source_hidden": false,
          "outputs_hidden": false
        },
        "nteract": {
          "transient": {
            "deleting": false
          }
        },
        "gather": {
          "logged": 1730034282298
        }
      }
    },
    {
      "cell_type": "code",
      "source": [
        "partner_religion_mapping = {\n",
        "    1: \"Baptist- any denomination\",\n",
        "    2: \"Protestant\",\n",
        "    3: \"Catholic\",\n",
        "    4: \"Mormon\",\n",
        "    5: \"Jewish\",\n",
        "    6: \"Muslim\",\n",
        "    7: \"Hindu\",\n",
        "    8: \"Buddhist\",\n",
        "    9: \"Pentecostal\",\n",
        "    10: \"Eastern Orthodox\",\n",
        "    11: \"Other Christian\",\n",
        "    12: \"Other non-Christian\",\n",
        "    13: \"None\"\n",
        "}"
      ],
      "outputs": [],
      "execution_count": 150,
      "metadata": {
        "jupyter": {
          "source_hidden": false,
          "outputs_hidden": false
        },
        "nteract": {
          "transient": {
            "deleting": false
          }
        },
        "gather": {
          "logged": 1730034285353
        }
      }
    },
    {
      "cell_type": "code",
      "source": [
        "partner_religion_counts = df['q7b'].map(partner_religion_mapping).value_counts()\n",
        "\n",
        "# Compute percentages\n",
        "partner_religion_percentages = (partner_religion_counts / partner_religion_counts.sum() * 100).round(1)\n",
        "\n",
        "# Create a DataFrame with counts and percentages\n",
        "partner_religion_distribution = pd.DataFrame({\n",
        "    'Count': partner_religion_counts,\n",
        "    'Percentage': partner_religion_percentages\n",
        "})\n",
        "\n",
        "partner_religion_distribution.sort_values(by='Count')"
      ],
      "outputs": [
        {
          "output_type": "execute_result",
          "execution_count": 151,
          "data": {
            "text/plain": "                           Count  Percentage\nHindu                          8         0.3\nEastern Orthodox              11         0.4\nMuslim                        13         0.4\nBuddhist                      18         0.6\nOther non-Christian           56         1.9\nMormon                        65         2.2\nPentecostal                   71         2.4\nJewish                        83         2.8\nOther Christian              372        12.4\nBaptist- any denomination    422        14.1\nNone                         542        18.0\nProtestant                   663        22.1\nCatholic                     679        22.6",
            "text/html": "<div>\n<style scoped>\n    .dataframe tbody tr th:only-of-type {\n        vertical-align: middle;\n    }\n\n    .dataframe tbody tr th {\n        vertical-align: top;\n    }\n\n    .dataframe thead th {\n        text-align: right;\n    }\n</style>\n<table border=\"1\" class=\"dataframe\">\n  <thead>\n    <tr style=\"text-align: right;\">\n      <th></th>\n      <th>Count</th>\n      <th>Percentage</th>\n    </tr>\n  </thead>\n  <tbody>\n    <tr>\n      <th>Hindu</th>\n      <td>8</td>\n      <td>0.3</td>\n    </tr>\n    <tr>\n      <th>Eastern Orthodox</th>\n      <td>11</td>\n      <td>0.4</td>\n    </tr>\n    <tr>\n      <th>Muslim</th>\n      <td>13</td>\n      <td>0.4</td>\n    </tr>\n    <tr>\n      <th>Buddhist</th>\n      <td>18</td>\n      <td>0.6</td>\n    </tr>\n    <tr>\n      <th>Other non-Christian</th>\n      <td>56</td>\n      <td>1.9</td>\n    </tr>\n    <tr>\n      <th>Mormon</th>\n      <td>65</td>\n      <td>2.2</td>\n    </tr>\n    <tr>\n      <th>Pentecostal</th>\n      <td>71</td>\n      <td>2.4</td>\n    </tr>\n    <tr>\n      <th>Jewish</th>\n      <td>83</td>\n      <td>2.8</td>\n    </tr>\n    <tr>\n      <th>Other Christian</th>\n      <td>372</td>\n      <td>12.4</td>\n    </tr>\n    <tr>\n      <th>Baptist- any denomination</th>\n      <td>422</td>\n      <td>14.1</td>\n    </tr>\n    <tr>\n      <th>None</th>\n      <td>542</td>\n      <td>18.0</td>\n    </tr>\n    <tr>\n      <th>Protestant</th>\n      <td>663</td>\n      <td>22.1</td>\n    </tr>\n    <tr>\n      <th>Catholic</th>\n      <td>679</td>\n      <td>22.6</td>\n    </tr>\n  </tbody>\n</table>\n</div>"
          },
          "metadata": {}
        }
      ],
      "execution_count": 151,
      "metadata": {
        "jupyter": {
          "source_hidden": false,
          "outputs_hidden": false
        },
        "nteract": {
          "transient": {
            "deleting": false
          }
        },
        "gather": {
          "logged": 1730034287779
        }
      }
    },
    {
      "cell_type": "markdown",
      "source": [
        "Now we want to know how is the **relationship quality** when partners have the **same religion**"
      ],
      "metadata": {
        "nteract": {
          "transient": {
            "deleting": false
          }
        }
      }
    },
    {
      "cell_type": "code",
      "source": [
        "relationship_quality_mapping = {\n",
        "    1: \"Excellent\",\n",
        "    2: \"Good\",\n",
        "    3: \"Fair\",\n",
        "    4: \"Poor\",\n",
        "    5: \"Very Poor\"\n",
        "}"
      ],
      "outputs": [],
      "execution_count": 152,
      "metadata": {
        "jupyter": {
          "source_hidden": false,
          "outputs_hidden": false
        },
        "nteract": {
          "transient": {
            "deleting": false
          }
        },
        "gather": {
          "logged": 1730034290854
        }
      }
    },
    {
      "cell_type": "code",
      "source": [
        "papreligion_temp = df['papreligion'].astype(str)\n",
        "q7b_temp = df['q7b'].astype(str)\n",
        "\n",
        "# Filter for rows where respondent's religion matches the partner's religion for each unique 'caseid'\n",
        "matching_religion = df[df['caseid_new'].isin(df[papreligion_temp == q7b_temp]['caseid_new'])]\n",
        "\n",
        "matching_religion['relationship_quality'] = matching_religion['q34'].map(relationship_quality_mapping )\n",
        "\n",
        "# Calculate the frequency of each relationship quality (q34_mapped) among those respondents\n",
        "relationship_quality_counts = matching_religion['relationship_quality'].value_counts().sort_index()\n",
        "\n",
        "# Convert counts to percentages\n",
        "total_matching = relationship_quality_counts.sum()\n",
        "relationship_quality_percentages = (relationship_quality_counts / total_matching * 100).round(1)\n",
        "\n",
        "# Create a DataFrame with counts and percentages for relationship quality\n",
        "relationship_quality_distribution = pd.DataFrame({\n",
        "    'Relationship Quality': relationship_quality_counts.index,\n",
        "    'Count': relationship_quality_counts.values,\n",
        "    'Percentage': relationship_quality_percentages.values\n",
        "})\n",
        "\n",
        "# Display the resulting DataFrame\n",
        "relationship_quality_distribution"
      ],
      "outputs": [
        {
          "output_type": "stream",
          "name": "stderr",
          "text": "/tmp/ipykernel_3465/1414502794.py:7: SettingWithCopyWarning: \nA value is trying to be set on a copy of a slice from a DataFrame.\nTry using .loc[row_indexer,col_indexer] = value instead\n\nSee the caveats in the documentation: https://pandas.pydata.org/pandas-docs/stable/user_guide/indexing.html#returning-a-view-versus-a-copy\n  matching_religion['relationship_quality'] = matching_religion['q34'].map(relationship_quality_mapping )\n"
        },
        {
          "output_type": "execute_result",
          "execution_count": 153,
          "data": {
            "text/plain": "  Relationship Quality  Count  Percentage\n0            Excellent   1011        63.3\n1                 Fair    106         6.6\n2                 Good    452        28.3\n3                 Poor     19         1.2\n4            Very Poor      9         0.6",
            "text/html": "<div>\n<style scoped>\n    .dataframe tbody tr th:only-of-type {\n        vertical-align: middle;\n    }\n\n    .dataframe tbody tr th {\n        vertical-align: top;\n    }\n\n    .dataframe thead th {\n        text-align: right;\n    }\n</style>\n<table border=\"1\" class=\"dataframe\">\n  <thead>\n    <tr style=\"text-align: right;\">\n      <th></th>\n      <th>Relationship Quality</th>\n      <th>Count</th>\n      <th>Percentage</th>\n    </tr>\n  </thead>\n  <tbody>\n    <tr>\n      <th>0</th>\n      <td>Excellent</td>\n      <td>1011</td>\n      <td>63.3</td>\n    </tr>\n    <tr>\n      <th>1</th>\n      <td>Fair</td>\n      <td>106</td>\n      <td>6.6</td>\n    </tr>\n    <tr>\n      <th>2</th>\n      <td>Good</td>\n      <td>452</td>\n      <td>28.3</td>\n    </tr>\n    <tr>\n      <th>3</th>\n      <td>Poor</td>\n      <td>19</td>\n      <td>1.2</td>\n    </tr>\n    <tr>\n      <th>4</th>\n      <td>Very Poor</td>\n      <td>9</td>\n      <td>0.6</td>\n    </tr>\n  </tbody>\n</table>\n</div>"
          },
          "metadata": {}
        }
      ],
      "execution_count": 153,
      "metadata": {
        "jupyter": {
          "source_hidden": false,
          "outputs_hidden": false
        },
        "nteract": {
          "transient": {
            "deleting": false
          }
        },
        "gather": {
          "logged": 1730034293300
        }
      }
    },
    {
      "cell_type": "markdown",
      "source": [
        "And how is the **relationship quality** when partners have **different religions**"
      ],
      "metadata": {
        "nteract": {
          "transient": {
            "deleting": false
          }
        }
      }
    },
    {
      "cell_type": "code",
      "source": [
        "# Filter for rows where respondent's religion is different from the partner's religion for each unique 'caseid'\n",
        "different_religion = df[df['caseid_new'].isin(df[papreligion_temp != q7b_temp]['caseid_new'])]\n",
        "\n",
        "# Map q34 values to descriptive labels using the temporary filtered DataFrame\n",
        "different_religion['relationship_quality'] = different_religion['q34'].map(relationship_quality_mapping)\n",
        "\n",
        "# Calculate the frequency of each relationship quality (q34_mapped) among those respondents\n",
        "relationship_quality_counts = different_religion['relationship_quality'].value_counts().sort_index()\n",
        "\n",
        "# Convert counts to percentages\n",
        "total_different = relationship_quality_counts.sum()\n",
        "relationship_quality_percentages = (relationship_quality_counts / total_different * 100).round(1)\n",
        "\n",
        "# Create a DataFrame with counts and percentages for relationship quality\n",
        "relationship_quality_distribution_different = pd.DataFrame({\n",
        "    'Relationship Quality': relationship_quality_counts.index,\n",
        "    'Count': relationship_quality_counts.values,\n",
        "    'Percentage': relationship_quality_percentages.values\n",
        "})\n",
        "\n",
        "# Display the resulting DataFrame\n",
        "relationship_quality_distribution_different"
      ],
      "outputs": [
        {
          "output_type": "stream",
          "name": "stderr",
          "text": "/tmp/ipykernel_3465/3741142124.py:5: SettingWithCopyWarning: \nA value is trying to be set on a copy of a slice from a DataFrame.\nTry using .loc[row_indexer,col_indexer] = value instead\n\nSee the caveats in the documentation: https://pandas.pydata.org/pandas-docs/stable/user_guide/indexing.html#returning-a-view-versus-a-copy\n  different_religion['relationship_quality'] = different_religion['q34'].map(relationship_quality_mapping)\n"
        },
        {
          "output_type": "execute_result",
          "execution_count": 154,
          "data": {
            "text/plain": "  Relationship Quality  Count  Percentage\n0            Excellent    760        54.3\n1                 Fair    146        10.4\n2                 Good    459        32.8\n3                 Poor     23         1.6\n4            Very Poor     11         0.8",
            "text/html": "<div>\n<style scoped>\n    .dataframe tbody tr th:only-of-type {\n        vertical-align: middle;\n    }\n\n    .dataframe tbody tr th {\n        vertical-align: top;\n    }\n\n    .dataframe thead th {\n        text-align: right;\n    }\n</style>\n<table border=\"1\" class=\"dataframe\">\n  <thead>\n    <tr style=\"text-align: right;\">\n      <th></th>\n      <th>Relationship Quality</th>\n      <th>Count</th>\n      <th>Percentage</th>\n    </tr>\n  </thead>\n  <tbody>\n    <tr>\n      <th>0</th>\n      <td>Excellent</td>\n      <td>760</td>\n      <td>54.3</td>\n    </tr>\n    <tr>\n      <th>1</th>\n      <td>Fair</td>\n      <td>146</td>\n      <td>10.4</td>\n    </tr>\n    <tr>\n      <th>2</th>\n      <td>Good</td>\n      <td>459</td>\n      <td>32.8</td>\n    </tr>\n    <tr>\n      <th>3</th>\n      <td>Poor</td>\n      <td>23</td>\n      <td>1.6</td>\n    </tr>\n    <tr>\n      <th>4</th>\n      <td>Very Poor</td>\n      <td>11</td>\n      <td>0.8</td>\n    </tr>\n  </tbody>\n</table>\n</div>"
          },
          "metadata": {}
        }
      ],
      "execution_count": 154,
      "metadata": {
        "jupyter": {
          "source_hidden": false,
          "outputs_hidden": false
        },
        "nteract": {
          "transient": {
            "deleting": false
          }
        },
        "gather": {
          "logged": 1730034296471
        }
      }
    },
    {
      "cell_type": "code",
      "source": [
        "matching_religion_cases = df[papreligion_temp == q7b_temp]\n",
        "\n",
        "# Count unique 'caseid_new' where the religion matches\n",
        "same_religion_count = matching_religion_cases['caseid_new'].nunique()\n",
        "\n",
        "# Display the count of unique caseid_new\n",
        "same_religion_count"
      ],
      "outputs": [
        {
          "output_type": "execute_result",
          "execution_count": 155,
          "data": {
            "text/plain": "1604"
          },
          "metadata": {}
        }
      ],
      "execution_count": 155,
      "metadata": {
        "jupyter": {
          "source_hidden": false,
          "outputs_hidden": false
        },
        "nteract": {
          "transient": {
            "deleting": false
          }
        },
        "gather": {
          "logged": 1730034299079
        }
      }
    },
    {
      "cell_type": "markdown",
      "source": [
        "### Race"
      ],
      "metadata": {
        "nteract": {
          "transient": {
            "deleting": false
          }
        }
      }
    },
    {
      "cell_type": "code",
      "source": [
        "race_columns = [\n",
        "    'pprace_white', 'pprace_black', 'pprace_nativeamerican', 'pprace_asianindian', \n",
        "    'pprace_chinese', 'pprace_filipino', 'pprace_japanese', 'pprace_korean', 'pprace_vietnamese', \n",
        "    'pprace_otherasian', 'pprace_hawaiian', 'pprace_guamanian', 'pprace_samoan', \n",
        "    'pprace_otherpacificislander', 'pprace_someotherrace'\n",
        "]\n",
        "\n",
        "# check the range of values\n",
        "for col in race_columns:\n",
        "    cat_values = df[col].unique()\n",
        "    print(cat_values)"
      ],
      "outputs": [
        {
          "output_type": "stream",
          "name": "stdout",
          "text": "[1, 0, -1]\nCategories (3, int64): [-1, 0, 1]\n[0, 1, -1]\nCategories (3, int64): [-1, 0, 1]\n[0, 1, -1]\nCategories (3, int64): [-1, 0, 1]\n[0, 1, -1]\nCategories (3, int64): [-1, 0, 1]\n[0, 1, -1]\nCategories (3, int64): [-1, 0, 1]\n[0, 1, -1]\nCategories (3, int64): [-1, 0, 1]\n[0, 1, -1]\nCategories (3, int64): [-1, 0, 1]\n[0, 1, -1]\nCategories (3, int64): [-1, 0, 1]\n[0, 1, -1]\nCategories (3, int64): [-1, 0, 1]\n[0, 1, -1]\nCategories (3, int64): [-1, 0, 1]\n[0, 1, -1]\nCategories (3, int64): [-1, 0, 1]\n[0, 1, -1]\nCategories (3, int64): [-1, 0, 1]\n[0, -1]\nCategories (2, int64): [-1, 0]\n[0, 1, -1]\nCategories (3, int64): [-1, 0, 1]\n[0, 1, -1]\nCategories (3, int64): [-1, 0, 1]\n"
        }
      ],
      "execution_count": 156,
      "metadata": {
        "jupyter": {
          "source_hidden": false,
          "outputs_hidden": false
        },
        "nteract": {
          "transient": {
            "deleting": false
          }
        },
        "gather": {
          "logged": 1730034301391
        }
      }
    },
    {
      "cell_type": "code",
      "source": [
        "race_distribution = df[race_columns].apply(lambda col: (col == 1).sum())\n",
        "\n",
        "total_count = race_distribution.sum()\n",
        "race_distribution_percentage = (race_distribution / total_count) * 100\n",
        "\n",
        "race_distribution_filtered = race_distribution_percentage[race_distribution_percentage >= 3]\n",
        "\n",
        "# Sort the filtered distribution in descending order\n",
        "race_distribution_filtered = race_distribution_filtered.sort_values(ascending=False)\n",
        "\n",
        "# Plot the filtered and sorted distribution as a bar chart with percentages\n",
        "plt.figure(figsize=(10, 6))\n",
        "race_distribution_filtered.plot(kind='bar')\n",
        "plt.title('Percentage Distribution of Races Identified as Most (>= 3%)')\n",
        "plt.xlabel('Race')\n",
        "plt.ylabel('Percentage of Respondents')\n",
        "plt.xticks(rotation=45)\n",
        "plt.tight_layout()  # Optimize spacing\n",
        "plt.show()"
      ],
      "outputs": [
        {
          "output_type": "display_data",
          "data": {
            "text/plain": "<Figure size 1000x600 with 1 Axes>",
            "image/png": "[encoded data removed]"
          },
          "metadata": {}
        }
      ],
      "execution_count": 157,
      "metadata": {
        "jupyter": {
          "source_hidden": false,
          "outputs_hidden": false
        },
        "nteract": {
          "transient": {
            "deleting": false
          }
        },
        "gather": {
          "logged": 1730034304294
        }
      }
    },
    {
      "cell_type": "code",
      "source": [
        "pphispan_mapping = {\n",
        "    1: 0,  # 1 corresponds to \"no\"\n",
        "    2: 1,  # 2 and higher correspond to \"yes\"\n",
        "    3: 1,\n",
        "    4: 1,\n",
        "    5: 1,\n",
        "    6: 1,\n",
        "    7: 1,\n",
        "    8: 1\n",
        "}\n",
        "\n",
        "is_pphispan = df['pphispan'].map(pphispan_mapping)\n",
        "is_pphispan_df = pd.DataFrame(is_pphispan.value_counts()).reset_index()\n",
        "is_pphispan_df"
      ],
      "outputs": [
        {
          "output_type": "execute_result",
          "execution_count": 158,
          "data": {
            "text/plain": "   index  pphispan\n0      0      3615\n1      1       387",
            "text/html": "<div>\n<style scoped>\n    .dataframe tbody tr th:only-of-type {\n        vertical-align: middle;\n    }\n\n    .dataframe tbody tr th {\n        vertical-align: top;\n    }\n\n    .dataframe thead th {\n        text-align: right;\n    }\n</style>\n<table border=\"1\" class=\"dataframe\">\n  <thead>\n    <tr style=\"text-align: right;\">\n      <th></th>\n      <th>index</th>\n      <th>pphispan</th>\n    </tr>\n  </thead>\n  <tbody>\n    <tr>\n      <th>0</th>\n      <td>0</td>\n      <td>3615</td>\n    </tr>\n    <tr>\n      <th>1</th>\n      <td>1</td>\n      <td>387</td>\n    </tr>\n  </tbody>\n</table>\n</div>"
          },
          "metadata": {}
        }
      ],
      "execution_count": 158,
      "metadata": {
        "jupyter": {
          "source_hidden": false,
          "outputs_hidden": false
        },
        "nteract": {
          "transient": {
            "deleting": false
          }
        },
        "gather": {
          "logged": 1730034307236
        }
      }
    },
    {
      "cell_type": "code",
      "source": [
        "partner_race_mapping = {\n",
        "    1: \"White\",\n",
        "    2: \"Black or African American\",\n",
        "    3: \"American Indian, Aleut, or Eskimo\",\n",
        "    4: \"Asian or Pacific Islander\",\n",
        "    5: \"Other (please specify)\"\n",
        "}\n",
        "\n",
        "# Map the 'q6b' column to descriptive labels\n",
        "mapped_partner_race = df['q6b'].map(partner_race_mapping)\n",
        "\n",
        "# Calculate the frequency of each category\n",
        "partner_race_counts = mapped_partner_race.value_counts().sort_index()\n",
        "\n",
        "# Convert counts to percentages\n",
        "total_partner_race = partner_race_counts.sum()\n",
        "partner_race_percentages = (partner_race_counts / total_partner_race * 100).round(1)\n",
        "\n",
        "# Create a DataFrame with counts and percentages for q6b\n",
        "partner_race_distribution = pd.DataFrame({\n",
        "    'Category': partner_race_counts.index,\n",
        "    'Count': partner_race_counts.values,\n",
        "    'Percentage': partner_race_percentages.values\n",
        "})\n",
        "\n",
        "# Display the resulting DataFrame\n",
        "partner_race_distribution\n"
      ],
      "outputs": [
        {
          "output_type": "execute_result",
          "execution_count": 159,
          "data": {
            "text/plain": "                            Category  Count  Percentage\n0  American Indian, Aleut, or Eskimo     25         0.8\n1          Asian or Pacific Islander     65         2.2\n2          Black or African American    253         8.5\n3             Other (please specify)    120         4.0\n4                              White   2528        84.5",
            "text/html": "<div>\n<style scoped>\n    .dataframe tbody tr th:only-of-type {\n        vertical-align: middle;\n    }\n\n    .dataframe tbody tr th {\n        vertical-align: top;\n    }\n\n    .dataframe thead th {\n        text-align: right;\n    }\n</style>\n<table border=\"1\" class=\"dataframe\">\n  <thead>\n    <tr style=\"text-align: right;\">\n      <th></th>\n      <th>Category</th>\n      <th>Count</th>\n      <th>Percentage</th>\n    </tr>\n  </thead>\n  <tbody>\n    <tr>\n      <th>0</th>\n      <td>American Indian, Aleut, or Eskimo</td>\n      <td>25</td>\n      <td>0.8</td>\n    </tr>\n    <tr>\n      <th>1</th>\n      <td>Asian or Pacific Islander</td>\n      <td>65</td>\n      <td>2.2</td>\n    </tr>\n    <tr>\n      <th>2</th>\n      <td>Black or African American</td>\n      <td>253</td>\n      <td>8.5</td>\n    </tr>\n    <tr>\n      <th>3</th>\n      <td>Other (please specify)</td>\n      <td>120</td>\n      <td>4.0</td>\n    </tr>\n    <tr>\n      <th>4</th>\n      <td>White</td>\n      <td>2528</td>\n      <td>84.5</td>\n    </tr>\n  </tbody>\n</table>\n</div>"
          },
          "metadata": {}
        }
      ],
      "execution_count": 159,
      "metadata": {
        "jupyter": {
          "source_hidden": false,
          "outputs_hidden": false
        },
        "nteract": {
          "transient": {
            "deleting": false
          }
        },
        "gather": {
          "logged": 1730034310089
        }
      }
    },
    {
      "cell_type": "markdown",
      "source": [
        "### Politics"
      ],
      "metadata": {
        "nteract": {
          "transient": {
            "deleting": false
          }
        }
      }
    },
    {
      "cell_type": "code",
      "source": [
        "# Define the mapping for PPPARTYID3\n",
        "party_mapping = {\n",
        "    1: \"Republican\",\n",
        "    2: \"Other\",\n",
        "    3: \"Democrat\"\n",
        "}\n",
        "\n",
        "# Map the 'PPPARTYID3' column to descriptive labels\n",
        "mapped_party = df['pppartyid3'].map(party_mapping)\n",
        "\n",
        "# Calculate the frequency of each category\n",
        "party_counts = mapped_party.value_counts().sort_index()\n",
        "\n",
        "# Convert counts to percentages\n",
        "total_party = party_counts.sum()\n",
        "party_percentages = (party_counts / total_party * 100).round(1)\n",
        "\n",
        "# Create a DataFrame with counts and percentages for PPPARTYID3\n",
        "party_distribution = pd.DataFrame({\n",
        "    'Category': party_counts.index,\n",
        "    'Count': party_counts.values,\n",
        "    'Percentage': party_percentages.values\n",
        "})\n",
        "\n",
        "# Display the resulting DataFrame\n",
        "party_distribution\n"
      ],
      "outputs": [
        {
          "output_type": "execute_result",
          "execution_count": 160,
          "data": {
            "text/plain": "     Category  Count  Percentage\n0  Republican   1505        37.6\n1       Other    112         2.8\n2    Democrat   2385        59.6",
            "text/html": "<div>\n<style scoped>\n    .dataframe tbody tr th:only-of-type {\n        vertical-align: middle;\n    }\n\n    .dataframe tbody tr th {\n        vertical-align: top;\n    }\n\n    .dataframe thead th {\n        text-align: right;\n    }\n</style>\n<table border=\"1\" class=\"dataframe\">\n  <thead>\n    <tr style=\"text-align: right;\">\n      <th></th>\n      <th>Category</th>\n      <th>Count</th>\n      <th>Percentage</th>\n    </tr>\n  </thead>\n  <tbody>\n    <tr>\n      <th>0</th>\n      <td>Republican</td>\n      <td>1505</td>\n      <td>37.6</td>\n    </tr>\n    <tr>\n      <th>1</th>\n      <td>Other</td>\n      <td>112</td>\n      <td>2.8</td>\n    </tr>\n    <tr>\n      <th>2</th>\n      <td>Democrat</td>\n      <td>2385</td>\n      <td>59.6</td>\n    </tr>\n  </tbody>\n</table>\n</div>"
          },
          "metadata": {}
        }
      ],
      "execution_count": 160,
      "metadata": {
        "jupyter": {
          "source_hidden": false,
          "outputs_hidden": false
        },
        "nteract": {
          "transient": {
            "deleting": false
          }
        },
        "gather": {
          "logged": 1730034313513
        }
      }
    },
    {
      "cell_type": "markdown",
      "source": [
        "### Sexual Orientation"
      ],
      "metadata": {
        "nteract": {
          "transient": {
            "deleting": false
          }
        }
      }
    },
    {
      "cell_type": "code",
      "source": [
        "# Define the mapping for glbstatus\n",
        "glbstatus_mapping = {\n",
        "    0: \"Not GLB\",\n",
        "    1: \"GLB\"\n",
        "}\n",
        "\n",
        "# Map the 'glbstatus' column to descriptive labels\n",
        "mapped_glbstatus = df['glbstatus'].map(glbstatus_mapping)\n",
        "\n",
        "# Calculate the frequency of each category\n",
        "glbstatus_counts = mapped_glbstatus.value_counts().sort_index()\n",
        "\n",
        "# Convert counts to percentages\n",
        "total_glbstatus = glbstatus_counts.sum()\n",
        "glbstatus_percentages = (glbstatus_counts / total_glbstatus * 100).round(1)\n",
        "\n",
        "# Create a DataFrame with counts and percentages for glbstatus\n",
        "glbstatus_distribution = pd.DataFrame({\n",
        "    'Category': glbstatus_counts.index,\n",
        "    'Count': glbstatus_counts.values,\n",
        "    'Percentage': glbstatus_percentages.values\n",
        "})\n",
        "\n",
        "# Display the resulting DataFrame\n",
        "glbstatus_distribution\n"
      ],
      "outputs": [
        {
          "output_type": "execute_result",
          "execution_count": 161,
          "data": {
            "text/plain": "  Category  Count  Percentage\n0  Not GLB   3047        76.1\n1      GLB    955        23.9",
            "text/html": "<div>\n<style scoped>\n    .dataframe tbody tr th:only-of-type {\n        vertical-align: middle;\n    }\n\n    .dataframe tbody tr th {\n        vertical-align: top;\n    }\n\n    .dataframe thead th {\n        text-align: right;\n    }\n</style>\n<table border=\"1\" class=\"dataframe\">\n  <thead>\n    <tr style=\"text-align: right;\">\n      <th></th>\n      <th>Category</th>\n      <th>Count</th>\n      <th>Percentage</th>\n    </tr>\n  </thead>\n  <tbody>\n    <tr>\n      <th>0</th>\n      <td>Not GLB</td>\n      <td>3047</td>\n      <td>76.1</td>\n    </tr>\n    <tr>\n      <th>1</th>\n      <td>GLB</td>\n      <td>955</td>\n      <td>23.9</td>\n    </tr>\n  </tbody>\n</table>\n</div>"
          },
          "metadata": {}
        }
      ],
      "execution_count": 161,
      "metadata": {
        "jupyter": {
          "source_hidden": false,
          "outputs_hidden": false
        },
        "nteract": {
          "transient": {
            "deleting": false
          }
        },
        "gather": {
          "logged": 1730034316603
        }
      }
    },
    {
      "cell_type": "code",
      "source": [
        "# Define the mapping for partner gender\n",
        "partner_gender_mapping = {\n",
        "    1: \"Male\",\n",
        "    2: \"Female\",\n",
        "    3: \"Other, please specify\"\n",
        "}\n",
        "\n",
        "# Map the 'partner_gender' column to descriptive labels\n",
        "mapped_partner_gender = df['q4'].map(partner_gender_mapping)\n",
        "\n",
        "# Calculate the frequency of each category\n",
        "partner_gender_counts = mapped_partner_gender.value_counts().sort_index()\n",
        "\n",
        "# Convert counts to percentages\n",
        "total_partner_gender = partner_gender_counts.sum()\n",
        "partner_gender_percentages = (partner_gender_counts / total_partner_gender * 100).round(1)\n",
        "\n",
        "# Create a DataFrame with counts and percentages for partner gender\n",
        "partner_gender_distribution = pd.DataFrame({\n",
        "    'Category': partner_gender_counts.index,\n",
        "    'Count': partner_gender_counts.values,\n",
        "    'Percentage': partner_gender_percentages.values\n",
        "})\n",
        "\n",
        "# Display the resulting DataFrame\n",
        "partner_gender_distribution"
      ],
      "outputs": [
        {
          "output_type": "execute_result",
          "execution_count": 162,
          "data": {
            "text/plain": "                Category  Count  Percentage\n0                 Female   1520        50.5\n1                   Male   1486        49.3\n2  Other, please specify      6         0.2",
            "text/html": "<div>\n<style scoped>\n    .dataframe tbody tr th:only-of-type {\n        vertical-align: middle;\n    }\n\n    .dataframe tbody tr th {\n        vertical-align: top;\n    }\n\n    .dataframe thead th {\n        text-align: right;\n    }\n</style>\n<table border=\"1\" class=\"dataframe\">\n  <thead>\n    <tr style=\"text-align: right;\">\n      <th></th>\n      <th>Category</th>\n      <th>Count</th>\n      <th>Percentage</th>\n    </tr>\n  </thead>\n  <tbody>\n    <tr>\n      <th>0</th>\n      <td>Female</td>\n      <td>1520</td>\n      <td>50.5</td>\n    </tr>\n    <tr>\n      <th>1</th>\n      <td>Male</td>\n      <td>1486</td>\n      <td>49.3</td>\n    </tr>\n    <tr>\n      <th>2</th>\n      <td>Other, please specify</td>\n      <td>6</td>\n      <td>0.2</td>\n    </tr>\n  </tbody>\n</table>\n</div>"
          },
          "metadata": {}
        }
      ],
      "execution_count": 162,
      "metadata": {
        "jupyter": {
          "source_hidden": false,
          "outputs_hidden": false
        },
        "nteract": {
          "transient": {
            "deleting": false
          }
        },
        "gather": {
          "logged": 1730034318924
        }
      }
    },
    {
      "cell_type": "code",
      "source": [
        "# Define the mapping for q5\n",
        "same_gender_mapping = {\n",
        "    1: \"Yes, we are a same-sex couple\",\n",
        "    2: \"No, we are an opposite-sex couple\"\n",
        "}\n",
        "\n",
        "# Map the 'q5' column to descriptive labels\n",
        "same_gender = df['q5'].map(same_gender_mapping)\n",
        "\n",
        "# Calculate the frequency of each category\n",
        "same_gender_counts = same_gender.value_counts().sort_index()\n",
        "\n",
        "# Convert counts to percentages3\n",
        "total_same_gender = same_gender_counts.sum()\n",
        "same_gender_percentages = (same_gender_counts / total_same_gender * 100).round(1)\n",
        "\n",
        "# Create a DataFrame with counts and percentages for q5\n",
        "same_gender_distribution = pd.DataFrame({\n",
        "    'Category': same_gender_counts.index,\n",
        "    'Count': same_gender_counts.values,\n",
        "    'Percentage': same_gender_percentages.values\n",
        "})\n",
        "\n",
        "# Display the resulting DataFrame\n",
        "same_gender_distribution\n"
      ],
      "outputs": [
        {
          "output_type": "execute_result",
          "execution_count": 163,
          "data": {
            "text/plain": "                            Category  Count  Percentage\n0  No, we are an opposite-sex couple    214        31.6\n1      Yes, we are a same-sex couple    464        68.4",
            "text/html": "<div>\n<style scoped>\n    .dataframe tbody tr th:only-of-type {\n        vertical-align: middle;\n    }\n\n    .dataframe tbody tr th {\n        vertical-align: top;\n    }\n\n    .dataframe thead th {\n        text-align: right;\n    }\n</style>\n<table border=\"1\" class=\"dataframe\">\n  <thead>\n    <tr style=\"text-align: right;\">\n      <th></th>\n      <th>Category</th>\n      <th>Count</th>\n      <th>Percentage</th>\n    </tr>\n  </thead>\n  <tbody>\n    <tr>\n      <th>0</th>\n      <td>No, we are an opposite-sex couple</td>\n      <td>214</td>\n      <td>31.6</td>\n    </tr>\n    <tr>\n      <th>1</th>\n      <td>Yes, we are a same-sex couple</td>\n      <td>464</td>\n      <td>68.4</td>\n    </tr>\n  </tbody>\n</table>\n</div>"
          },
          "metadata": {}
        }
      ],
      "execution_count": 163,
      "metadata": {
        "jupyter": {
          "source_hidden": false,
          "outputs_hidden": false
        },
        "nteract": {
          "transient": {
            "deleting": false
          }
        },
        "gather": {
          "logged": 1730034321253
        }
      }
    },
    {
      "cell_type": "markdown",
      "source": [
        "Now we want to check if there are **inconsistencies** in the dataset"
      ],
      "metadata": {
        "nteract": {
          "transient": {
            "deleting": false
          }
        }
      }
    },
    {
      "cell_type": "code",
      "source": [
        "# 1. Same-sex couples (q5 = 1) who are not GLB (glbstatus != 1)\n",
        "inconsistent_same_sex_caseids = df[(df['q5'] == 1) & (df['glbstatus'] != 1)]['caseid_new'].nunique()\n",
        "\n",
        "# 2. GLB individuals (glbstatus = 1) who reported being in an opposite-sex relationship (q5 = 2)\n",
        "inconsistent_glb_opposite_sex_caseids = df[(df['glbstatus'] == 1) & (df['q5'] == 2)]['caseid_new'].nunique()\n",
        "\n",
        "inconsistencies_summary = {\n",
        "    \"Unique CaseIDs for Same-Sex Couples Who Are Not GLB\": inconsistent_same_sex_caseids,\n",
        "    \"Unique CaseIDs for GLB Individuals in Opposite-Sex Relationships\": inconsistent_glb_opposite_sex_caseids\n",
        "}\n",
        "\n",
        "# Convert the summary to a DataFrame for display\n",
        "inconsistencies_df = pd.DataFrame(list(inconsistencies_summary.items()), columns=['Description', 'Unique CaseID Count'])\n",
        "inconsistencies_df\n"
      ],
      "outputs": [
        {
          "output_type": "execute_result",
          "execution_count": 164,
          "data": {
            "text/plain": "                                         Description  Unique CaseID Count\n0  Unique CaseIDs for Same-Sex Couples Who Are No...                    2\n1  Unique CaseIDs for GLB Individuals in Opposite...                  189",
            "text/html": "<div>\n<style scoped>\n    .dataframe tbody tr th:only-of-type {\n        vertical-align: middle;\n    }\n\n    .dataframe tbody tr th {\n        vertical-align: top;\n    }\n\n    .dataframe thead th {\n        text-align: right;\n    }\n</style>\n<table border=\"1\" class=\"dataframe\">\n  <thead>\n    <tr style=\"text-align: right;\">\n      <th></th>\n      <th>Description</th>\n      <th>Unique CaseID Count</th>\n    </tr>\n  </thead>\n  <tbody>\n    <tr>\n      <th>0</th>\n      <td>Unique CaseIDs for Same-Sex Couples Who Are No...</td>\n      <td>2</td>\n    </tr>\n    <tr>\n      <th>1</th>\n      <td>Unique CaseIDs for GLB Individuals in Opposite...</td>\n      <td>189</td>\n    </tr>\n  </tbody>\n</table>\n</div>"
          },
          "metadata": {}
        }
      ],
      "execution_count": 164,
      "metadata": {
        "jupyter": {
          "source_hidden": false,
          "outputs_hidden": false
        },
        "nteract": {
          "transient": {
            "deleting": false
          }
        },
        "gather": {
          "logged": 1730034323314
        }
      }
    },
    {
      "cell_type": "code",
      "source": [
        "# Filter the inconsistencies\n",
        "inconsistent_caseids = df[\n",
        "    ((df['q5'] == 1) & (df['glbstatus'] != 1)) | ((df['glbstatus'] == 1) & (df['q5'] == 2))\n",
        "]['caseid_new'].unique()\n",
        "\n",
        "# Remove them from our dataset\n",
        "df = df[~df['caseid_new'].isin(inconsistent_caseids)]\n",
        "\n",
        "# Display the cleaned DataFrame\n",
        "df"
      ],
      "outputs": [
        {
          "output_type": "execute_result",
          "execution_count": 165,
          "data": {
            "text/plain": "      caseid_new  weight1  weight2  ppage ppeduc ppgender pphhhead  \\\n1          22526     4265     4265     52     12        2        1   \n2          23286    16485    16485     28     13        2        1   \n3          25495    52464        0     49      9        2        1   \n4          26315     4575     4575     31     11        1        1   \n5          27355    12147        0     35      9        1        1   \n...          ...      ...      ...    ...    ...      ...      ...   \n3998     4623505    50561        0     50     13        2        1   \n3999     4625902    23386        0     90      4        2        0   \n4000     4626536     2121     2121     53     11        2        0   \n4001     4627251    41771    41771     25     11        2        1   \n4002     4628251    46353    46353     25     12        1        1   \n\n      pphouseholdsize pphouse ppincimp  ... pp2_ppt1317 pp2_ppt18ov pp2_ppt25  \\\n1                   2       3        7  ...           0           2         0   \n2                   2       3       11  ...           0           2         0   \n3                   4       3       10  ...           1           3         0   \n4                   1       3       11  ...           0           1         0   \n5                   2       2       11  ...           0           2         0   \n...               ...     ...      ...  ...         ...         ...       ...   \n3998                2       1       14  ...           0           1         0   \n3999                3       1       12  ...           0           3         0   \n4000                2       2       18  ...           0           0         0   \n4001                3       1       13  ...           0           0         0   \n4002                1       1       14  ...           0           2         0   \n\n      pp2_ppt612  pp2_ppwork pp2_ppnet             pp2_ppcmdate_yrmo  \\\n1              0           4         1 1970-01-01 00:00:00.000200905   \n2              0           1         1 1970-01-01 00:00:00.000200904   \n3              0           1         1 1970-01-01 00:00:00.000200904   \n4              0           1         1 1970-01-01 00:00:00.000200905   \n5              0           2         1 1970-01-01 00:00:00.000200904   \n...          ...         ...       ...                           ...   \n3998           1           1         1 1970-01-01 00:00:00.000200904   \n3999           0           5         1 1970-01-01 00:00:00.000200904   \n4000           0           0         0 1970-01-01 00:00:00.000000000   \n4001           0           0         0 1970-01-01 00:00:00.000000000   \n4002           0           1         1 1970-01-01 00:00:00.000200904   \n\n       w2_HCMST_interview_fin_yrmo w2_q10 w2_broke_up  \n1    1970-01-01 00:00:00.000201003      0           0  \n2    1970-01-01 00:00:00.000201003      0           0  \n3    1970-01-01 00:00:00.000000000      0           0  \n4    1970-01-01 00:00:00.000201003      1           1  \n5    1970-01-01 00:00:00.000000000      0           0  \n...                            ...    ...         ...  \n3998 1970-01-01 00:00:00.000000000      0           0  \n3999 1970-01-01 00:00:00.000000000      0           0  \n4000 1970-01-01 00:00:00.000000000      0           0  \n4001 1970-01-01 00:00:00.000000000      0           0  \n4002 1970-01-01 00:00:00.000201003      0           0  \n\n[3811 rows x 145 columns]",
            "text/html": "<div>\n<style scoped>\n    .dataframe tbody tr th:only-of-type {\n        vertical-align: middle;\n    }\n\n    .dataframe tbody tr th {\n        vertical-align: top;\n    }\n\n    .dataframe thead th {\n        text-align: right;\n    }\n</style>\n<table border=\"1\" class=\"dataframe\">\n  <thead>\n    <tr style=\"text-align: right;\">\n      <th></th>\n      <th>caseid_new</th>\n      <th>weight1</th>\n      <th>weight2</th>\n      <th>ppage</th>\n      <th>ppeduc</th>\n      <th>ppgender</th>\n      <th>pphhhead</th>\n      <th>pphouseholdsize</th>\n      <th>pphouse</th>\n      <th>ppincimp</th>\n      <th>...</th>\n      <th>pp2_ppt1317</th>\n      <th>pp2_ppt18ov</th>\n      <th>pp2_ppt25</th>\n      <th>pp2_ppt612</th>\n      <th>pp2_ppwork</th>\n      <th>pp2_ppnet</th>\n      <th>pp2_ppcmdate_yrmo</th>\n      <th>w2_HCMST_interview_fin_yrmo</th>\n      <th>w2_q10</th>\n      <th>w2_broke_up</th>\n    </tr>\n  </thead>\n  <tbody>\n    <tr>\n      <th>1</th>\n      <td>22526</td>\n      <td>4265</td>\n      <td>4265</td>\n      <td>52</td>\n      <td>12</td>\n      <td>2</td>\n      <td>1</td>\n      <td>2</td>\n      <td>3</td>\n      <td>7</td>\n      <td>...</td>\n      <td>0</td>\n      <td>2</td>\n      <td>0</td>\n      <td>0</td>\n      <td>4</td>\n      <td>1</td>\n      <td>1970-01-01 00:00:00.000200905</td>\n      <td>1970-01-01 00:00:00.000201003</td>\n      <td>0</td>\n      <td>0</td>\n    </tr>\n    <tr>\n      <th>2</th>\n      <td>23286</td>\n      <td>16485</td>\n      <td>16485</td>\n      <td>28</td>\n      <td>13</td>\n      <td>2</td>\n      <td>1</td>\n      <td>2</td>\n      <td>3</td>\n      <td>11</td>\n      <td>...</td>\n      <td>0</td>\n      <td>2</td>\n      <td>0</td>\n      <td>0</td>\n      <td>1</td>\n      <td>1</td>\n      <td>1970-01-01 00:00:00.000200904</td>\n      <td>1970-01-01 00:00:00.000201003</td>\n      <td>0</td>\n      <td>0</td>\n    </tr>\n    <tr>\n      <th>3</th>\n      <td>25495</td>\n      <td>52464</td>\n      <td>0</td>\n      <td>49</td>\n      <td>9</td>\n      <td>2</td>\n      <td>1</td>\n      <td>4</td>\n      <td>3</td>\n      <td>10</td>\n      <td>...</td>\n      <td>1</td>\n      <td>3</td>\n      <td>0</td>\n      <td>0</td>\n      <td>1</td>\n      <td>1</td>\n      <td>1970-01-01 00:00:00.000200904</td>\n      <td>1970-01-01 00:00:00.000000000</td>\n      <td>0</td>\n      <td>0</td>\n    </tr>\n    <tr>\n      <th>4</th>\n      <td>26315</td>\n      <td>4575</td>\n      <td>4575</td>\n      <td>31</td>\n      <td>11</td>\n      <td>1</td>\n      <td>1</td>\n      <td>1</td>\n      <td>3</td>\n      <td>11</td>\n      <td>...</td>\n      <td>0</td>\n      <td>1</td>\n      <td>0</td>\n      <td>0</td>\n      <td>1</td>\n      <td>1</td>\n      <td>1970-01-01 00:00:00.000200905</td>\n      <td>1970-01-01 00:00:00.000201003</td>\n      <td>1</td>\n      <td>1</td>\n    </tr>\n    <tr>\n      <th>5</th>\n      <td>27355</td>\n      <td>12147</td>\n      <td>0</td>\n      <td>35</td>\n      <td>9</td>\n      <td>1</td>\n      <td>1</td>\n      <td>2</td>\n      <td>2</td>\n      <td>11</td>\n      <td>...</td>\n      <td>0</td>\n      <td>2</td>\n      <td>0</td>\n      <td>0</td>\n      <td>2</td>\n      <td>1</td>\n      <td>1970-01-01 00:00:00.000200904</td>\n      <td>1970-01-01 00:00:00.000000000</td>\n      <td>0</td>\n      <td>0</td>\n    </tr>\n    <tr>\n      <th>...</th>\n      <td>...</td>\n      <td>...</td>\n      <td>...</td>\n      <td>...</td>\n      <td>...</td>\n      <td>...</td>\n      <td>...</td>\n      <td>...</td>\n      <td>...</td>\n      <td>...</td>\n      <td>...</td>\n      <td>...</td>\n      <td>...</td>\n      <td>...</td>\n      <td>...</td>\n      <td>...</td>\n      <td>...</td>\n      <td>...</td>\n      <td>...</td>\n      <td>...</td>\n      <td>...</td>\n    </tr>\n    <tr>\n      <th>3998</th>\n      <td>4623505</td>\n      <td>50561</td>\n      <td>0</td>\n      <td>50</td>\n      <td>13</td>\n      <td>2</td>\n      <td>1</td>\n      <td>2</td>\n      <td>1</td>\n      <td>14</td>\n      <td>...</td>\n      <td>0</td>\n      <td>1</td>\n      <td>0</td>\n      <td>1</td>\n      <td>1</td>\n      <td>1</td>\n      <td>1970-01-01 00:00:00.000200904</td>\n      <td>1970-01-01 00:00:00.000000000</td>\n      <td>0</td>\n      <td>0</td>\n    </tr>\n    <tr>\n      <th>3999</th>\n      <td>4625902</td>\n      <td>23386</td>\n      <td>0</td>\n      <td>90</td>\n      <td>4</td>\n      <td>2</td>\n      <td>0</td>\n      <td>3</td>\n      <td>1</td>\n      <td>12</td>\n      <td>...</td>\n      <td>0</td>\n      <td>3</td>\n      <td>0</td>\n      <td>0</td>\n      <td>5</td>\n      <td>1</td>\n      <td>1970-01-01 00:00:00.000200904</td>\n      <td>1970-01-01 00:00:00.000000000</td>\n      <td>0</td>\n      <td>0</td>\n    </tr>\n    <tr>\n      <th>4000</th>\n      <td>4626536</td>\n      <td>2121</td>\n      <td>2121</td>\n      <td>53</td>\n      <td>11</td>\n      <td>2</td>\n      <td>0</td>\n      <td>2</td>\n      <td>2</td>\n      <td>18</td>\n      <td>...</td>\n      <td>0</td>\n      <td>0</td>\n      <td>0</td>\n      <td>0</td>\n      <td>0</td>\n      <td>0</td>\n      <td>1970-01-01 00:00:00.000000000</td>\n      <td>1970-01-01 00:00:00.000000000</td>\n      <td>0</td>\n      <td>0</td>\n    </tr>\n    <tr>\n      <th>4001</th>\n      <td>4627251</td>\n      <td>41771</td>\n      <td>41771</td>\n      <td>25</td>\n      <td>11</td>\n      <td>2</td>\n      <td>1</td>\n      <td>3</td>\n      <td>1</td>\n      <td>13</td>\n      <td>...</td>\n      <td>0</td>\n      <td>0</td>\n      <td>0</td>\n      <td>0</td>\n      <td>0</td>\n      <td>0</td>\n      <td>1970-01-01 00:00:00.000000000</td>\n      <td>1970-01-01 00:00:00.000000000</td>\n      <td>0</td>\n      <td>0</td>\n    </tr>\n    <tr>\n      <th>4002</th>\n      <td>4628251</td>\n      <td>46353</td>\n      <td>46353</td>\n      <td>25</td>\n      <td>12</td>\n      <td>1</td>\n      <td>1</td>\n      <td>1</td>\n      <td>1</td>\n      <td>14</td>\n      <td>...</td>\n      <td>0</td>\n      <td>2</td>\n      <td>0</td>\n      <td>0</td>\n      <td>1</td>\n      <td>1</td>\n      <td>1970-01-01 00:00:00.000200904</td>\n      <td>1970-01-01 00:00:00.000201003</td>\n      <td>0</td>\n      <td>0</td>\n    </tr>\n  </tbody>\n</table>\n<p>3811 rows × 145 columns</p>\n</div>"
          },
          "metadata": {}
        }
      ],
      "execution_count": 165,
      "metadata": {
        "jupyter": {
          "source_hidden": false,
          "outputs_hidden": false
        },
        "nteract": {
          "transient": {
            "deleting": false
          }
        },
        "gather": {
          "logged": 1730034325956
        }
      }
    },
    {
      "cell_type": "markdown",
      "source": [
        "### How they met"
      ],
      "metadata": {
        "nteract": {
          "transient": {
            "deleting": false
          }
        }
      }
    },
    {
      "cell_type": "code",
      "source": [
        "how_couples_met_mappings = {\n",
        "    'q25': {1: \"Same High School\", 2: \"Different High School\"},\n",
        "    'q26': {1: \"Same College/University\", 2: \"Different College/University\"},\n",
        "    'q27': {1: \"Grew Up in Same City\", 2: \"Did Not Grow Up in Same City\"},\n",
        "    'q28': {1: \"Parents Met Each Other\", 2: \"Parents Did Not Meet Each Other\"}\n",
        "}\n",
        "\n",
        "# Create a dictionary to store frequencies of each question for the value \"1\" only\n",
        "frequency_data = {}\n",
        "\n",
        "# Map each question, filter for value \"1\" only, and calculate the frequency\n",
        "for question, mapping in how_couples_met_mappings.items():\n",
        "    # Filter to include only rows where the value is 1\n",
        "    filtered_data = df[df[question] == 1]\n",
        "    # Map the filtered data to descriptive labels\n",
        "    mapped_data = filtered_data[question].map(mapping)\n",
        "    # Count the occurrences\n",
        "    counts = mapped_data.value_counts().sort_index()\n",
        "    frequency_data[question] = counts\n",
        "\n",
        "# Create a single DataFrame for visualization\n",
        "frequency_df = pd.DataFrame(frequency_data).fillna(0)  # Fill NaN with 0 for consistent plotting\n",
        "\n",
        "# Plot each question's frequency distribution in a bar chart\n",
        "frequency_df.plot(kind='bar', figsize=(10, 6), legend=False)\n",
        "plt.title(\"Frequency Distribution of How Couples Met\")\n",
        "plt.xlabel(\"How they met\")\n",
        "plt.ylabel(\"Frequency\")\n",
        "plt.xticks(rotation=45)\n",
        "plt.tight_layout()  # Optimize spacing\n",
        "plt.show()\n"
      ],
      "outputs": [
        {
          "output_type": "display_data",
          "data": {
            "text/plain": "<Figure size 1000x600 with 1 Axes>",
            "image/png": "[encoded data removed]"
          },
          "metadata": {}
        }
      ],
      "execution_count": 166,
      "metadata": {
        "jupyter": {
          "source_hidden": false,
          "outputs_hidden": false
        },
        "nteract": {
          "transient": {
            "deleting": false
          }
        },
        "gather": {
          "logged": 1730034328862
        }
      }
    },
    {
      "cell_type": "code",
      "source": [
        "# Define the dictionaries for meeting places and labels\n",
        "meeting_place = {\n",
        "    'q31_1': {0: \"No\", 1: \"Yes\"},\n",
        "    'q31_2': {0: \"No\", 1: \"Yes\"},\n",
        "    'q31_3': {0: \"No\", 1: \"Yes\"},\n",
        "    'q31_4': {0: \"No\", 1: \"Yes\"},\n",
        "    'q31_5': {0: \"No\", 1: \"Yes\"},\n",
        "    'q31_6': {0: \"No\", 1: \"Yes\"},\n",
        "    'q31_7': {0: \"No\", 1: \"Yes\"},\n",
        "    'q31_8': {0: \"No\", 1: \"Yes\"},\n",
        "    'q31_other_text_entered': {0: \"No\", 1: \"Yes\"}\n",
        "}\n",
        "\n",
        "place_labels = {\n",
        "    'q31_1': \"Met at Work\",\n",
        "    'q31_2': \"Met at School\",\n",
        "    'q31_3': \"Met at Church\",\n",
        "    'q31_4': \"Met on Dating Apps\",\n",
        "    'q31_5': \"Met on Vacation/Trip\",\n",
        "    'q31_6': \"Met at a Bar/Night Club\",\n",
        "    'q31_7': \"Met at a Social Organization\",\n",
        "    'q31_8': \"Met at a Private Party\",\n",
        "    'q31_other_text_entered': \"Met in Other Way\"\n",
        "}\n",
        "\n",
        "# Dictionary to store frequencies for each meeting method where the value is 1 (Yes)\n",
        "meeting_frequencies = {}\n",
        "\n",
        "# Calculate the frequency for each meeting method, counting only \"Yes\" responses (value = 1)\n",
        "for question, label in place_labels.items():\n",
        "    # Count occurrences of 1 (Yes) for each question\n",
        "    meeting_frequencies[label] = df[question].value_counts().get(1, 0)\n",
        "\n",
        "# Convert the dictionary to a DataFrame for visualization\n",
        "meeting_df = pd.DataFrame(list(meeting_frequencies.items()), columns=['Meeting Method', 'Count'])\n",
        "\n",
        "# Plot the frequency distribution in a bar chart\n",
        "plt.figure(figsize=(10, 6))\n",
        "plt.bar(meeting_df['Meeting Method'], meeting_df['Count'], color='skyblue')\n",
        "plt.title(\"Frequency Distribution of Ways Respondents Met Their Partner (Yes Only)\")\n",
        "plt.xlabel(\"Meeting Method\")\n",
        "plt.ylabel(\"Frequency (Yes)\")\n",
        "plt.xticks(rotation=45)\n",
        "plt.tight_layout()  # Optimize spacing\n",
        "plt.show()\n"
      ],
      "outputs": [
        {
          "output_type": "display_data",
          "data": {
            "text/plain": "<Figure size 1000x600 with 1 Axes>",
            "image/png": "[encoded data removed]"
          },
          "metadata": {}
        }
      ],
      "execution_count": 167,
      "metadata": {
        "jupyter": {
          "source_hidden": false,
          "outputs_hidden": false
        },
        "nteract": {
          "transient": {
            "deleting": false
          }
        },
        "gather": {
          "logged": 1730034331627
        }
      }
    },
    {
      "cell_type": "code",
      "source": [
        "# Define the mapping for q32\n",
        "is_internet_mapping = {\n",
        "    1: \"Yes, a Social Networking Site\",\n",
        "    2: \"No, We Did Not Meet Through the Internet\",\n",
        "    3: \"Yes, an Internet Dating or Matchmaking Site\"\n",
        "}\n",
        "\n",
        "# Map the 'q32' column to descriptive labels\n",
        "is_internet = df['q32'].map(is_internet_mapping)\n",
        "\n",
        "# Calculate the frequency of each category\n",
        "is_internet_counts = is_internet.value_counts().sort_index()\n",
        "\n",
        "# Convert counts to percentages\n",
        "total_is_internet = is_internet_counts.sum()\n",
        "is_internet_percentages = (is_internet_counts / total_is_internet * 100).round(1)\n",
        "\n",
        "# Create a DataFrame with counts and percentages for q32\n",
        "is_internet_distribution = pd.DataFrame({\n",
        "    'Category': is_internet_counts.index,\n",
        "    'Count': is_internet_counts.values,\n",
        "    'Percentage': is_internet_percentages.values\n",
        "})\n",
        "\n",
        "# Display the resulting DataFrame\n",
        "is_internet_distribution"
      ],
      "outputs": [
        {
          "output_type": "execute_result",
          "execution_count": 168,
          "data": {
            "text/plain": "                                      Category  Count  Percentage\n0     No, We Did Not Meet Through the Internet   2541        94.9\n1                Yes, a Social Networking Site     47         1.8\n2  Yes, an Internet Dating or Matchmaking Site     89         3.3",
            "text/html": "<div>\n<style scoped>\n    .dataframe tbody tr th:only-of-type {\n        vertical-align: middle;\n    }\n\n    .dataframe tbody tr th {\n        vertical-align: top;\n    }\n\n    .dataframe thead th {\n        text-align: right;\n    }\n</style>\n<table border=\"1\" class=\"dataframe\">\n  <thead>\n    <tr style=\"text-align: right;\">\n      <th></th>\n      <th>Category</th>\n      <th>Count</th>\n      <th>Percentage</th>\n    </tr>\n  </thead>\n  <tbody>\n    <tr>\n      <th>0</th>\n      <td>No, We Did Not Meet Through the Internet</td>\n      <td>2541</td>\n      <td>94.9</td>\n    </tr>\n    <tr>\n      <th>1</th>\n      <td>Yes, a Social Networking Site</td>\n      <td>47</td>\n      <td>1.8</td>\n    </tr>\n    <tr>\n      <th>2</th>\n      <td>Yes, an Internet Dating or Matchmaking Site</td>\n      <td>89</td>\n      <td>3.3</td>\n    </tr>\n  </tbody>\n</table>\n</div>"
          },
          "metadata": {}
        }
      ],
      "execution_count": 168,
      "metadata": {
        "jupyter": {
          "source_hidden": false,
          "outputs_hidden": false
        },
        "nteract": {
          "transient": {
            "deleting": false
          }
        },
        "gather": {
          "logged": 1730034334438
        }
      }
    },
    {
      "cell_type": "code",
      "source": [
        "4# Define mappings and descriptive labels for each question in q33 series\n",
        "q33_mappings = {\n",
        "    'q33_1': {0: \"No\", 1: \"Yes\"},\n",
        "    'q33_2': {0: \"No\", 1: \"Yes\"},\n",
        "    'q33_3': {0: \"No\", 1: \"Yes\"},\n",
        "    'q33_4': {0: \"No\", 1: \"Yes\"},\n",
        "    'q33_6': {0: \"No\", 1: \"Yes\"},\n",
        "    'q33_7': {0: \"No\", 1: \"Yes\"},\n",
        "}\n",
        "\n",
        "# Define descriptive labels for each question\n",
        "q33_labels = {\n",
        "    'q33_1': \"Met Through Family\",\n",
        "    'q33_2': \"Met Through Friends\",\n",
        "    'q33_3': \"Met Through Coworkers\",\n",
        "    'q33_4': \"Met Through Classmates\",\n",
        "    'q33_6': \"Self or Partner Introduced\",\n",
        "    'q33_7': \"Other Person Introduced\",\n",
        "    'q33_8': \"Other\"\n",
        "}\n",
        "\n",
        "# Dictionary to store frequencies for \"Yes\" only\n",
        "q33_frequencies = {}\n",
        "\n",
        "# Apply mapping and calculate frequency of \"Yes\" for each question\n",
        "for question, mapping in q33_mappings.items():\n",
        "    # Map values in each column and count occurrences of \"Yes\" (value 1)\n",
        "    mapped_data = df[question].map(mapping)\n",
        "    q33_frequencies[q33_labels[question]] = mapped_data.value_counts().get(\"Yes\", 0)\n",
        "\n",
        "# Convert dictionary to a DataFrame for visualization\n",
        "q33_df = pd.DataFrame(list(q33_frequencies.items()), columns=['Introduction Method', 'Count'])\n",
        "\n",
        "# Plot the frequency distribution in a bar chart\n",
        "plt.figure(figsize=(10, 6))\n",
        "plt.bar(q33_df['Introduction Method'], q33_df['Count'])\n",
        "plt.title(\"Frequency Distribution of Introduction Methods (Yes Responses Only)\")\n",
        "plt.xlabel(\"Introduction Method\")\n",
        "plt.ylabel(\"Frequency (Yes)\")\n",
        "plt.xticks(rotation=45)\n",
        "plt.tight_layout()  # Optimize spacing\n",
        "plt.show()\n"
      ],
      "outputs": [
        {
          "output_type": "display_data",
          "data": {
            "text/plain": "<Figure size 1000x600 with 1 Axes>",
            "image/png": "[encoded data removed]"
          },
          "metadata": {}
        }
      ],
      "execution_count": 169,
      "metadata": {
        "jupyter": {
          "source_hidden": false,
          "outputs_hidden": false
        },
        "nteract": {
          "transient": {
            "deleting": false
          }
        },
        "gather": {
          "logged": 1730034336886
        }
      }
    },
    {
      "cell_type": "markdown",
      "source": [
        "### Income "
      ],
      "metadata": {
        "nteract": {
          "transient": {
            "deleting": false
          }
        }
      }
    },
    {
      "cell_type": "code",
      "source": [
        "income_mapping = {\n",
        "    1: \"Less than 5,000\",\n",
        "    2: \"5,000 to 7,499\",\n",
        "    3: \"7,500 to 9,999\",\n",
        "    4: \"10,000 to 12,499\",\n",
        "    5: \"12,500 to 14,999\",\n",
        "    6: \"15,000 to 19,999\",\n",
        "    7: \"20,000 to 24,999\",\n",
        "    8: \"25,000 to 29,999\",\n",
        "    9: \"30,000 to 34,999\",\n",
        "    10: \"35,000 to 39,999\",\n",
        "    11: \"40,000 to 49,999\",\n",
        "    12: \"50,000 to 59,999\",\n",
        "    13: \"60,000 to 74,999\",\n",
        "    14: \"75,000 to 84,999\",\n",
        "    15: \"85,000 to 99,999\",\n",
        "    16: \"100,000 to 124,999\",\n",
        "    17: \"125,000 to 149,999\",\n",
        "    18: \"150,000 to 174,999\",\n",
        "    19: \"175,000 or more\"\n",
        "}\n",
        "\n",
        "# Map the 'ppincimp' column to descriptive income ranges\n",
        "mapped_income = df['ppincimp'].map(income_mapping)\n",
        "\n",
        "# Calculate the frequency of each income range\n",
        "income_counts = mapped_income.value_counts().sort_index()\n",
        "\n",
        "# Convert counts to percentages\n",
        "total_income = income_counts.sum()\n",
        "income_percentages = (income_counts / total_income * 100).round(1)\n",
        "\n",
        "# Create a DataFrame with counts and percentages for household income\n",
        "income_distribution = pd.DataFrame({\n",
        "    'Income Range': income_counts.index,\n",
        "    'Count': income_counts.values,\n",
        "    'Percentage': income_percentages.values\n",
        "})\n",
        "\n",
        "# Sort the income distribution DataFrame from least to most common based on count\n",
        "income_distribution_sorted = income_distribution.sort_values(by='Count')\n",
        "\n",
        "# Display the sorted DataFrame\n",
        "income_distribution_sorted\n"
      ],
      "outputs": [
        {
          "output_type": "execute_result",
          "execution_count": 170,
          "data": {
            "text/plain": "          Income Range  Count  Percentage\n0      Less than 5,000     43         1.1\n1       5,000 to 7,499     52         1.4\n4     12,500 to 14,999     79         2.1\n17  150,000 to 174,999     81         2.1\n2       7,500 to 9,999     94         2.5\n3     10,000 to 12,499    102         2.7\n18     175,000 or more    122         3.2\n5     15,000 to 19,999    149         3.9\n16  125,000 to 149,999    156         4.1\n8     30,000 to 34,999    195         5.1\n7     25,000 to 29,999    204         5.4\n6     20,000 to 24,999    212         5.6\n9     35,000 to 39,999    246         6.5\n15  100,000 to 124,999    273         7.2\n13    75,000 to 84,999    277         7.3\n14    85,000 to 99,999    297         7.8\n10    40,000 to 49,999    385        10.1\n11    50,000 to 59,999    406        10.7\n12    60,000 to 74,999    438        11.5",
            "text/html": "<div>\n<style scoped>\n    .dataframe tbody tr th:only-of-type {\n        vertical-align: middle;\n    }\n\n    .dataframe tbody tr th {\n        vertical-align: top;\n    }\n\n    .dataframe thead th {\n        text-align: right;\n    }\n</style>\n<table border=\"1\" class=\"dataframe\">\n  <thead>\n    <tr style=\"text-align: right;\">\n      <th></th>\n      <th>Income Range</th>\n      <th>Count</th>\n      <th>Percentage</th>\n    </tr>\n  </thead>\n  <tbody>\n    <tr>\n      <th>0</th>\n      <td>Less than 5,000</td>\n      <td>43</td>\n      <td>1.1</td>\n    </tr>\n    <tr>\n      <th>1</th>\n      <td>5,000 to 7,499</td>\n      <td>52</td>\n      <td>1.4</td>\n    </tr>\n    <tr>\n      <th>4</th>\n      <td>12,500 to 14,999</td>\n      <td>79</td>\n      <td>2.1</td>\n    </tr>\n    <tr>\n      <th>17</th>\n      <td>150,000 to 174,999</td>\n      <td>81</td>\n      <td>2.1</td>\n    </tr>\n    <tr>\n      <th>2</th>\n      <td>7,500 to 9,999</td>\n      <td>94</td>\n      <td>2.5</td>\n    </tr>\n    <tr>\n      <th>3</th>\n      <td>10,000 to 12,499</td>\n      <td>102</td>\n      <td>2.7</td>\n    </tr>\n    <tr>\n      <th>18</th>\n      <td>175,000 or more</td>\n      <td>122</td>\n      <td>3.2</td>\n    </tr>\n    <tr>\n      <th>5</th>\n      <td>15,000 to 19,999</td>\n      <td>149</td>\n      <td>3.9</td>\n    </tr>\n    <tr>\n      <th>16</th>\n      <td>125,000 to 149,999</td>\n      <td>156</td>\n      <td>4.1</td>\n    </tr>\n    <tr>\n      <th>8</th>\n      <td>30,000 to 34,999</td>\n      <td>195</td>\n      <td>5.1</td>\n    </tr>\n    <tr>\n      <th>7</th>\n      <td>25,000 to 29,999</td>\n      <td>204</td>\n      <td>5.4</td>\n    </tr>\n    <tr>\n      <th>6</th>\n      <td>20,000 to 24,999</td>\n      <td>212</td>\n      <td>5.6</td>\n    </tr>\n    <tr>\n      <th>9</th>\n      <td>35,000 to 39,999</td>\n      <td>246</td>\n      <td>6.5</td>\n    </tr>\n    <tr>\n      <th>15</th>\n      <td>100,000 to 124,999</td>\n      <td>273</td>\n      <td>7.2</td>\n    </tr>\n    <tr>\n      <th>13</th>\n      <td>75,000 to 84,999</td>\n      <td>277</td>\n      <td>7.3</td>\n    </tr>\n    <tr>\n      <th>14</th>\n      <td>85,000 to 99,999</td>\n      <td>297</td>\n      <td>7.8</td>\n    </tr>\n    <tr>\n      <th>10</th>\n      <td>40,000 to 49,999</td>\n      <td>385</td>\n      <td>10.1</td>\n    </tr>\n    <tr>\n      <th>11</th>\n      <td>50,000 to 59,999</td>\n      <td>406</td>\n      <td>10.7</td>\n    </tr>\n    <tr>\n      <th>12</th>\n      <td>60,000 to 74,999</td>\n      <td>438</td>\n      <td>11.5</td>\n    </tr>\n  </tbody>\n</table>\n</div>"
          },
          "metadata": {}
        }
      ],
      "execution_count": 170,
      "metadata": {
        "jupyter": {
          "source_hidden": false,
          "outputs_hidden": false
        },
        "nteract": {
          "transient": {
            "deleting": false
          }
        },
        "gather": {
          "logged": 1730034339745
        }
      }
    },
    {
      "cell_type": "code",
      "source": [
        "# Define the mapping for employment status (ppwork)\n",
        "ppwork_mapping = {\n",
        "    1: \"Working - as a Paid Employee\",\n",
        "    2: \"Working - Self-Employed\",\n",
        "    3: \"Not Working - On Temporary Layoff from a Job\",\n",
        "    4: \"Not Working - Looking for Work\",\n",
        "    5: \"Not Working - Retired\",\n",
        "    6: \"Not Working - Disabled\",\n",
        "    7: \"Not Working - Other\"\n",
        "}\n",
        "\n",
        "# Map the 'ppwork' column to descriptive employment status\n",
        "mapped_work_status = df['ppwork'].map(ppwork_mapping)\n",
        "\n",
        "# Calculate the frequency of each employment status\n",
        "work_status_counts = mapped_work_status.value_counts().sort_index()\n",
        "\n",
        "# Convert counts to percentages\n",
        "total_work_status = work_status_counts.sum()\n",
        "work_status_percentages = (work_status_counts / total_work_status * 100).round(1)\n",
        "\n",
        "# Create a DataFrame with counts and percentages for employment status\n",
        "work_status_distribution = pd.DataFrame({\n",
        "    'Employment Status': work_status_counts.index,\n",
        "    'Count': work_status_counts.values,\n",
        "    'Percentage': work_status_percentages.values\n",
        "})\n",
        "\n",
        "# Sort the employment status DataFrame from lowest to highest based on count\n",
        "work_status_distribution_sorted = work_status_distribution.sort_values(by='Count')\n",
        "\n",
        "# Display the sorted DataFrame\n",
        "work_status_distribution_sorted\n"
      ],
      "outputs": [
        {
          "output_type": "execute_result",
          "execution_count": 171,
          "data": {
            "text/plain": "                              Employment Status  Count  Percentage\n2  Not Working - On Temporary Layoff from a Job     19         0.5\n3                Not Working - Looking for Work    171         4.5\n6                           Not Working - Other    276         7.2\n1                       Working - Self-Employed    323         8.5\n5                        Not Working - Disabled    324         8.5\n4                         Not Working - Retired    623        16.3\n0                  Working - as a Paid Employee   2075        54.4",
            "text/html": "<div>\n<style scoped>\n    .dataframe tbody tr th:only-of-type {\n        vertical-align: middle;\n    }\n\n    .dataframe tbody tr th {\n        vertical-align: top;\n    }\n\n    .dataframe thead th {\n        text-align: right;\n    }\n</style>\n<table border=\"1\" class=\"dataframe\">\n  <thead>\n    <tr style=\"text-align: right;\">\n      <th></th>\n      <th>Employment Status</th>\n      <th>Count</th>\n      <th>Percentage</th>\n    </tr>\n  </thead>\n  <tbody>\n    <tr>\n      <th>2</th>\n      <td>Not Working - On Temporary Layoff from a Job</td>\n      <td>19</td>\n      <td>0.5</td>\n    </tr>\n    <tr>\n      <th>3</th>\n      <td>Not Working - Looking for Work</td>\n      <td>171</td>\n      <td>4.5</td>\n    </tr>\n    <tr>\n      <th>6</th>\n      <td>Not Working - Other</td>\n      <td>276</td>\n      <td>7.2</td>\n    </tr>\n    <tr>\n      <th>1</th>\n      <td>Working - Self-Employed</td>\n      <td>323</td>\n      <td>8.5</td>\n    </tr>\n    <tr>\n      <th>5</th>\n      <td>Not Working - Disabled</td>\n      <td>324</td>\n      <td>8.5</td>\n    </tr>\n    <tr>\n      <th>4</th>\n      <td>Not Working - Retired</td>\n      <td>623</td>\n      <td>16.3</td>\n    </tr>\n    <tr>\n      <th>0</th>\n      <td>Working - as a Paid Employee</td>\n      <td>2075</td>\n      <td>54.4</td>\n    </tr>\n  </tbody>\n</table>\n</div>"
          },
          "metadata": {}
        }
      ],
      "execution_count": 171,
      "metadata": {
        "jupyter": {
          "source_hidden": false,
          "outputs_hidden": false
        },
        "nteract": {
          "transient": {
            "deleting": false
          }
        },
        "gather": {
          "logged": 1730034343530
        }
      }
    },
    {
      "cell_type": "code",
      "source": [
        "# Define the mapping for income comparison (q23)\n",
        "q23_mapping = {\n",
        "    1: \"I Earned More\",\n",
        "    2: \"We Earned About the Same Amount\",\n",
        "    3: \"Partner Earned More\"\n",
        "}\n",
        "\n",
        "# Map the 'q23' column to descriptive labels for income comparison\n",
        "mapped_income_comparison = df['q23'].map(q23_mapping)\n",
        "\n",
        "# Calculate the frequency of each income comparison response\n",
        "income_comparison_counts = mapped_income_comparison.value_counts().sort_index()\n",
        "\n",
        "# Convert counts to percentages\n",
        "total_income_comparison = income_comparison_counts.sum()\n",
        "income_comparison_percentages = (income_comparison_counts / total_income_comparison * 100).round(1)\n",
        "\n",
        "# Create a DataFrame with counts and percentages for income comparison\n",
        "income_comparison_distribution = pd.DataFrame({\n",
        "    'Income Comparison': income_comparison_counts.index,\n",
        "    'Count': income_comparison_counts.values,\n",
        "    'Percentage': income_comparison_percentages.values\n",
        "})\n",
        "\n",
        "# Sort the DataFrame by count in ascending order\n",
        "income_comparison_distribution_sorted = income_comparison_distribution.sort_values(by='Count')\n",
        "\n",
        "# Display the sorted DataFrame\n",
        "income_comparison_distribution_sorted\n"
      ],
      "outputs": [
        {
          "output_type": "execute_result",
          "execution_count": 172,
          "data": {
            "text/plain": "                 Income Comparison  Count  Percentage\n2  We Earned About the Same Amount    352        12.6\n1              Partner Earned More   1183        42.4\n0                    I Earned More   1253        44.9",
            "text/html": "<div>\n<style scoped>\n    .dataframe tbody tr th:only-of-type {\n        vertical-align: middle;\n    }\n\n    .dataframe tbody tr th {\n        vertical-align: top;\n    }\n\n    .dataframe thead th {\n        text-align: right;\n    }\n</style>\n<table border=\"1\" class=\"dataframe\">\n  <thead>\n    <tr style=\"text-align: right;\">\n      <th></th>\n      <th>Income Comparison</th>\n      <th>Count</th>\n      <th>Percentage</th>\n    </tr>\n  </thead>\n  <tbody>\n    <tr>\n      <th>2</th>\n      <td>We Earned About the Same Amount</td>\n      <td>352</td>\n      <td>12.6</td>\n    </tr>\n    <tr>\n      <th>1</th>\n      <td>Partner Earned More</td>\n      <td>1183</td>\n      <td>42.4</td>\n    </tr>\n    <tr>\n      <th>0</th>\n      <td>I Earned More</td>\n      <td>1253</td>\n      <td>44.9</td>\n    </tr>\n  </tbody>\n</table>\n</div>"
          },
          "metadata": {}
        }
      ],
      "execution_count": 172,
      "metadata": {
        "jupyter": {
          "source_hidden": false,
          "outputs_hidden": false
        },
        "nteract": {
          "transient": {
            "deleting": false
          }
        },
        "gather": {
          "logged": 1730034346326
        }
      }
    },
    {
      "cell_type": "markdown",
      "source": [
        "### Household"
      ],
      "metadata": {
        "nteract": {
          "transient": {
            "deleting": false
          }
        }
      }
    },
    {
      "cell_type": "code",
      "source": [
        "# Define the mapping for type of housing (pphouse)\n",
        "pphouse_mapping = {\n",
        "    1: \"A One-Family House Detached from Any Other House\",\n",
        "    2: \"A One-Family House Attached to One or More Houses\",\n",
        "    3: \"A Building with 2 or More Apartments\",\n",
        "    4: \"A Mobile Home\",\n",
        "    5: \"Boat, RV, Van, etc.\"\n",
        "}\n",
        "\n",
        "# Map the 'pphouse' column to descriptive housing types\n",
        "mapped_pphouse = df['pphouse'].map(pphouse_mapping)\n",
        "\n",
        "# Calculate the frequency of each housing type\n",
        "pphouse_counts = mapped_pphouse.value_counts().sort_index()\n",
        "\n",
        "# Plot the data in a bar chart\n",
        "plt.figure(figsize=(10, 6))\n",
        "pphouse_counts.plot(kind='bar', color='skyblue')\n",
        "plt.title(\"Distribution of Housing Types\")\n",
        "plt.xlabel(\"Housing Type\")\n",
        "plt.ylabel(\"Frequency\")\n",
        "plt.xticks(rotation=45, ha=\"right\")\n",
        "plt.tight_layout()\n",
        "plt.show()\n"
      ],
      "outputs": [
        {
          "output_type": "display_data",
          "data": {
            "text/plain": "<Figure size 1000x600 with 1 Axes>",
            "image/png": "[encoded data removed]"
          },
          "metadata": {}
        }
      ],
      "execution_count": 173,
      "metadata": {
        "jupyter": {
          "source_hidden": false,
          "outputs_hidden": false
        },
        "nteract": {
          "transient": {
            "deleting": false
          }
        },
        "gather": {
          "logged": 1730034349492
        }
      }
    },
    {
      "cell_type": "code",
      "source": [
        "# Define the mapping for metro vs. non-metro areas (ppmsacat)\n",
        "ppmsacat_mapping = {\n",
        "    0: \"Non-Metro\",\n",
        "    1: \"Metro\"\n",
        "}\n",
        "\n",
        "# Map the 'ppmsacat' column to descriptive labels\n",
        "mapped_ppmsacat = df['ppmsacat'].map(ppmsacat_mapping)\n",
        "\n",
        "# Calculate the frequency of each category\n",
        "ppmsacat_counts = mapped_ppmsacat.value_counts().sort_index()\n",
        "\n",
        "# Convert counts to percentages\n",
        "total_ppmsacat = ppmsacat_counts.sum()\n",
        "ppmsacat_percentages = (ppmsacat_counts / total_ppmsacat * 100).round(1)\n",
        "\n",
        "# Create a DataFrame with counts and percentages for metro vs. non-metro\n",
        "ppmsacat_distribution = pd.DataFrame({\n",
        "    'Category': ppmsacat_counts.index,\n",
        "    'Count': ppmsacat_counts.values,\n",
        "    'Percentage': ppmsacat_percentages.values\n",
        "})\n",
        "\n",
        "# Sort the DataFrame by count in ascending order\n",
        "ppmsacat_distribution_sorted = ppmsacat_distribution.sort_values(by='Count')\n",
        "\n",
        "# Display the sorted DataFrame\n",
        "ppmsacat_distribution_sorted\n"
      ],
      "outputs": [
        {
          "output_type": "execute_result",
          "execution_count": 174,
          "data": {
            "text/plain": "    Category  Count  Percentage\n0  Non-Metro    544        14.3\n1      Metro   3267        85.7",
            "text/html": "<div>\n<style scoped>\n    .dataframe tbody tr th:only-of-type {\n        vertical-align: middle;\n    }\n\n    .dataframe tbody tr th {\n        vertical-align: top;\n    }\n\n    .dataframe thead th {\n        text-align: right;\n    }\n</style>\n<table border=\"1\" class=\"dataframe\">\n  <thead>\n    <tr style=\"text-align: right;\">\n      <th></th>\n      <th>Category</th>\n      <th>Count</th>\n      <th>Percentage</th>\n    </tr>\n  </thead>\n  <tbody>\n    <tr>\n      <th>0</th>\n      <td>Non-Metro</td>\n      <td>544</td>\n      <td>14.3</td>\n    </tr>\n    <tr>\n      <th>1</th>\n      <td>Metro</td>\n      <td>3267</td>\n      <td>85.7</td>\n    </tr>\n  </tbody>\n</table>\n</div>"
          },
          "metadata": {}
        }
      ],
      "execution_count": 174,
      "metadata": {
        "jupyter": {
          "source_hidden": false,
          "outputs_hidden": false
        },
        "nteract": {
          "transient": {
            "deleting": false
          }
        },
        "gather": {
          "logged": 1730034351921
        }
      }
    },
    {
      "cell_type": "code",
      "source": [
        "# Define the mapping for home occupancy types (pprent)\n",
        "pprent_mapping = {\n",
        "    1: \"Owned or being bought\",\n",
        "    2: \"Rented for cash\",\n",
        "    3: \"Occupied without payment of cash rent\"\n",
        "}\n",
        "\n",
        "# Map the 'pprent' column to descriptive labels\n",
        "mapped_pprent = df['pprent'].map(pprent_mapping)\n",
        "\n",
        "# Calculate the frequency of each category\n",
        "pprent_counts = mapped_pprent.value_counts().sort_index()\n",
        "\n",
        "# Convert counts to percentages\n",
        "total_pprent = pprent_counts.sum()\n",
        "pprent_percentages = (pprent_counts / total_pprent * 100).round(1)\n",
        "\n",
        "# Create a DataFrame with counts and percentages for occupancy types\n",
        "pprent_distribution = pd.DataFrame({\n",
        "    'Category': pprent_counts.index,\n",
        "    'Count': pprent_counts.values,\n",
        "    'Percentage': pprent_percentages.values\n",
        "})\n",
        "\n",
        "# Sort the DataFrame by count in ascending order\n",
        "pprent_distribution_sorted = pprent_distribution.sort_values(by='Count')\n",
        "\n",
        "# Display the sorted DataFrame\n",
        "pprent_distribution_sorted"
      ],
      "outputs": [
        {
          "output_type": "execute_result",
          "execution_count": 175,
          "data": {
            "text/plain": "                                Category  Count  Percentage\n2  Occupied without payment of cash rent     65         1.7\n1                        Rented for cash    839        22.0\n0                  Owned or being bought   2907        76.3",
            "text/html": "<div>\n<style scoped>\n    .dataframe tbody tr th:only-of-type {\n        vertical-align: middle;\n    }\n\n    .dataframe tbody tr th {\n        vertical-align: top;\n    }\n\n    .dataframe thead th {\n        text-align: right;\n    }\n</style>\n<table border=\"1\" class=\"dataframe\">\n  <thead>\n    <tr style=\"text-align: right;\">\n      <th></th>\n      <th>Category</th>\n      <th>Count</th>\n      <th>Percentage</th>\n    </tr>\n  </thead>\n  <tbody>\n    <tr>\n      <th>2</th>\n      <td>Occupied without payment of cash rent</td>\n      <td>65</td>\n      <td>1.7</td>\n    </tr>\n    <tr>\n      <th>1</th>\n      <td>Rented for cash</td>\n      <td>839</td>\n      <td>22.0</td>\n    </tr>\n    <tr>\n      <th>0</th>\n      <td>Owned or being bought</td>\n      <td>2907</td>\n      <td>76.3</td>\n    </tr>\n  </tbody>\n</table>\n</div>"
          },
          "metadata": {}
        }
      ],
      "execution_count": 175,
      "metadata": {
        "jupyter": {
          "source_hidden": false,
          "outputs_hidden": false
        },
        "nteract": {
          "transient": {
            "deleting": false
          }
        },
        "gather": {
          "logged": 1730034354596
        }
      }
    },
    {
      "cell_type": "code",
      "source": [
        "# Define the mapping for home occupancy types in PP2_PPRENT\n",
        "pp2_pprent_mapping = {\n",
        "    1: \"Owned or being bought\",\n",
        "    2: \"Rented for cash\",\n",
        "    3: \"Occupied without payment of cash rent\"\n",
        "}\n",
        "\n",
        "# Map the 'PP2_PPRENT' column to descriptive labels\n",
        "mapped_pp2_pprent = df['pp2_pprent'].map(pp2_pprent_mapping)\n",
        "\n",
        "# Calculate the frequency of each category\n",
        "pp2_pprent_counts = mapped_pp2_pprent.value_counts().sort_index()\n",
        "\n",
        "# Convert counts to percentages\n",
        "total_pp2_pprent = pp2_pprent_counts.sum()\n",
        "pp2_pprent_percentages = (pp2_pprent_counts / total_pp2_pprent * 100).round(1)\n",
        "\n",
        "# Create a DataFrame with counts and percentages for occupancy types\n",
        "pp2_pprent_distribution = pd.DataFrame({\n",
        "    'Category': pp2_pprent_counts.index,\n",
        "    'Count': pp2_pprent_counts.values,\n",
        "    'Percentage': pp2_pprent_percentages.values\n",
        "})\n",
        "\n",
        "# Sort the DataFrame by count in ascending order\n",
        "pp2_pprent_distribution_sorted = pp2_pprent_distribution.sort_values(by='Count')\n",
        "\n",
        "# Display the sorted DataFrame\n",
        "pp2_pprent_distribution_sorted\n"
      ],
      "outputs": [
        {
          "output_type": "execute_result",
          "execution_count": 176,
          "data": {
            "text/plain": "                                Category  Count  Percentage\n0  Occupied without payment of cash rent     60         1.7\n2                        Rented for cash    778        22.1\n1                  Owned or being bought   2679        76.2",
            "text/html": "<div>\n<style scoped>\n    .dataframe tbody tr th:only-of-type {\n        vertical-align: middle;\n    }\n\n    .dataframe tbody tr th {\n        vertical-align: top;\n    }\n\n    .dataframe thead th {\n        text-align: right;\n    }\n</style>\n<table border=\"1\" class=\"dataframe\">\n  <thead>\n    <tr style=\"text-align: right;\">\n      <th></th>\n      <th>Category</th>\n      <th>Count</th>\n      <th>Percentage</th>\n    </tr>\n  </thead>\n  <tbody>\n    <tr>\n      <th>0</th>\n      <td>Occupied without payment of cash rent</td>\n      <td>60</td>\n      <td>1.7</td>\n    </tr>\n    <tr>\n      <th>2</th>\n      <td>Rented for cash</td>\n      <td>778</td>\n      <td>22.1</td>\n    </tr>\n    <tr>\n      <th>1</th>\n      <td>Owned or being bought</td>\n      <td>2679</td>\n      <td>76.2</td>\n    </tr>\n  </tbody>\n</table>\n</div>"
          },
          "metadata": {}
        }
      ],
      "execution_count": 176,
      "metadata": {
        "jupyter": {
          "source_hidden": false,
          "outputs_hidden": false
        },
        "nteract": {
          "transient": {
            "deleting": false
          }
        },
        "gather": {
          "logged": 1730034357271
        }
      }
    },
    {
      "cell_type": "code",
      "source": [
        "# Filter for rows where the value of 'pprent' is different from 'pp2_pprent' for each unique 'caseid_new'\n",
        "different_pprent = df[df['caseid_new'].isin(df[df['pprent'].astype(str) != df['pp2_pprent'].astype(str)]['caseid_new'])]\n",
        "\n",
        "# Define the mapping for 'w2_broke_up' values\n",
        "w2_broke_up_mapping = {\n",
        "    0: \"Still together\",\n",
        "    1: \"Broke up\",\n",
        "    2: \"Partner passed away\"\n",
        "}\n",
        "\n",
        "# Map 'w2_broke_up' values within the temporary filtered DataFrame\n",
        "different_pprent['w2_broke_up_mapped'] = different_pprent['w2_broke_up'].map(w2_broke_up_mapping)\n",
        "\n",
        "# Calculate the frequency of each breakup status (w2_broke_up_mapped) among those respondents\n",
        "w2_broke_up_counts = different_pprent['w2_broke_up_mapped'].value_counts().sort_index()\n",
        "\n",
        "# Convert counts to percentages\n",
        "total_different = w2_broke_up_counts.sum()\n",
        "w2_broke_up_percentages = (w2_broke_up_counts / total_different * 100).round(1)\n",
        "\n",
        "# Create a DataFrame with counts and percentages for breakup status\n",
        "w2_broke_up_distribution_different = pd.DataFrame({\n",
        "    'Breakup Status': w2_broke_up_counts.index,\n",
        "    'Count': w2_broke_up_counts.values,\n",
        "    'Percentage': w2_broke_up_percentages.values\n",
        "})\n",
        "\n",
        "# Display the resulting DataFrame\n",
        "w2_broke_up_distribution_different\n"
      ],
      "outputs": [
        {
          "output_type": "stream",
          "name": "stderr",
          "text": "/tmp/ipykernel_3465/2299127385.py:12: PerformanceWarning: DataFrame is highly fragmented.  This is usually the result of calling `frame.insert` many times, which has poor performance.  Consider joining all columns at once using pd.concat(axis=1) instead.  To get a de-fragmented frame, use `newframe = frame.copy()`\n  different_pprent['w2_broke_up_mapped'] = different_pprent['w2_broke_up'].map(w2_broke_up_mapping)\n/tmp/ipykernel_3465/2299127385.py:12: SettingWithCopyWarning: \nA value is trying to be set on a copy of a slice from a DataFrame.\nTry using .loc[row_indexer,col_indexer] = value instead\n\nSee the caveats in the documentation: https://pandas.pydata.org/pandas-docs/stable/user_guide/indexing.html#returning-a-view-versus-a-copy\n  different_pprent['w2_broke_up_mapped'] = different_pprent['w2_broke_up'].map(w2_broke_up_mapping)\n"
        },
        {
          "output_type": "execute_result",
          "execution_count": 177,
          "data": {
            "text/plain": "        Breakup Status  Count  Percentage\n0       Still together    501        93.6\n1             Broke up     29         5.4\n2  Partner passed away      5         0.9",
            "text/html": "<div>\n<style scoped>\n    .dataframe tbody tr th:only-of-type {\n        vertical-align: middle;\n    }\n\n    .dataframe tbody tr th {\n        vertical-align: top;\n    }\n\n    .dataframe thead th {\n        text-align: right;\n    }\n</style>\n<table border=\"1\" class=\"dataframe\">\n  <thead>\n    <tr style=\"text-align: right;\">\n      <th></th>\n      <th>Breakup Status</th>\n      <th>Count</th>\n      <th>Percentage</th>\n    </tr>\n  </thead>\n  <tbody>\n    <tr>\n      <th>0</th>\n      <td>Still together</td>\n      <td>501</td>\n      <td>93.6</td>\n    </tr>\n    <tr>\n      <th>1</th>\n      <td>Broke up</td>\n      <td>29</td>\n      <td>5.4</td>\n    </tr>\n    <tr>\n      <th>2</th>\n      <td>Partner passed away</td>\n      <td>5</td>\n      <td>0.9</td>\n    </tr>\n  </tbody>\n</table>\n</div>"
          },
          "metadata": {}
        }
      ],
      "execution_count": 177,
      "metadata": {
        "jupyter": {
          "source_hidden": false,
          "outputs_hidden": false
        },
        "nteract": {
          "transient": {
            "deleting": false
          }
        },
        "gather": {
          "logged": 1730034359904
        }
      }
    },
    {
      "cell_type": "code",
      "source": [
        "# Define the mapping for 'q19' (living with partner status)\n",
        "q19_mapping = {\n",
        "    1: \"Yes\",\n",
        "    2: \"No\"\n",
        "}\n",
        "\n",
        "# Map the 'q19' column to descriptive labels\n",
        "mapped_q19 = df['q19'].map(q19_mapping)\n",
        "\n",
        "# Calculate the frequency of each category\n",
        "q19_counts = mapped_q19.value_counts().sort_index()\n",
        "\n",
        "# Convert counts to percentages\n",
        "total_q19 = q19_counts.sum()\n",
        "q19_percentages = (q19_counts / total_q19 * 100).round(1)\n",
        "\n",
        "# Create a DataFrame with counts and percentages for 'q19' categories\n",
        "q19_distribution = pd.DataFrame({\n",
        "    'Category': q19_counts.index,\n",
        "    'Count': q19_counts.values,\n",
        "    'Percentage': q19_percentages.values\n",
        "})\n",
        "\n",
        "# Sort the DataFrame by count in ascending order (if needed)\n",
        "q19_distribution_sorted = q19_distribution.sort_values(by='Count')\n",
        "\n",
        "# Display the sorted DataFrame\n",
        "q19_distribution_sorted\n"
      ],
      "outputs": [
        {
          "output_type": "execute_result",
          "execution_count": 178,
          "data": {
            "text/plain": "  Category  Count  Percentage\n0       No    602        21.4\n1      Yes   2213        78.6",
            "text/html": "<div>\n<style scoped>\n    .dataframe tbody tr th:only-of-type {\n        vertical-align: middle;\n    }\n\n    .dataframe tbody tr th {\n        vertical-align: top;\n    }\n\n    .dataframe thead th {\n        text-align: right;\n    }\n</style>\n<table border=\"1\" class=\"dataframe\">\n  <thead>\n    <tr style=\"text-align: right;\">\n      <th></th>\n      <th>Category</th>\n      <th>Count</th>\n      <th>Percentage</th>\n    </tr>\n  </thead>\n  <tbody>\n    <tr>\n      <th>0</th>\n      <td>No</td>\n      <td>602</td>\n      <td>21.4</td>\n    </tr>\n    <tr>\n      <th>1</th>\n      <td>Yes</td>\n      <td>2213</td>\n      <td>78.6</td>\n    </tr>\n  </tbody>\n</table>\n</div>"
          },
          "metadata": {}
        }
      ],
      "execution_count": 178,
      "metadata": {
        "jupyter": {
          "source_hidden": false,
          "outputs_hidden": false
        },
        "nteract": {
          "transient": {
            "deleting": false
          }
        },
        "gather": {
          "logged": 1730034363272
        }
      }
    },
    {
      "cell_type": "code",
      "source": [
        "# Define the mapping for 'q20' (have you ever lived with a partner)\n",
        "q20_mapping = {\n",
        "    1: \"Yes\",\n",
        "    2: \"No\"\n",
        "}\n",
        "\n",
        "# Map the 'q20' column to descriptive labels\n",
        "mapped_q20 = df['q20'].map(q20_mapping)\n",
        "\n",
        "# Calculate the frequency of each category\n",
        "q20_counts = mapped_q20.value_counts().sort_index()\n",
        "\n",
        "# Convert counts to percentages\n",
        "total_q20 = q20_counts.sum()\n",
        "q20_percentages = (q20_counts / total_q20 * 100).round(1)\n",
        "\n",
        "# Create a DataFrame with counts and percentages for 'q20' categories\n",
        "q20_distribution = pd.DataFrame({\n",
        "    'Category': q20_counts.index,\n",
        "    'Count': q20_counts.values,\n",
        "    'Percentage': q20_percentages.values\n",
        "})\n",
        "\n",
        "# Sort the DataFrame by count in ascending order (if needed)\n",
        "q20_distribution_sorted = q20_distribution.sort_values(by='Count')\n",
        "\n",
        "# Display the sorted DataFrame\n",
        "q20_distribution_sorted\n"
      ],
      "outputs": [
        {
          "output_type": "execute_result",
          "execution_count": 179,
          "data": {
            "text/plain": "  Category  Count  Percentage\n1      Yes    161        26.7\n0       No    442        73.3",
            "text/html": "<div>\n<style scoped>\n    .dataframe tbody tr th:only-of-type {\n        vertical-align: middle;\n    }\n\n    .dataframe tbody tr th {\n        vertical-align: top;\n    }\n\n    .dataframe thead th {\n        text-align: right;\n    }\n</style>\n<table border=\"1\" class=\"dataframe\">\n  <thead>\n    <tr style=\"text-align: right;\">\n      <th></th>\n      <th>Category</th>\n      <th>Count</th>\n      <th>Percentage</th>\n    </tr>\n  </thead>\n  <tbody>\n    <tr>\n      <th>1</th>\n      <td>Yes</td>\n      <td>161</td>\n      <td>26.7</td>\n    </tr>\n    <tr>\n      <th>0</th>\n      <td>No</td>\n      <td>442</td>\n      <td>73.3</td>\n    </tr>\n  </tbody>\n</table>\n</div>"
          },
          "metadata": {}
        }
      ],
      "execution_count": 179,
      "metadata": {
        "jupyter": {
          "source_hidden": false,
          "outputs_hidden": false
        },
        "nteract": {
          "transient": {
            "deleting": false
          }
        },
        "gather": {
          "logged": 1730034367797
        }
      }
    },
    {
      "cell_type": "code",
      "source": [
        "### Filter for rows where 'q19' is different from 'q20' for each unique 'caseid_new'\n",
        "different_living_status = df[df['caseid_new'].isin(df[df['q19'] != df['q20']]['caseid_new'])]\n",
        "\n",
        "q34_mapping = {\n",
        "    1: \"Excellent\",\n",
        "    2: \"Good\",\n",
        "    3: \"Fair\",\n",
        "    4: \"Poor\",\n",
        "    5: \"Very Poor\"\n",
        "}\n",
        "\n",
        "# Apply the mapping to 'q34' in the filtered DataFrame\n",
        "different_living_status['q34_mapped'] = different_living_status['q34'].map(q34_mapping)\n",
        "\n",
        "# Calculate the frequency of each relationship quality (q34_mapped) among those respondents\n",
        "relationship_quality_counts = different_living_status['q34_mapped'].value_counts().sort_index()\n",
        "\n",
        "# Convert counts to percentages\n",
        "total_different = relationship_quality_counts.sum()\n",
        "relationship_quality_percentages = (relationship_quality_counts / total_different * 100).round(1)\n",
        "\n",
        "# Create a DataFrame with counts and percentages for relationship quality\n",
        "relationship_quality_distribution_different = pd.DataFrame({\n",
        "    'Relationship Quality': relationship_quality_counts.index,\n",
        "    'Count': relationship_quality_counts.values,\n",
        "    'Percentage': relationship_quality_percentages.values\n",
        "})\n",
        "\n",
        "# Display the resulting DataFrame\n",
        "relationship_quality_distribution_different"
      ],
      "outputs": [
        {
          "output_type": "stream",
          "name": "stderr",
          "text": "/tmp/ipykernel_3465/931581172.py:13: PerformanceWarning: DataFrame is highly fragmented.  This is usually the result of calling `frame.insert` many times, which has poor performance.  Consider joining all columns at once using pd.concat(axis=1) instead.  To get a de-fragmented frame, use `newframe = frame.copy()`\n  different_living_status['q34_mapped'] = different_living_status['q34'].map(q34_mapping)\n/tmp/ipykernel_3465/931581172.py:13: SettingWithCopyWarning: \nA value is trying to be set on a copy of a slice from a DataFrame.\nTry using .loc[row_indexer,col_indexer] = value instead\n\nSee the caveats in the documentation: https://pandas.pydata.org/pandas-docs/stable/user_guide/indexing.html#returning-a-view-versus-a-copy\n  different_living_status['q34_mapped'] = different_living_status['q34'].map(q34_mapping)\n"
        },
        {
          "output_type": "execute_result",
          "execution_count": 180,
          "data": {
            "text/plain": "  Relationship Quality  Count  Percentage\n0            Excellent   1469        62.1\n1                 Fair    173         7.3\n2                 Good    674        28.5\n3                 Poor     30         1.3\n4            Very Poor     19         0.8",
            "text/html": "<div>\n<style scoped>\n    .dataframe tbody tr th:only-of-type {\n        vertical-align: middle;\n    }\n\n    .dataframe tbody tr th {\n        vertical-align: top;\n    }\n\n    .dataframe thead th {\n        text-align: right;\n    }\n</style>\n<table border=\"1\" class=\"dataframe\">\n  <thead>\n    <tr style=\"text-align: right;\">\n      <th></th>\n      <th>Relationship Quality</th>\n      <th>Count</th>\n      <th>Percentage</th>\n    </tr>\n  </thead>\n  <tbody>\n    <tr>\n      <th>0</th>\n      <td>Excellent</td>\n      <td>1469</td>\n      <td>62.1</td>\n    </tr>\n    <tr>\n      <th>1</th>\n      <td>Fair</td>\n      <td>173</td>\n      <td>7.3</td>\n    </tr>\n    <tr>\n      <th>2</th>\n      <td>Good</td>\n      <td>674</td>\n      <td>28.5</td>\n    </tr>\n    <tr>\n      <th>3</th>\n      <td>Poor</td>\n      <td>30</td>\n      <td>1.3</td>\n    </tr>\n    <tr>\n      <th>4</th>\n      <td>Very Poor</td>\n      <td>19</td>\n      <td>0.8</td>\n    </tr>\n  </tbody>\n</table>\n</div>"
          },
          "metadata": {}
        }
      ],
      "execution_count": 180,
      "metadata": {
        "jupyter": {
          "source_hidden": false,
          "outputs_hidden": false
        },
        "nteract": {
          "transient": {
            "deleting": false
          }
        },
        "gather": {
          "logged": 1730034370767
        }
      }
    },
    {
      "cell_type": "code",
      "source": [
        "q34_mapping = {\n",
        "    1: \"Excellent\",\n",
        "    2: \"Good\",\n",
        "    3: \"Fair\",\n",
        "    4: \"Poor\",\n",
        "    5: \"Very Poor\"\n",
        "}\n",
        "\n",
        "def calculate_relationship_quality_distribution(df, q19_val, q20_val, q34_mapping):\n",
        "    # Filter based on specified q19 and q20 values, treating them as strings\n",
        "    condition_df = df[(df['q20'].astype(str) == str(q20_val)) & (df['q19'].astype(str) == str(q19_val))].copy()\n",
        "    \n",
        "    # Map 'q34' values to descriptive labels in the filtered DataFrame\n",
        "    condition_df['q34_mapped'] = condition_df['q34'].map(q34_mapping)\n",
        "    \n",
        "    # Calculate frequency and percentage for each relationship quality\n",
        "    relationship_quality_counts = condition_df['q34_mapped'].value_counts().sort_index()\n",
        "    total_count = relationship_quality_counts.sum()\n",
        "    relationship_quality_percentages = (relationship_quality_counts / total_count * 100).round(1)\n",
        "    \n",
        "    # Create and return the distribution DataFrame\n",
        "    return pd.DataFrame({\n",
        "        'Relationship Quality': relationship_quality_counts.index,\n",
        "        'Count': relationship_quality_counts.values,\n",
        "        'Percentage': relationship_quality_percentages.values\n",
        "    })\n",
        "\n",
        "# Calculate distributions for each condition\n",
        "relationship_quality_distribution_1 = calculate_relationship_quality_distribution(df, 2, 1, q34_mapping)  # q20=2, q19=1\n",
        "relationship_quality_distribution_2 = calculate_relationship_quality_distribution(df, 1, 1, q34_mapping)  # q20=1, q19=1\n",
        "relationship_quality_distribution_3 = calculate_relationship_quality_distribution(df, 2, 2, q34_mapping)  # q20=2, q19=2"
      ],
      "outputs": [
        {
          "output_type": "stream",
          "name": "stderr",
          "text": "/tmp/ipykernel_3465/1014267959.py:14: PerformanceWarning: DataFrame is highly fragmented.  This is usually the result of calling `frame.insert` many times, which has poor performance.  Consider joining all columns at once using pd.concat(axis=1) instead.  To get a de-fragmented frame, use `newframe = frame.copy()`\n  condition_df['q34_mapped'] = condition_df['q34'].map(q34_mapping)\n"
        }
      ],
      "execution_count": 181,
      "metadata": {
        "jupyter": {
          "source_hidden": false,
          "outputs_hidden": false
        },
        "nteract": {
          "transient": {
            "deleting": false
          }
        },
        "gather": {
          "logged": 1730034375061
        }
      }
    },
    {
      "cell_type": "code",
      "source": [
        "print(\"Relationship Quality Distribution when they have lived with a partner but are not living together now\")\n",
        "relationship_quality_distribution_1"
      ],
      "outputs": [
        {
          "output_type": "stream",
          "name": "stdout",
          "text": "Relationship Quality Distribution when they have lived with a partner but are not living together now\n"
        },
        {
          "output_type": "execute_result",
          "execution_count": 182,
          "data": {
            "text/plain": "  Relationship Quality  Count  Percentage\n0            Excellent     59        37.6\n1                 Fair     39        24.8\n2                 Good     42        26.8\n3                 Poor      8         5.1\n4            Very Poor      9         5.7",
            "text/html": "<div>\n<style scoped>\n    .dataframe tbody tr th:only-of-type {\n        vertical-align: middle;\n    }\n\n    .dataframe tbody tr th {\n        vertical-align: top;\n    }\n\n    .dataframe thead th {\n        text-align: right;\n    }\n</style>\n<table border=\"1\" class=\"dataframe\">\n  <thead>\n    <tr style=\"text-align: right;\">\n      <th></th>\n      <th>Relationship Quality</th>\n      <th>Count</th>\n      <th>Percentage</th>\n    </tr>\n  </thead>\n  <tbody>\n    <tr>\n      <th>0</th>\n      <td>Excellent</td>\n      <td>59</td>\n      <td>37.6</td>\n    </tr>\n    <tr>\n      <th>1</th>\n      <td>Fair</td>\n      <td>39</td>\n      <td>24.8</td>\n    </tr>\n    <tr>\n      <th>2</th>\n      <td>Good</td>\n      <td>42</td>\n      <td>26.8</td>\n    </tr>\n    <tr>\n      <th>3</th>\n      <td>Poor</td>\n      <td>8</td>\n      <td>5.1</td>\n    </tr>\n    <tr>\n      <th>4</th>\n      <td>Very Poor</td>\n      <td>9</td>\n      <td>5.7</td>\n    </tr>\n  </tbody>\n</table>\n</div>"
          },
          "metadata": {}
        }
      ],
      "execution_count": 182,
      "metadata": {
        "jupyter": {
          "source_hidden": false,
          "outputs_hidden": false
        },
        "nteract": {
          "transient": {
            "deleting": false
          }
        },
        "gather": {
          "logged": 1730034377566
        }
      }
    },
    {
      "cell_type": "code",
      "source": [
        "print(\"\\nRelationship Quality Distribution when not living together and have never lived with a partner before\")\n",
        "relationship_quality_distribution_3"
      ],
      "outputs": [
        {
          "output_type": "stream",
          "name": "stdout",
          "text": "\nRelationship Quality Distribution when not living together and have never lived with a partner before\n"
        },
        {
          "output_type": "execute_result",
          "execution_count": 183,
          "data": {
            "text/plain": "  Relationship Quality  Count  Percentage\n0            Excellent    197        44.8\n1                 Fair     59        13.4\n2                 Good    177        40.2\n3                 Poor      7         1.6",
            "text/html": "<div>\n<style scoped>\n    .dataframe tbody tr th:only-of-type {\n        vertical-align: middle;\n    }\n\n    .dataframe tbody tr th {\n        vertical-align: top;\n    }\n\n    .dataframe thead th {\n        text-align: right;\n    }\n</style>\n<table border=\"1\" class=\"dataframe\">\n  <thead>\n    <tr style=\"text-align: right;\">\n      <th></th>\n      <th>Relationship Quality</th>\n      <th>Count</th>\n      <th>Percentage</th>\n    </tr>\n  </thead>\n  <tbody>\n    <tr>\n      <th>0</th>\n      <td>Excellent</td>\n      <td>197</td>\n      <td>44.8</td>\n    </tr>\n    <tr>\n      <th>1</th>\n      <td>Fair</td>\n      <td>59</td>\n      <td>13.4</td>\n    </tr>\n    <tr>\n      <th>2</th>\n      <td>Good</td>\n      <td>177</td>\n      <td>40.2</td>\n    </tr>\n    <tr>\n      <th>3</th>\n      <td>Poor</td>\n      <td>7</td>\n      <td>1.6</td>\n    </tr>\n  </tbody>\n</table>\n</div>"
          },
          "metadata": {}
        }
      ],
      "execution_count": 183,
      "metadata": {
        "jupyter": {
          "source_hidden": false,
          "outputs_hidden": false
        },
        "nteract": {
          "transient": {
            "deleting": false
          }
        },
        "gather": {
          "logged": 1730034381104
        }
      }
    },
    {
      "cell_type": "code",
      "source": [
        "# Define the mapping for 'ppmarit' marital statuses\n",
        "ppmarit_mapping = {\n",
        "    1: \"Married\",\n",
        "    2: \"Widowed\",\n",
        "    3: \"Divorced\",\n",
        "    4: \"Separated\",\n",
        "    5: \"Never Married\",\n",
        "    6: \"Living with Partner\"    \n",
        "}\n",
        "\n",
        "# Map the 'ppmarit' column to descriptive labels\n",
        "ppmarit_mapped = df['ppmarit'].map(ppmarit_mapping)\n",
        "\n",
        "# Filter data for households with 18-year-old children (ppt180v > 0) and households with any children (children_in_hh > 0)\n",
        "has_18yo_kids = df[df['ppt18ov'] > 0]\n",
        "has_any_kids = df[df['children_in_hh'] > 0]\n",
        "\n",
        "# Calculate frequency of 'ppmarit' for households with 18-year-old children\n",
        "ppmarit_counts_18yo = has_18yo_kids['ppmarit'].map(ppmarit_mapping).value_counts().sort_index()\n",
        "\n",
        "# Calculate frequency of 'ppmarit' for households with any children\n",
        "ppmarit_counts_any_kids = has_any_kids['ppmarit'].map(ppmarit_mapping).value_counts().sort_index()\n",
        "\n",
        "# Create a DataFrame with these frequencies\n",
        "ppmarit_distribution = pd.DataFrame({\n",
        "    'Marital Status': ppmarit_counts_18yo.index,\n",
        "    'Count (18yo Kids)': ppmarit_counts_18yo.values,\n",
        "    'Count (Any Kids)': ppmarit_counts_any_kids.values\n",
        "})\n",
        "\n",
        "# Display the DataFrame\n",
        "ppmarit_distribution\n"
      ],
      "outputs": [
        {
          "output_type": "execute_result",
          "execution_count": 184,
          "data": {
            "text/plain": "        Marital Status  Count (18yo Kids)  Count (Any Kids)\n0              Married               1627               570\n1              Widowed                201                 9\n2             Divorced                461                59\n3            Separated                 57                19\n4        Never Married                988               156\n5  Living with Partner                477                49",
            "text/html": "<div>\n<style scoped>\n    .dataframe tbody tr th:only-of-type {\n        vertical-align: middle;\n    }\n\n    .dataframe tbody tr th {\n        vertical-align: top;\n    }\n\n    .dataframe thead th {\n        text-align: right;\n    }\n</style>\n<table border=\"1\" class=\"dataframe\">\n  <thead>\n    <tr style=\"text-align: right;\">\n      <th></th>\n      <th>Marital Status</th>\n      <th>Count (18yo Kids)</th>\n      <th>Count (Any Kids)</th>\n    </tr>\n  </thead>\n  <tbody>\n    <tr>\n      <th>0</th>\n      <td>Married</td>\n      <td>1627</td>\n      <td>570</td>\n    </tr>\n    <tr>\n      <th>1</th>\n      <td>Widowed</td>\n      <td>201</td>\n      <td>9</td>\n    </tr>\n    <tr>\n      <th>2</th>\n      <td>Divorced</td>\n      <td>461</td>\n      <td>59</td>\n    </tr>\n    <tr>\n      <th>3</th>\n      <td>Separated</td>\n      <td>57</td>\n      <td>19</td>\n    </tr>\n    <tr>\n      <th>4</th>\n      <td>Never Married</td>\n      <td>988</td>\n      <td>156</td>\n    </tr>\n    <tr>\n      <th>5</th>\n      <td>Living with Partner</td>\n      <td>477</td>\n      <td>49</td>\n    </tr>\n  </tbody>\n</table>\n</div>"
          },
          "metadata": {}
        }
      ],
      "execution_count": 184,
      "metadata": {
        "jupyter": {
          "source_hidden": false,
          "outputs_hidden": false
        },
        "nteract": {
          "transient": {
            "deleting": false
          }
        },
        "gather": {
          "logged": 1730034383827
        }
      }
    },
    {
      "cell_type": "code",
      "source": [
        "# Create a temporary series for 'pp2_children_in_hh' by summing the columns\n",
        "pp2_children_in_hh = df[['pp2_ppt01', 'pp2_ppt1317', 'pp2_ppt25']].sum(axis=1)\n",
        "\n",
        "# Define the mapping for 'pp2_ppmarit' marital statuses\n",
        "pp2_ppmarit_mapping = {\n",
        "    1: \"Married\",\n",
        "    2: \"Widowed\",\n",
        "    3: \"Divorced\",\n",
        "    4: \"Separated\",\n",
        "    5: \"Never Married\",\n",
        "    6: \"Living with Partner\"\n",
        "}\n",
        "\n",
        "# Map the 'pp2_ppmarit' column to descriptive labels\n",
        "pp2_ppmarit_mapped = df['pp2_ppmarit'].map(pp2_ppmarit_mapping)\n",
        "\n",
        "# Filter data for households with 18-year-old children (pp2_ppt18ov > 0)\n",
        "has_18yo_kids = df[df['pp2_ppt18ov'] > 0]\n",
        "\n",
        "# Filter data for households with any children (using pp2_children_in_hh > 0 from the temporary series)\n",
        "has_any_kids = df[pp2_children_in_hh > 0]\n",
        "\n",
        "# Calculate frequency of 'pp2_ppmarit' for households with 18-year-old children\n",
        "pp2_ppmarit_counts_18yo = has_18yo_kids['pp2_ppmarit'].map(pp2_ppmarit_mapping).value_counts().sort_index()\n",
        "\n",
        "# Calculate frequency of 'pp2_ppmarit' for households with any children\n",
        "pp2_ppmarit_counts_any_kids = has_any_kids['pp2_ppmarit'].map(pp2_ppmarit_mapping).value_counts().sort_index()\n",
        "\n",
        "# Create a DataFrame with these frequencies\n",
        "pp2_ppmarit_distribution = pd.DataFrame({\n",
        "    'Marital Status': pp2_ppmarit_counts_18yo.index,\n",
        "    'Count (18yo Kids)': pp2_ppmarit_counts_18yo.values,\n",
        "    'Count (Any Kids)': pp2_ppmarit_counts_any_kids.values\n",
        "})\n",
        "\n",
        "# Display the DataFrame\n",
        "pp2_ppmarit_distribution\n"
      ],
      "outputs": [
        {
          "output_type": "execute_result",
          "execution_count": 185,
          "data": {
            "text/plain": "        Marital Status  Count (18yo Kids)  Count (Any Kids)\n0             Divorced                426                46\n1  Living with Partner                434                55\n2              Married               1553               567\n3        Never Married                846               122\n4            Separated                 56                13\n5              Widowed                202                 6",
            "text/html": "<div>\n<style scoped>\n    .dataframe tbody tr th:only-of-type {\n        vertical-align: middle;\n    }\n\n    .dataframe tbody tr th {\n        vertical-align: top;\n    }\n\n    .dataframe thead th {\n        text-align: right;\n    }\n</style>\n<table border=\"1\" class=\"dataframe\">\n  <thead>\n    <tr style=\"text-align: right;\">\n      <th></th>\n      <th>Marital Status</th>\n      <th>Count (18yo Kids)</th>\n      <th>Count (Any Kids)</th>\n    </tr>\n  </thead>\n  <tbody>\n    <tr>\n      <th>0</th>\n      <td>Divorced</td>\n      <td>426</td>\n      <td>46</td>\n    </tr>\n    <tr>\n      <th>1</th>\n      <td>Living with Partner</td>\n      <td>434</td>\n      <td>55</td>\n    </tr>\n    <tr>\n      <th>2</th>\n      <td>Married</td>\n      <td>1553</td>\n      <td>567</td>\n    </tr>\n    <tr>\n      <th>3</th>\n      <td>Never Married</td>\n      <td>846</td>\n      <td>122</td>\n    </tr>\n    <tr>\n      <th>4</th>\n      <td>Separated</td>\n      <td>56</td>\n      <td>13</td>\n    </tr>\n    <tr>\n      <th>5</th>\n      <td>Widowed</td>\n      <td>202</td>\n      <td>6</td>\n    </tr>\n  </tbody>\n</table>\n</div>"
          },
          "metadata": {}
        }
      ],
      "execution_count": 185,
      "metadata": {
        "jupyter": {
          "source_hidden": false,
          "outputs_hidden": false
        },
        "nteract": {
          "transient": {
            "deleting": false
          }
        },
        "gather": {
          "logged": 1730034386347
        }
      }
    },
    {
      "cell_type": "markdown",
      "source": [
        "### Marital Status"
      ],
      "metadata": {
        "nteract": {
          "transient": {
            "deleting": false
          }
        }
      }
    },
    {
      "cell_type": "code",
      "source": [
        "#Calculate the frequency of each category\n",
        "ppmarit_counts = ppmarit_mapped.value_counts().sort_index()\n",
        "\n",
        "# Convert counts to percentages\n",
        "total_ppmarit = ppmarit_counts.sum()\n",
        "ppmarit_percentages = (ppmarit_counts / total_ppmarit * 100).round(1)\n",
        "\n",
        "# Create a DataFrame with counts and percentages for 'q19' categories\n",
        "ppmarit_distribution = pd.DataFrame({\n",
        "    'Category': ppmarit_counts.index,\n",
        "    'Count': ppmarit_counts.values,\n",
        "    'Percentage': ppmarit_percentages.values\n",
        "})\n",
        "\n",
        "# Sort the DataFrame by count in ascending order (if needed)\n",
        "ppmarit_distribution_sorted = ppmarit_distribution.sort_values(by='Count')\n",
        "\n",
        "# Display the sorted DataFrame\n",
        "ppmarit_distribution_sorted"
      ],
      "outputs": [
        {
          "output_type": "execute_result",
          "execution_count": 186,
          "data": {
            "text/plain": "              Category  Count  Percentage\n3            Separated     57         1.5\n1              Widowed    201         5.3\n2             Divorced    461        12.1\n5  Living with Partner    477        12.5\n4        Never Married    988        25.9\n0              Married   1627        42.7",
            "text/html": "<div>\n<style scoped>\n    .dataframe tbody tr th:only-of-type {\n        vertical-align: middle;\n    }\n\n    .dataframe tbody tr th {\n        vertical-align: top;\n    }\n\n    .dataframe thead th {\n        text-align: right;\n    }\n</style>\n<table border=\"1\" class=\"dataframe\">\n  <thead>\n    <tr style=\"text-align: right;\">\n      <th></th>\n      <th>Category</th>\n      <th>Count</th>\n      <th>Percentage</th>\n    </tr>\n  </thead>\n  <tbody>\n    <tr>\n      <th>3</th>\n      <td>Separated</td>\n      <td>57</td>\n      <td>1.5</td>\n    </tr>\n    <tr>\n      <th>1</th>\n      <td>Widowed</td>\n      <td>201</td>\n      <td>5.3</td>\n    </tr>\n    <tr>\n      <th>2</th>\n      <td>Divorced</td>\n      <td>461</td>\n      <td>12.1</td>\n    </tr>\n    <tr>\n      <th>5</th>\n      <td>Living with Partner</td>\n      <td>477</td>\n      <td>12.5</td>\n    </tr>\n    <tr>\n      <th>4</th>\n      <td>Never Married</td>\n      <td>988</td>\n      <td>25.9</td>\n    </tr>\n    <tr>\n      <th>0</th>\n      <td>Married</td>\n      <td>1627</td>\n      <td>42.7</td>\n    </tr>\n  </tbody>\n</table>\n</div>"
          },
          "metadata": {}
        }
      ],
      "execution_count": 186,
      "metadata": {
        "jupyter": {
          "source_hidden": false,
          "outputs_hidden": false
        },
        "nteract": {
          "transient": {
            "deleting": false
          }
        },
        "gather": {
          "logged": 1730034389603
        }
      }
    },
    {
      "cell_type": "code",
      "source": [
        "# Define the mapping for 's1' (are you married)\n",
        "s1_mapping = {\n",
        "    1: \"Yes, I am married\",\n",
        "    2: \"No, I am not married\"\n",
        "}\n",
        "\n",
        "# Map the 's1' column to descriptive labels\n",
        "mapped_s1 = df['s1'].map(s1_mapping)\n",
        "\n",
        "# Calculate the frequency of each category\n",
        "s1_counts = mapped_s1.value_counts().sort_index()\n",
        "\n",
        "# Convert counts to percentages\n",
        "total_s1 = s1_counts.sum()\n",
        "s1_percentages = (s1_counts / total_s1 * 100).round(1)\n",
        "\n",
        "# Create a DataFrame with counts and percentages for 's1' categories\n",
        "s1_distribution = pd.DataFrame({\n",
        "    'Category': s1_counts.index,\n",
        "    'Count': s1_counts.values,\n",
        "    'Percentage': s1_percentages.values\n",
        "})\n",
        "\n",
        "# Sort the DataFrame by count in ascending order (if needed)\n",
        "s1_distribution_sorted = s1_distribution.sort_values(by='Count')\n",
        "\n",
        "# Display the sorted DataFrame\n",
        "s1_distribution_sorted"
      ],
      "outputs": [
        {
          "output_type": "execute_result",
          "execution_count": 187,
          "data": {
            "text/plain": "               Category  Count  Percentage\n0     Yes, I am married   1809        47.5\n1  No, I am not married   2002        52.5",
            "text/html": "<div>\n<style scoped>\n    .dataframe tbody tr th:only-of-type {\n        vertical-align: middle;\n    }\n\n    .dataframe tbody tr th {\n        vertical-align: top;\n    }\n\n    .dataframe thead th {\n        text-align: right;\n    }\n</style>\n<table border=\"1\" class=\"dataframe\">\n  <thead>\n    <tr style=\"text-align: right;\">\n      <th></th>\n      <th>Category</th>\n      <th>Count</th>\n      <th>Percentage</th>\n    </tr>\n  </thead>\n  <tbody>\n    <tr>\n      <th>0</th>\n      <td>Yes, I am married</td>\n      <td>1809</td>\n      <td>47.5</td>\n    </tr>\n    <tr>\n      <th>1</th>\n      <td>No, I am not married</td>\n      <td>2002</td>\n      <td>52.5</td>\n    </tr>\n  </tbody>\n</table>\n</div>"
          },
          "metadata": {}
        }
      ],
      "execution_count": 187,
      "metadata": {
        "jupyter": {
          "source_hidden": false,
          "outputs_hidden": false
        },
        "nteract": {
          "transient": {
            "deleting": false
          }
        },
        "gather": {
          "logged": 1730034392367
        }
      }
    },
    {
      "cell_type": "code",
      "source": [
        "# Define the mapping for 's2' relationship status\n",
        "s2_mapping = {\n",
        "    1: \"Yes, I have a sexual partner\",\n",
        "    2: \"I have a romantic partner who is not yet a sexual partner\",\n",
        "    3: \"No, I am single\"\n",
        "}\n",
        "\n",
        "# Map the 's2' column to descriptive labels\n",
        "mapped_s2 = df['s2'].map(s2_mapping)\n",
        "\n",
        "# Calculate the frequency of each category\n",
        "s2_counts = mapped_s2.value_counts().sort_index()\n",
        "\n",
        "# Convert counts to percentages\n",
        "total_s2 = s2_counts.sum()\n",
        "s2_percentages = (s2_counts / total_s2 * 100).round(1)\n",
        "\n",
        "# Create a DataFrame with counts and percentages for 's2' categories\n",
        "s2_distribution = pd.DataFrame({\n",
        "    'Category': s2_counts.index,\n",
        "    'Count': s2_counts.values,\n",
        "    'Percentage': s2_percentages.values\n",
        "})\n",
        "\n",
        "# Sort the DataFrame by count in ascending order (if needed)\n",
        "s2_distribution_sorted = s2_distribution.sort_values(by='Count')\n",
        "\n",
        "# Display the sorted DataFrame\n",
        "s2_distribution_sorted"
      ],
      "outputs": [
        {
          "output_type": "execute_result",
          "execution_count": 188,
          "data": {
            "text/plain": "                                            Category  Count  Percentage\n0  I have a romantic partner who is not yet a sex...    101         5.1\n2                       Yes, I have a sexual partner    914        45.7\n1                                    No, I am single    985        49.2",
            "text/html": "<div>\n<style scoped>\n    .dataframe tbody tr th:only-of-type {\n        vertical-align: middle;\n    }\n\n    .dataframe tbody tr th {\n        vertical-align: top;\n    }\n\n    .dataframe thead th {\n        text-align: right;\n    }\n</style>\n<table border=\"1\" class=\"dataframe\">\n  <thead>\n    <tr style=\"text-align: right;\">\n      <th></th>\n      <th>Category</th>\n      <th>Count</th>\n      <th>Percentage</th>\n    </tr>\n  </thead>\n  <tbody>\n    <tr>\n      <th>0</th>\n      <td>I have a romantic partner who is not yet a sex...</td>\n      <td>101</td>\n      <td>5.1</td>\n    </tr>\n    <tr>\n      <th>2</th>\n      <td>Yes, I have a sexual partner</td>\n      <td>914</td>\n      <td>45.7</td>\n    </tr>\n    <tr>\n      <th>1</th>\n      <td>No, I am single</td>\n      <td>985</td>\n      <td>49.2</td>\n    </tr>\n  </tbody>\n</table>\n</div>"
          },
          "metadata": {}
        }
      ],
      "execution_count": 188,
      "metadata": {
        "jupyter": {
          "source_hidden": false,
          "outputs_hidden": false
        },
        "nteract": {
          "transient": {
            "deleting": false
          }
        },
        "gather": {
          "logged": 1730034394968
        }
      }
    },
    {
      "cell_type": "code",
      "source": [
        "## Define the mapping for 'q17b' (number of times married)\n",
        "q17b_mapping = {\n",
        "    1: \"Never married\",\n",
        "    2: \"Once\",\n",
        "    3: \"Twice\",\n",
        "    4: \"Three times\",\n",
        "    5: \"Four or more times\"\n",
        "}\n",
        "\n",
        "# Map the 'q17b' column to descriptive labels\n",
        "mapped_q17b = df['q17b'].map(q17b_mapping)\n",
        "\n",
        "# Calculate the frequency of each category\n",
        "q17b_counts = mapped_q17b.value_counts().sort_index()\n",
        "\n",
        "# Convert counts to percentages\n",
        "total_q17b = q17b_counts.sum()\n",
        "q17b_percentages = (q17b_counts / total_q17b * 100).round(1)\n",
        "\n",
        "# Create a DataFrame with counts and percentages for 'q17b' categories\n",
        "q17b_distribution = pd.DataFrame({\n",
        "    'Category': q17b_counts.index,\n",
        "    'Count': q17b_counts.values,\n",
        "    'Percentage': q17b_percentages.values\n",
        "})\n",
        "\n",
        "# Sort the DataFrame by count in ascending order (if needed)\n",
        "q17b_distribution_sorted = q17b_distribution.sort_values(by='Count')\n",
        "\n",
        "# Display the sorted DataFrame\n",
        "q17b_distribution_sorted\n"
      ],
      "outputs": [
        {
          "output_type": "execute_result",
          "execution_count": 189,
          "data": {
            "text/plain": "             Category  Count  Percentage\n0  Four or more times      5         0.5\n3         Three times     14         1.4\n4               Twice     83         8.2\n2                Once    227        22.5\n1       Never married    682        67.5",
            "text/html": "<div>\n<style scoped>\n    .dataframe tbody tr th:only-of-type {\n        vertical-align: middle;\n    }\n\n    .dataframe tbody tr th {\n        vertical-align: top;\n    }\n\n    .dataframe thead th {\n        text-align: right;\n    }\n</style>\n<table border=\"1\" class=\"dataframe\">\n  <thead>\n    <tr style=\"text-align: right;\">\n      <th></th>\n      <th>Category</th>\n      <th>Count</th>\n      <th>Percentage</th>\n    </tr>\n  </thead>\n  <tbody>\n    <tr>\n      <th>0</th>\n      <td>Four or more times</td>\n      <td>5</td>\n      <td>0.5</td>\n    </tr>\n    <tr>\n      <th>3</th>\n      <td>Three times</td>\n      <td>14</td>\n      <td>1.4</td>\n    </tr>\n    <tr>\n      <th>4</th>\n      <td>Twice</td>\n      <td>83</td>\n      <td>8.2</td>\n    </tr>\n    <tr>\n      <th>2</th>\n      <td>Once</td>\n      <td>227</td>\n      <td>22.5</td>\n    </tr>\n    <tr>\n      <th>1</th>\n      <td>Never married</td>\n      <td>682</td>\n      <td>67.5</td>\n    </tr>\n  </tbody>\n</table>\n</div>"
          },
          "metadata": {}
        }
      ],
      "execution_count": 189,
      "metadata": {
        "jupyter": {
          "source_hidden": false,
          "outputs_hidden": false
        },
        "nteract": {
          "transient": {
            "deleting": false
          }
        },
        "gather": {
          "logged": 1730034397687
        }
      }
    },
    {
      "cell_type": "markdown",
      "source": [
        "### Education"
      ],
      "metadata": {
        "nteract": {
          "transient": {
            "deleting": false
          }
        }
      }
    },
    {
      "cell_type": "code",
      "source": [
        "# Define the mapping for 'ppeduc' (respondent education level)\n",
        "ppeduc_mapping = {\n",
        "    1: \"No formal education\",\n",
        "    2: \"1st, 2nd, 3rd, or 4th grade\",\n",
        "    3: \"5th or 6th grade\",\n",
        "    4: \"7th or 8th grade\",\n",
        "    5: \"9th grade\",\n",
        "    6: \"10th grade\",\n",
        "    7: \"11th grade\",\n",
        "    8: \"12th grade, no diploma\",\n",
        "    9: \"High school graduate or GED\",\n",
        "    10: \"Some college, no degree\", \n",
        "    11: \"Associate degree\",\n",
        "    12: \"Bachelor's degree\",\n",
        "    13: \"Master's degree\",\n",
        "    14: \"Professional or Doctorate degree\"\n",
        "}\n",
        "\n",
        "# Map the 'ppeduc' column to descriptive labels\n",
        "mapped_ppeduc = df['ppeduc'].map(ppeduc_mapping)\n",
        "\n",
        "# Calculate the frequency of each category\n",
        "ppeduc_counts = mapped_ppeduc.value_counts().sort_index()\n",
        "\n",
        "# Convert counts to percentages\n",
        "total_ppeduc = ppeduc_counts.sum()\n",
        "ppeduc_percentages = (ppeduc_counts / total_ppeduc * 100).round(1)\n",
        "\n",
        "# Create a DataFrame with counts and percentages for 'ppeduc' categories\n",
        "ppeduc_distribution = pd.DataFrame({\n",
        "    'Category': ppeduc_counts.index,\n",
        "    'Count': ppeduc_counts.values,\n",
        "    'Percentage': ppeduc_percentages.values\n",
        "})\n",
        "\n",
        "# Sort the DataFrame by count in ascending order (if needed)\n",
        "ppeduc_distribution_sorted = ppeduc_distribution.sort_values(by='Count')\n",
        "\n",
        "# Display the sorted DataFrame\n",
        "ppeduc_distribution_sorted"
      ],
      "outputs": [
        {
          "output_type": "execute_result",
          "execution_count": 190,
          "data": {
            "text/plain": "                            Category  Count  Percentage\n0                No formal education      1         0.0\n1        1st, 2nd, 3rd, or 4th grade      2         0.1\n2                   5th or 6th grade      8         0.2\n4                          9th grade     48         1.3\n3                   7th or 8th grade     50         1.3\n5                         10th grade     70         1.8\n6                         11th grade     94         2.5\n7             12th grade, no diploma    116         3.0\n13  Professional or Doctorate degree    150         3.9\n10                  Associate degree    284         7.5\n12                   Master's degree    354         9.3\n11                 Bachelor's degree    827        21.7\n9            Some college, no degree    848        22.3\n8        High school graduate or GED    959        25.2",
            "text/html": "<div>\n<style scoped>\n    .dataframe tbody tr th:only-of-type {\n        vertical-align: middle;\n    }\n\n    .dataframe tbody tr th {\n        vertical-align: top;\n    }\n\n    .dataframe thead th {\n        text-align: right;\n    }\n</style>\n<table border=\"1\" class=\"dataframe\">\n  <thead>\n    <tr style=\"text-align: right;\">\n      <th></th>\n      <th>Category</th>\n      <th>Count</th>\n      <th>Percentage</th>\n    </tr>\n  </thead>\n  <tbody>\n    <tr>\n      <th>0</th>\n      <td>No formal education</td>\n      <td>1</td>\n      <td>0.0</td>\n    </tr>\n    <tr>\n      <th>1</th>\n      <td>1st, 2nd, 3rd, or 4th grade</td>\n      <td>2</td>\n      <td>0.1</td>\n    </tr>\n    <tr>\n      <th>2</th>\n      <td>5th or 6th grade</td>\n      <td>8</td>\n      <td>0.2</td>\n    </tr>\n    <tr>\n      <th>4</th>\n      <td>9th grade</td>\n      <td>48</td>\n      <td>1.3</td>\n    </tr>\n    <tr>\n      <th>3</th>\n      <td>7th or 8th grade</td>\n      <td>50</td>\n      <td>1.3</td>\n    </tr>\n    <tr>\n      <th>5</th>\n      <td>10th grade</td>\n      <td>70</td>\n      <td>1.8</td>\n    </tr>\n    <tr>\n      <th>6</th>\n      <td>11th grade</td>\n      <td>94</td>\n      <td>2.5</td>\n    </tr>\n    <tr>\n      <th>7</th>\n      <td>12th grade, no diploma</td>\n      <td>116</td>\n      <td>3.0</td>\n    </tr>\n    <tr>\n      <th>13</th>\n      <td>Professional or Doctorate degree</td>\n      <td>150</td>\n      <td>3.9</td>\n    </tr>\n    <tr>\n      <th>10</th>\n      <td>Associate degree</td>\n      <td>284</td>\n      <td>7.5</td>\n    </tr>\n    <tr>\n      <th>12</th>\n      <td>Master's degree</td>\n      <td>354</td>\n      <td>9.3</td>\n    </tr>\n    <tr>\n      <th>11</th>\n      <td>Bachelor's degree</td>\n      <td>827</td>\n      <td>21.7</td>\n    </tr>\n    <tr>\n      <th>9</th>\n      <td>Some college, no degree</td>\n      <td>848</td>\n      <td>22.3</td>\n    </tr>\n    <tr>\n      <th>8</th>\n      <td>High school graduate or GED</td>\n      <td>959</td>\n      <td>25.2</td>\n    </tr>\n  </tbody>\n</table>\n</div>"
          },
          "metadata": {}
        }
      ],
      "execution_count": 190,
      "metadata": {
        "jupyter": {
          "source_hidden": false,
          "outputs_hidden": false
        },
        "nteract": {
          "transient": {
            "deleting": false
          }
        },
        "gather": {
          "logged": 1730034400737
        }
      }
    },
    {
      "cell_type": "code",
      "source": [
        "# Define the mapping for 'q10' (partner's highest education level)\n",
        "q10_mapping = {\n",
        "    1: \"No formal education\",\n",
        "    2: \"1st - 4th grade\",\n",
        "    3: \"5th or 6th grade\",\n",
        "    4: \"7th or 8th grade\",\n",
        "    5: \"9th grade\",\n",
        "    6: \"10th grade\",\n",
        "    7: \"11th grade\",\n",
        "    8: \"12th grade, no diploma\",\n",
        "    9: \"HS graduate or GED\",\n",
        "    10: \"Some college, no degree\",\n",
        "    11: \"Associate degree\",\n",
        "    12: \"Bachelor's degree\",\n",
        "    13: \"Master's degree\",\n",
        "    14: \"Professional or Doctorate degree\"\n",
        "}\n",
        "\n",
        "# Map the 'q10' column to descriptive labels\n",
        "mapped_q10 = df['q10'].map(q10_mapping)\n",
        "\n",
        "# Calculate the frequency of each category\n",
        "q10_counts = mapped_q10.value_counts().sort_index()\n",
        "\n",
        "# Convert counts to percentages\n",
        "total_q10 = q10_counts.sum()\n",
        "q10_percentages = (q10_counts / total_q10 * 100).round(1)\n",
        "\n",
        "# Create a DataFrame with counts and percentages for 'q10' categories\n",
        "q10_distribution = pd.DataFrame({\n",
        "    'Category': q10_counts.index,\n",
        "    'Count': q10_counts.values,\n",
        "    'Percentage': q10_percentages.values\n",
        "})\n",
        "\n",
        "# Sort the DataFrame by count in ascending order (if needed)\n",
        "q10_distribution_sorted = q10_distribution.sort_values(by='Count')\n",
        "\n",
        "# Display the sorted DataFrame\n",
        "q10_distribution_sorted"
      ],
      "outputs": [
        {
          "output_type": "execute_result",
          "execution_count": 191,
          "data": {
            "text/plain": "                            Category  Count  Percentage\n11               No formal education      2         0.1\n3                    1st - 4th grade      5         0.2\n4                   5th or 6th grade     13         0.5\n6                          9th grade     22         0.8\n5                   7th or 8th grade     25         0.9\n0                         10th grade     47         1.7\n1                         11th grade     49         1.7\n2             12th grade, no diploma     72         2.6\n12  Professional or Doctorate degree    100         3.6\n7                   Associate degree    252         9.0\n10                   Master's degree    301        10.7\n8                  Bachelor's degree    576        20.5\n13           Some college, no degree    643        22.9\n9                 HS graduate or GED    704        25.0",
            "text/html": "<div>\n<style scoped>\n    .dataframe tbody tr th:only-of-type {\n        vertical-align: middle;\n    }\n\n    .dataframe tbody tr th {\n        vertical-align: top;\n    }\n\n    .dataframe thead th {\n        text-align: right;\n    }\n</style>\n<table border=\"1\" class=\"dataframe\">\n  <thead>\n    <tr style=\"text-align: right;\">\n      <th></th>\n      <th>Category</th>\n      <th>Count</th>\n      <th>Percentage</th>\n    </tr>\n  </thead>\n  <tbody>\n    <tr>\n      <th>11</th>\n      <td>No formal education</td>\n      <td>2</td>\n      <td>0.1</td>\n    </tr>\n    <tr>\n      <th>3</th>\n      <td>1st - 4th grade</td>\n      <td>5</td>\n      <td>0.2</td>\n    </tr>\n    <tr>\n      <th>4</th>\n      <td>5th or 6th grade</td>\n      <td>13</td>\n      <td>0.5</td>\n    </tr>\n    <tr>\n      <th>6</th>\n      <td>9th grade</td>\n      <td>22</td>\n      <td>0.8</td>\n    </tr>\n    <tr>\n      <th>5</th>\n      <td>7th or 8th grade</td>\n      <td>25</td>\n      <td>0.9</td>\n    </tr>\n    <tr>\n      <th>0</th>\n      <td>10th grade</td>\n      <td>47</td>\n      <td>1.7</td>\n    </tr>\n    <tr>\n      <th>1</th>\n      <td>11th grade</td>\n      <td>49</td>\n      <td>1.7</td>\n    </tr>\n    <tr>\n      <th>2</th>\n      <td>12th grade, no diploma</td>\n      <td>72</td>\n      <td>2.6</td>\n    </tr>\n    <tr>\n      <th>12</th>\n      <td>Professional or Doctorate degree</td>\n      <td>100</td>\n      <td>3.6</td>\n    </tr>\n    <tr>\n      <th>7</th>\n      <td>Associate degree</td>\n      <td>252</td>\n      <td>9.0</td>\n    </tr>\n    <tr>\n      <th>10</th>\n      <td>Master's degree</td>\n      <td>301</td>\n      <td>10.7</td>\n    </tr>\n    <tr>\n      <th>8</th>\n      <td>Bachelor's degree</td>\n      <td>576</td>\n      <td>20.5</td>\n    </tr>\n    <tr>\n      <th>13</th>\n      <td>Some college, no degree</td>\n      <td>643</td>\n      <td>22.9</td>\n    </tr>\n    <tr>\n      <th>9</th>\n      <td>HS graduate or GED</td>\n      <td>704</td>\n      <td>25.0</td>\n    </tr>\n  </tbody>\n</table>\n</div>"
          },
          "metadata": {}
        }
      ],
      "execution_count": 191,
      "metadata": {
        "jupyter": {
          "source_hidden": false,
          "outputs_hidden": false
        },
        "nteract": {
          "transient": {
            "deleting": false
          }
        },
        "gather": {
          "logged": 1730034404719
        }
      }
    },
    {
      "cell_type": "code",
      "source": [
        "# Define the mapping for 'w2_broke_up' status\n",
        "w2_broke_up_mapping = {\n",
        "    0: \"Still together\",\n",
        "    1: \"Broke up\"\n",
        "}\n",
        "\n",
        "# Filter for rows where 'ppeduc' is different from 'q10' for each unique 'caseid_new'\n",
        "different_education = df[df['caseid_new'].isin(df.loc[mapped_ppeduc != mapped_q10, 'caseid_new'])]\n",
        "\n",
        "\n",
        "# Map 'w2_broke_up' values to descriptive labels in the temporary filtered DataFrame\n",
        "different_education['w2_broke_up_mapped'] = different_education['w2_broke_up'].map(w2_broke_up_mapping)\n",
        "\n",
        "# Calculate the frequency of each breakup status (w2_broke_up_mapped) among those cases\n",
        "w2_broke_up_counts = different_education['w2_broke_up_mapped'].value_counts().sort_index()\n",
        "\n",
        "# Convert counts to percentages\n",
        "total_different_cases = w2_broke_up_counts.sum()\n",
        "w2_broke_up_percentages = (w2_broke_up_counts / total_different_cases * 100).round(1)\n",
        "\n",
        "# Create a DataFrame with counts and percentages for breakup status\n",
        "w2_broke_up_distribution_different = pd.DataFrame({\n",
        "    'Breakup Status': w2_broke_up_counts.index,\n",
        "    'Count': w2_broke_up_counts.values,\n",
        "    'Percentage': w2_broke_up_percentages.values\n",
        "})\n",
        "\n",
        "# Display the resulting DataFrame\n",
        "w2_broke_up_distribution_different"
      ],
      "outputs": [
        {
          "output_type": "stream",
          "name": "stderr",
          "text": "/tmp/ipykernel_3465/54808902.py:12: PerformanceWarning: DataFrame is highly fragmented.  This is usually the result of calling `frame.insert` many times, which has poor performance.  Consider joining all columns at once using pd.concat(axis=1) instead.  To get a de-fragmented frame, use `newframe = frame.copy()`\n  different_education['w2_broke_up_mapped'] = different_education['w2_broke_up'].map(w2_broke_up_mapping)\n/tmp/ipykernel_3465/54808902.py:12: SettingWithCopyWarning: \nA value is trying to be set on a copy of a slice from a DataFrame.\nTry using .loc[row_indexer,col_indexer] = value instead\n\nSee the caveats in the documentation: https://pandas.pydata.org/pandas-docs/stable/user_guide/indexing.html#returning-a-view-versus-a-copy\n  different_education['w2_broke_up_mapped'] = different_education['w2_broke_up'].map(w2_broke_up_mapping)\n"
        },
        {
          "output_type": "execute_result",
          "execution_count": 192,
          "data": {
            "text/plain": "   Breakup Status  Count  Percentage\n0        Broke up    176         5.5\n1  Still together   2998        94.5",
            "text/html": "<div>\n<style scoped>\n    .dataframe tbody tr th:only-of-type {\n        vertical-align: middle;\n    }\n\n    .dataframe tbody tr th {\n        vertical-align: top;\n    }\n\n    .dataframe thead th {\n        text-align: right;\n    }\n</style>\n<table border=\"1\" class=\"dataframe\">\n  <thead>\n    <tr style=\"text-align: right;\">\n      <th></th>\n      <th>Breakup Status</th>\n      <th>Count</th>\n      <th>Percentage</th>\n    </tr>\n  </thead>\n  <tbody>\n    <tr>\n      <th>0</th>\n      <td>Broke up</td>\n      <td>176</td>\n      <td>5.5</td>\n    </tr>\n    <tr>\n      <th>1</th>\n      <td>Still together</td>\n      <td>2998</td>\n      <td>94.5</td>\n    </tr>\n  </tbody>\n</table>\n</div>"
          },
          "metadata": {}
        }
      ],
      "execution_count": 192,
      "metadata": {
        "jupyter": {
          "source_hidden": false,
          "outputs_hidden": false
        },
        "nteract": {
          "transient": {
            "deleting": false
          }
        },
        "gather": {
          "logged": 1730034408354
        }
      }
    },
    {
      "cell_type": "markdown",
      "source": [
        "### General information about their relationship"
      ],
      "metadata": {
        "nteract": {
          "transient": {
            "deleting": false
          }
        }
      }
    },
    {
      "cell_type": "code",
      "source": [
        "# Filter to include only values greater than 0 for 'q21a'\n",
        "q21a_filtered = df[df['q21a'] > 0]\n",
        "\n",
        "# Calculate the frequency of each unique value in the filtered 'q21a' data\n",
        "q21a_counts = q21a_filtered['q21a'].value_counts().sort_index()\n",
        "\n",
        "# Calculate the total and convert counts to percentages\n",
        "total_q21a = q21a_counts.sum()\n",
        "q21a_percentages = (q21a_counts / total_q21a * 100).round(1)\n",
        "\n",
        "# Create a DataFrame with counts and percentages for each unique 'q21a' integer value\n",
        "q21a_distribution = pd.DataFrame({\n",
        "    'Age First Met': q21a_counts.index,\n",
        "    'Count': q21a_counts.values,\n",
        "    'Percentage': q21a_percentages.values\n",
        "})\n",
        "\n",
        "# Get the top 5 most frequent values for 'q21a' (when greater than 0)\n",
        "q21a_top5 = q21a_distribution.nlargest(5, 'Count')\n",
        "\n",
        "# Display the top 5 rows\n",
        "q21a_top5"
      ],
      "outputs": [
        {
          "output_type": "execute_result",
          "execution_count": 193,
          "data": {
            "text/plain": "    Age First Met  Count  Percentage\n16             19    162         5.8\n17             20    161         5.7\n15             18    152         5.4\n18             21    149         5.3\n14             17    140         5.0",
            "text/html": "<div>\n<style scoped>\n    .dataframe tbody tr th:only-of-type {\n        vertical-align: middle;\n    }\n\n    .dataframe tbody tr th {\n        vertical-align: top;\n    }\n\n    .dataframe thead th {\n        text-align: right;\n    }\n</style>\n<table border=\"1\" class=\"dataframe\">\n  <thead>\n    <tr style=\"text-align: right;\">\n      <th></th>\n      <th>Age First Met</th>\n      <th>Count</th>\n      <th>Percentage</th>\n    </tr>\n  </thead>\n  <tbody>\n    <tr>\n      <th>16</th>\n      <td>19</td>\n      <td>162</td>\n      <td>5.8</td>\n    </tr>\n    <tr>\n      <th>17</th>\n      <td>20</td>\n      <td>161</td>\n      <td>5.7</td>\n    </tr>\n    <tr>\n      <th>15</th>\n      <td>18</td>\n      <td>152</td>\n      <td>5.4</td>\n    </tr>\n    <tr>\n      <th>18</th>\n      <td>21</td>\n      <td>149</td>\n      <td>5.3</td>\n    </tr>\n    <tr>\n      <th>14</th>\n      <td>17</td>\n      <td>140</td>\n      <td>5.0</td>\n    </tr>\n  </tbody>\n</table>\n</div>"
          },
          "metadata": {}
        }
      ],
      "execution_count": 193,
      "metadata": {
        "jupyter": {
          "source_hidden": false,
          "outputs_hidden": false
        },
        "nteract": {
          "transient": {
            "deleting": false
          }
        },
        "gather": {
          "logged": 1730034411988
        }
      }
    },
    {
      "cell_type": "code",
      "source": [
        "# Filter to include only values greater than 0 for 'q21b'\n",
        "q21b_filtered = df[df['q21b'] > 0]\n",
        "\n",
        "# Calculate the frequency of each unique value in the filtered 'q21b' data\n",
        "q21b_counts = q21b_filtered['q21b'].value_counts().sort_index()\n",
        "\n",
        "# Calculate the total and convert counts to percentages\n",
        "total_q21b = q21b_counts.sum()\n",
        "q21b_percentages = (q21b_counts / total_q21b * 100).round(1)\n",
        "\n",
        "# Create a DataFrame with counts and percentages for each unique 'q21b' integer value\n",
        "q21b_distribution = pd.DataFrame({\n",
        "    'Age Relationship Began': q21b_counts.index,\n",
        "    'Count': q21b_counts.values,\n",
        "    'Percentage': q21b_percentages.values\n",
        "})\n",
        "\n",
        "# Get the top 5 most frequent values for 'q21b' (when greater than 0)\n",
        "q21b_top5 = q21b_distribution.nlargest(5, 'Count')\n",
        "\n",
        "# Display the top 5 rows\n",
        "q21b_top5"
      ],
      "outputs": [
        {
          "output_type": "execute_result",
          "execution_count": 194,
          "data": {
            "text/plain": "    Age Relationship Began  Count  Percentage\n8                       20    186         6.7\n6                       18    182         6.5\n9                       21    182         6.5\n7                       19    163         5.8\n10                      22    128         4.6",
            "text/html": "<div>\n<style scoped>\n    .dataframe tbody tr th:only-of-type {\n        vertical-align: middle;\n    }\n\n    .dataframe tbody tr th {\n        vertical-align: top;\n    }\n\n    .dataframe thead th {\n        text-align: right;\n    }\n</style>\n<table border=\"1\" class=\"dataframe\">\n  <thead>\n    <tr style=\"text-align: right;\">\n      <th></th>\n      <th>Age Relationship Began</th>\n      <th>Count</th>\n      <th>Percentage</th>\n    </tr>\n  </thead>\n  <tbody>\n    <tr>\n      <th>8</th>\n      <td>20</td>\n      <td>186</td>\n      <td>6.7</td>\n    </tr>\n    <tr>\n      <th>6</th>\n      <td>18</td>\n      <td>182</td>\n      <td>6.5</td>\n    </tr>\n    <tr>\n      <th>9</th>\n      <td>21</td>\n      <td>182</td>\n      <td>6.5</td>\n    </tr>\n    <tr>\n      <th>7</th>\n      <td>19</td>\n      <td>163</td>\n      <td>5.8</td>\n    </tr>\n    <tr>\n      <th>10</th>\n      <td>22</td>\n      <td>128</td>\n      <td>4.6</td>\n    </tr>\n  </tbody>\n</table>\n</div>"
          },
          "metadata": {}
        }
      ],
      "execution_count": 194,
      "metadata": {
        "jupyter": {
          "source_hidden": false,
          "outputs_hidden": false
        },
        "nteract": {
          "transient": {
            "deleting": false
          }
        },
        "gather": {
          "logged": 1730034414796
        }
      }
    },
    {
      "cell_type": "code",
      "source": [
        "# Filter to include only values greater than 0 for 'q21c'\n",
        "q21c_filtered = df[df['q21c'] > 0]\n",
        "\n",
        "# Calculate the frequency of each unique value in the filtered 'q21c' data\n",
        "q21c_counts = q21c_filtered['q21c'].value_counts().sort_index()\n",
        "\n",
        "# Calculate the total and convert counts to percentages\n",
        "total_q21c = q21c_counts.sum()\n",
        "q21c_percentages = (q21c_counts / total_q21c * 100).round(1)\n",
        "\n",
        "# Create a DataFrame with counts and percentages for each unique 'q21c' integer value\n",
        "q21c_distribution = pd.DataFrame({\n",
        "    'Age First Lived Together': q21c_counts.index,\n",
        "    'Count': q21c_counts.values,\n",
        "    'Percentage': q21c_percentages.values\n",
        "})\n",
        "\n",
        "# Get the top 5 most frequent values for 'q21c' (when greater than 0)\n",
        "q21c_top5 = q21c_distribution.nlargest(5, 'Count')\n",
        "\n",
        "# Display the top 5 rows\n",
        "q21c_top5"
      ],
      "outputs": [
        {
          "output_type": "execute_result",
          "execution_count": 195,
          "data": {
            "text/plain": "    Age First Lived Together  Count  Percentage\n9                         22    169         7.2\n8                         21    160         6.8\n7                         20    159         6.8\n11                        24    147         6.3\n10                        23    134         5.7",
            "text/html": "<div>\n<style scoped>\n    .dataframe tbody tr th:only-of-type {\n        vertical-align: middle;\n    }\n\n    .dataframe tbody tr th {\n        vertical-align: top;\n    }\n\n    .dataframe thead th {\n        text-align: right;\n    }\n</style>\n<table border=\"1\" class=\"dataframe\">\n  <thead>\n    <tr style=\"text-align: right;\">\n      <th></th>\n      <th>Age First Lived Together</th>\n      <th>Count</th>\n      <th>Percentage</th>\n    </tr>\n  </thead>\n  <tbody>\n    <tr>\n      <th>9</th>\n      <td>22</td>\n      <td>169</td>\n      <td>7.2</td>\n    </tr>\n    <tr>\n      <th>8</th>\n      <td>21</td>\n      <td>160</td>\n      <td>6.8</td>\n    </tr>\n    <tr>\n      <th>7</th>\n      <td>20</td>\n      <td>159</td>\n      <td>6.8</td>\n    </tr>\n    <tr>\n      <th>11</th>\n      <td>24</td>\n      <td>147</td>\n      <td>6.3</td>\n    </tr>\n    <tr>\n      <th>10</th>\n      <td>23</td>\n      <td>134</td>\n      <td>5.7</td>\n    </tr>\n  </tbody>\n</table>\n</div>"
          },
          "metadata": {}
        }
      ],
      "execution_count": 195,
      "metadata": {
        "jupyter": {
          "source_hidden": false,
          "outputs_hidden": false
        },
        "nteract": {
          "transient": {
            "deleting": false
          }
        },
        "gather": {
          "logged": 1730034417473
        }
      }
    },
    {
      "cell_type": "code",
      "source": [
        "q21d_filtered = df[df['q21d'] > 0]\n",
        "\n",
        "# Calculate the frequency of each unique value in the filtered 'q21d' data\n",
        "q21d_counts = q21d_filtered['q21d'].value_counts().sort_index()\n",
        "\n",
        "# Calculate the total and convert counts to percentages\n",
        "total_q21d = q21d_counts.sum()\n",
        "q21d_percentages = (q21d_counts / total_q21d * 100).round(1)\n",
        "\n",
        "# Create a DataFrame with counts and percentages for each unique 'q21d' integer value\n",
        "q21d_distribution = pd.DataFrame({\n",
        "    'Age When Married': q21d_counts.index,\n",
        "    'Count': q21d_counts.values,\n",
        "    'Percentage': q21d_percentages.values\n",
        "})\n",
        "\n",
        "# Get the top 5 most frequent values for 'q21d' (when greater than 0)\n",
        "q21d_top5 = q21d_distribution.nlargest(5, 'Count')\n",
        "\n",
        "# Display the top 5 rows\n",
        "q21d_top5"
      ],
      "outputs": [
        {
          "output_type": "execute_result",
          "execution_count": 196,
          "data": {
            "text/plain": "    Age When Married  Count  Percentage\n8                 22    139         7.8\n7                 21    128         7.2\n9                 23    123         6.9\n11                25    118         6.6\n10                24    115         6.4",
            "text/html": "<div>\n<style scoped>\n    .dataframe tbody tr th:only-of-type {\n        vertical-align: middle;\n    }\n\n    .dataframe tbody tr th {\n        vertical-align: top;\n    }\n\n    .dataframe thead th {\n        text-align: right;\n    }\n</style>\n<table border=\"1\" class=\"dataframe\">\n  <thead>\n    <tr style=\"text-align: right;\">\n      <th></th>\n      <th>Age When Married</th>\n      <th>Count</th>\n      <th>Percentage</th>\n    </tr>\n  </thead>\n  <tbody>\n    <tr>\n      <th>8</th>\n      <td>22</td>\n      <td>139</td>\n      <td>7.8</td>\n    </tr>\n    <tr>\n      <th>7</th>\n      <td>21</td>\n      <td>128</td>\n      <td>7.2</td>\n    </tr>\n    <tr>\n      <th>9</th>\n      <td>23</td>\n      <td>123</td>\n      <td>6.9</td>\n    </tr>\n    <tr>\n      <th>11</th>\n      <td>25</td>\n      <td>118</td>\n      <td>6.6</td>\n    </tr>\n    <tr>\n      <th>10</th>\n      <td>24</td>\n      <td>115</td>\n      <td>6.4</td>\n    </tr>\n  </tbody>\n</table>\n</div>"
          },
          "metadata": {}
        }
      ],
      "execution_count": 196,
      "metadata": {
        "jupyter": {
          "source_hidden": false,
          "outputs_hidden": false
        },
        "nteract": {
          "transient": {
            "deleting": false
          }
        },
        "gather": {
          "logged": 1730034420129
        }
      }
    },
    {
      "cell_type": "code",
      "source": [
        "# Define the mapping for 'q22' relationship duration\n",
        "q22_mapping = {\n",
        "    1: \"Less than one month\",\n",
        "    2: \"1-3 months\",\n",
        "    3: \"4-6 months\",\n",
        "    4: \"7 months - 1 year\",\n",
        "    5: \"More than 1 year, less than 2 years\",\n",
        "    6: \"More than 2 years, less than 3 years\",\n",
        "    7: \"3 years or more\"\n",
        "}\n",
        "\n",
        "# Map the 'q22' column to descriptive labels\n",
        "mapped_q22 = df['q22'].map(q22_mapping)\n",
        "\n",
        "# Calculate the frequency of each category\n",
        "q22_counts = mapped_q22.value_counts().sort_index()\n",
        "\n",
        "# Convert counts to percentages\n",
        "total_q22 = q22_counts.sum()\n",
        "q22_percentages = (q22_counts / total_q22 * 100).round(1)\n",
        "\n",
        "# Create a DataFrame with counts and percentages for 'q22' categories\n",
        "q22_distribution = pd.DataFrame({\n",
        "    'Category': q22_counts.index,\n",
        "    'Count': q22_counts.values,\n",
        "    'Percentage': q22_percentages.values\n",
        "})\n",
        "\n",
        "# Sort the DataFrame by count in ascending order (if needed)\n",
        "q22_distribution_sorted = q22_distribution.sort_values(by='Count')\n",
        "\n",
        "# Display the sorted DataFrame\n",
        "q22_distribution_sorted"
      ],
      "outputs": [
        {
          "output_type": "execute_result",
          "execution_count": 197,
          "data": {
            "text/plain": "                               Category  Count  Percentage\n4                   Less than one month     27         5.3\n0                            1-3 months     47         9.3\n2                            4-6 months     50         9.9\n3                     7 months - 1 year     76        15.0\n1                       3 years or more     88        17.4\n6  More than 2 years, less than 3 years     96        18.9\n5   More than 1 year, less than 2 years    123        24.3",
            "text/html": "<div>\n<style scoped>\n    .dataframe tbody tr th:only-of-type {\n        vertical-align: middle;\n    }\n\n    .dataframe tbody tr th {\n        vertical-align: top;\n    }\n\n    .dataframe thead th {\n        text-align: right;\n    }\n</style>\n<table border=\"1\" class=\"dataframe\">\n  <thead>\n    <tr style=\"text-align: right;\">\n      <th></th>\n      <th>Category</th>\n      <th>Count</th>\n      <th>Percentage</th>\n    </tr>\n  </thead>\n  <tbody>\n    <tr>\n      <th>4</th>\n      <td>Less than one month</td>\n      <td>27</td>\n      <td>5.3</td>\n    </tr>\n    <tr>\n      <th>0</th>\n      <td>1-3 months</td>\n      <td>47</td>\n      <td>9.3</td>\n    </tr>\n    <tr>\n      <th>2</th>\n      <td>4-6 months</td>\n      <td>50</td>\n      <td>9.9</td>\n    </tr>\n    <tr>\n      <th>3</th>\n      <td>7 months - 1 year</td>\n      <td>76</td>\n      <td>15.0</td>\n    </tr>\n    <tr>\n      <th>1</th>\n      <td>3 years or more</td>\n      <td>88</td>\n      <td>17.4</td>\n    </tr>\n    <tr>\n      <th>6</th>\n      <td>More than 2 years, less than 3 years</td>\n      <td>96</td>\n      <td>18.9</td>\n    </tr>\n    <tr>\n      <th>5</th>\n      <td>More than 1 year, less than 2 years</td>\n      <td>123</td>\n      <td>24.3</td>\n    </tr>\n  </tbody>\n</table>\n</div>"
          },
          "metadata": {}
        }
      ],
      "execution_count": 197,
      "metadata": {
        "jupyter": {
          "source_hidden": false,
          "outputs_hidden": false
        },
        "nteract": {
          "transient": {
            "deleting": false
          }
        },
        "gather": {
          "logged": 1730034422741
        }
      }
    },
    {
      "cell_type": "code",
      "source": [
        "w2_broke_up_mapping = {\n",
        "    0: \"Still together\",\n",
        "    1: \"Broke up\"\n",
        "}\n",
        "# Group by 'q22' and 'w2_broke_up' to calculate frequencies\n",
        "breakup_counts_by_q22 = df.groupby(['q22', 'w2_broke_up']).size().unstack(fill_value=0)\n",
        "breakup_counts_by_q22.columns = [w2_broke_up_mapping.get(status, status) for status in breakup_counts_by_q22.columns]\n",
        "\n",
        "# Map 'q22' categories to descriptive labels\n",
        "breakup_counts_by_q22.index = breakup_counts_by_q22.index.map(q22_mapping)\n",
        "\n",
        "# Select only the columns \"Still together\" and \"Broke up\" and set them as the index\n",
        "simplified_breakup_counts_by_q22 = breakup_counts_by_q22[['Still together', 'Broke up']].iloc[3:]\n",
        "simplified_breakup_counts_by_q22.index.name = \"Breakup Status\"\n",
        "\n",
        "# Display the DataFrame with \"Still together\" and \"Broke up\" as index\n",
        "simplified_breakup_counts_by_q22"
      ],
      "outputs": [
        {
          "output_type": "execute_result",
          "execution_count": 198,
          "data": {
            "text/plain": "                                      Still together  Broke up\nBreakup Status                                                \n1-3 months                                        24        22\n4-6 months                                        35        15\n7 months - 1 year                                 52        24\nMore than 1 year, less than 2 years               96        27\nMore than 2 years, less than 3 years              74        22\n3 years or more                                   79         8",
            "text/html": "<div>\n<style scoped>\n    .dataframe tbody tr th:only-of-type {\n        vertical-align: middle;\n    }\n\n    .dataframe tbody tr th {\n        vertical-align: top;\n    }\n\n    .dataframe thead th {\n        text-align: right;\n    }\n</style>\n<table border=\"1\" class=\"dataframe\">\n  <thead>\n    <tr style=\"text-align: right;\">\n      <th></th>\n      <th>Still together</th>\n      <th>Broke up</th>\n    </tr>\n    <tr>\n      <th>Breakup Status</th>\n      <th></th>\n      <th></th>\n    </tr>\n  </thead>\n  <tbody>\n    <tr>\n      <th>1-3 months</th>\n      <td>24</td>\n      <td>22</td>\n    </tr>\n    <tr>\n      <th>4-6 months</th>\n      <td>35</td>\n      <td>15</td>\n    </tr>\n    <tr>\n      <th>7 months - 1 year</th>\n      <td>52</td>\n      <td>24</td>\n    </tr>\n    <tr>\n      <th>More than 1 year, less than 2 years</th>\n      <td>96</td>\n      <td>27</td>\n    </tr>\n    <tr>\n      <th>More than 2 years, less than 3 years</th>\n      <td>74</td>\n      <td>22</td>\n    </tr>\n    <tr>\n      <th>3 years or more</th>\n      <td>79</td>\n      <td>8</td>\n    </tr>\n  </tbody>\n</table>\n</div>"
          },
          "metadata": {}
        }
      ],
      "execution_count": 198,
      "metadata": {
        "jupyter": {
          "source_hidden": false,
          "outputs_hidden": false
        },
        "nteract": {
          "transient": {
            "deleting": false
          }
        },
        "gather": {
          "logged": 1730034425637
        }
      }
    },
    {
      "cell_type": "code",
      "source": [
        "##### Calculate the frequency of each unique integer value in 'q16'\n",
        "q16_counts = df['q16'].value_counts().sort_index()\n",
        "\n",
        "# Calculate the total and convert counts to percentages\n",
        "total_q16 = q16_counts.sum()\n",
        "q16_percentages = (q16_counts / total_q16 * 100).round(1)\n",
        "\n",
        "# Create a DataFrame with counts and percentages for each unique 'q16' integer value\n",
        "q16_distribution = pd.DataFrame({\n",
        "    'Relatives Seen Monthly': q16_counts.index,\n",
        "    'Count': q16_counts.values,\n",
        "    'Percentage': q16_percentages.values\n",
        "})\n",
        "\n",
        "# Get the top 5 most frequent values for 'q16'\n",
        "q16_top5 = q16_distribution.nlargest(5, 'Count')\n",
        "\n",
        "# Display the top 5 rows\n",
        "q16_top5"
      ],
      "outputs": [
        {
          "output_type": "execute_result",
          "execution_count": 199,
          "data": {
            "text/plain": "   Relatives Seen Monthly  Count  Percentage\n0                       0   1914        50.2\n2                       2    312         8.2\n1                       1    265         7.0\n3                       3    237         6.2\n5                       5    216         5.7",
            "text/html": "<div>\n<style scoped>\n    .dataframe tbody tr th:only-of-type {\n        vertical-align: middle;\n    }\n\n    .dataframe tbody tr th {\n        vertical-align: top;\n    }\n\n    .dataframe thead th {\n        text-align: right;\n    }\n</style>\n<table border=\"1\" class=\"dataframe\">\n  <thead>\n    <tr style=\"text-align: right;\">\n      <th></th>\n      <th>Relatives Seen Monthly</th>\n      <th>Count</th>\n      <th>Percentage</th>\n    </tr>\n  </thead>\n  <tbody>\n    <tr>\n      <th>0</th>\n      <td>0</td>\n      <td>1914</td>\n      <td>50.2</td>\n    </tr>\n    <tr>\n      <th>2</th>\n      <td>2</td>\n      <td>312</td>\n      <td>8.2</td>\n    </tr>\n    <tr>\n      <th>1</th>\n      <td>1</td>\n      <td>265</td>\n      <td>7.0</td>\n    </tr>\n    <tr>\n      <th>3</th>\n      <td>3</td>\n      <td>237</td>\n      <td>6.2</td>\n    </tr>\n    <tr>\n      <th>5</th>\n      <td>5</td>\n      <td>216</td>\n      <td>5.7</td>\n    </tr>\n  </tbody>\n</table>\n</div>"
          },
          "metadata": {}
        }
      ],
      "execution_count": 199,
      "metadata": {
        "jupyter": {
          "source_hidden": false,
          "outputs_hidden": false
        },
        "nteract": {
          "transient": {
            "deleting": false
          }
        },
        "gather": {
          "logged": 1730034428368
        }
      }
    },
    {
      "cell_type": "code",
      "source": [
        "# Define the mapping for 'q29' categories\n",
        "q29_mapping = {\n",
        "    1: \"Father and mother\",\n",
        "    2: \"Father only\",\n",
        "    3: \"Mother only\",\n",
        "    4: \"Neither father nor mother are alive\"\n",
        "}\n",
        "\n",
        "# Map the 'q29' column to descriptive labels\n",
        "mapped_q29 = df['q29'].map(q29_mapping)\n",
        "\n",
        "# Calculate the frequency of each category\n",
        "q29_counts = mapped_q29.value_counts().sort_index()\n",
        "\n",
        "# Convert counts to percentages\n",
        "total_q29 = q29_counts.sum()\n",
        "q29_percentages = (q29_counts / total_q29 * 100).round(1)\n",
        "\n",
        "# Create a DataFrame with counts and percentages for 'q29' categories\n",
        "q29_distribution = pd.DataFrame({\n",
        "    'Category': q29_counts.index,\n",
        "    'Count': q29_counts.values,\n",
        "    'Percentage': q29_percentages.values\n",
        "})\n",
        "\n",
        "# Sort the DataFrame by count in ascending order (if needed)\n",
        "q29_distribution_sorted = q29_distribution.sort_values(by='Count')\n",
        "\n",
        "# Display the sorted DataFrame\n",
        "q29_distribution_sorted"
      ],
      "outputs": [
        {
          "output_type": "execute_result",
          "execution_count": 200,
          "data": {
            "text/plain": "                              Category  Count  Percentage\n1                          Father only    143         5.1\n2                          Mother only    542        19.3\n3  Neither father nor mother are alive    846        30.1\n0                    Father and mother   1275        45.4",
            "text/html": "<div>\n<style scoped>\n    .dataframe tbody tr th:only-of-type {\n        vertical-align: middle;\n    }\n\n    .dataframe tbody tr th {\n        vertical-align: top;\n    }\n\n    .dataframe thead th {\n        text-align: right;\n    }\n</style>\n<table border=\"1\" class=\"dataframe\">\n  <thead>\n    <tr style=\"text-align: right;\">\n      <th></th>\n      <th>Category</th>\n      <th>Count</th>\n      <th>Percentage</th>\n    </tr>\n  </thead>\n  <tbody>\n    <tr>\n      <th>1</th>\n      <td>Father only</td>\n      <td>143</td>\n      <td>5.1</td>\n    </tr>\n    <tr>\n      <th>2</th>\n      <td>Mother only</td>\n      <td>542</td>\n      <td>19.3</td>\n    </tr>\n    <tr>\n      <th>3</th>\n      <td>Neither father nor mother are alive</td>\n      <td>846</td>\n      <td>30.1</td>\n    </tr>\n    <tr>\n      <th>0</th>\n      <td>Father and mother</td>\n      <td>1275</td>\n      <td>45.4</td>\n    </tr>\n  </tbody>\n</table>\n</div>"
          },
          "metadata": {}
        }
      ],
      "execution_count": 200,
      "metadata": {
        "jupyter": {
          "source_hidden": false,
          "outputs_hidden": false
        },
        "nteract": {
          "transient": {
            "deleting": false
          }
        },
        "gather": {
          "logged": 1730034430949
        }
      }
    },
    {
      "cell_type": "code",
      "source": [
        "q34_mapping = {\n",
        "    1: \"Excellent\",\n",
        "    2: \"Good\",\n",
        "    3: \"Fair\",\n",
        "    4: \"Poor\",\n",
        "    5: \"Very Poor\"\n",
        "}\n",
        "mapped_q34 = df['q34'].map(q34_mapping)\n",
        "\n",
        "relationship_quality_counts = df.groupby(['q29', 'q34']).size().unstack(fill_value=0)\n",
        "\n",
        "# Map 'q29' categories to descriptive labels for the index\n",
        "relationship_quality_counts.index = relationship_quality_counts.index.map(q29_mapping)\n",
        "\n",
        "# Rename columns with 'q34' categories\n",
        "relationship_quality_counts.columns = [q34_mapping.get(col, col) for col in relationship_quality_counts.columns]\n",
        "\n",
        "# Remove the first two rows and columns\n",
        "relationship_quality_counts_trimmed = relationship_quality_counts.iloc[2:, 2:]\n",
        "\n",
        "# Display the resulting DataFrame\n",
        "relationship_quality_counts_trimmed"
      ],
      "outputs": [
        {
          "output_type": "execute_result",
          "execution_count": 201,
          "data": {
            "text/plain": "                                     Excellent  Good  Fair  Poor  Very Poor\nq29                                                                        \nFather and mother                          735   406   107    16          8\nFather only                                 84    45    10     3          1\nMother only                                303   170    54     6          7\nNeither father nor mother are alive        541   228    61    11          3",
            "text/html": "<div>\n<style scoped>\n    .dataframe tbody tr th:only-of-type {\n        vertical-align: middle;\n    }\n\n    .dataframe tbody tr th {\n        vertical-align: top;\n    }\n\n    .dataframe thead th {\n        text-align: right;\n    }\n</style>\n<table border=\"1\" class=\"dataframe\">\n  <thead>\n    <tr style=\"text-align: right;\">\n      <th></th>\n      <th>Excellent</th>\n      <th>Good</th>\n      <th>Fair</th>\n      <th>Poor</th>\n      <th>Very Poor</th>\n    </tr>\n    <tr>\n      <th>q29</th>\n      <th></th>\n      <th></th>\n      <th></th>\n      <th></th>\n      <th></th>\n    </tr>\n  </thead>\n  <tbody>\n    <tr>\n      <th>Father and mother</th>\n      <td>735</td>\n      <td>406</td>\n      <td>107</td>\n      <td>16</td>\n      <td>8</td>\n    </tr>\n    <tr>\n      <th>Father only</th>\n      <td>84</td>\n      <td>45</td>\n      <td>10</td>\n      <td>3</td>\n      <td>1</td>\n    </tr>\n    <tr>\n      <th>Mother only</th>\n      <td>303</td>\n      <td>170</td>\n      <td>54</td>\n      <td>6</td>\n      <td>7</td>\n    </tr>\n    <tr>\n      <th>Neither father nor mother are alive</th>\n      <td>541</td>\n      <td>228</td>\n      <td>61</td>\n      <td>11</td>\n      <td>3</td>\n    </tr>\n  </tbody>\n</table>\n</div>"
          },
          "metadata": {}
        }
      ],
      "execution_count": 201,
      "metadata": {
        "jupyter": {
          "source_hidden": false,
          "outputs_hidden": false
        },
        "nteract": {
          "transient": {
            "deleting": false
          }
        },
        "gather": {
          "logged": 1730034434205
        }
      }
    },
    {
      "cell_type": "code",
      "source": [
        "# Define the mapping for 'q30' categories\n",
        "q30_mapping = {\n",
        "    1: \"Approve\",\n",
        "    2: \"Neither approve nor disapprove\",\n",
        "    3: \"Disapprove\",\n",
        "    4: \"Do not know\"\n",
        "}\n",
        "\n",
        "# Map the 'q30' column to descriptive labels\n",
        "mapped_q30 = df['q30'].map(q30_mapping)\n",
        "\n",
        "# Calculate the frequency of each category\n",
        "q30_counts = mapped_q30.value_counts().sort_index()\n",
        "\n",
        "# Convert counts to percentages\n",
        "total_q30 = q30_counts.sum()\n",
        "q30_percentages = (q30_counts / total_q30 * 100).round(1)\n",
        "\n",
        "# Create a DataFrame with counts and percentages for 'q30' categories\n",
        "q30_distribution = pd.DataFrame({\n",
        "    'Category': q30_counts.index,\n",
        "    'Count': q30_counts.values,\n",
        "    'Percentage': q30_percentages.values\n",
        "})\n",
        "\n",
        "# Sort the DataFrame by count in ascending order (if needed)\n",
        "q30_distribution_sorted = q30_distribution.sort_values(by='Count')\n",
        "\n",
        "# Display the sorted DataFrame\n",
        "q30_distribution_sorted\n"
      ],
      "outputs": [
        {
          "output_type": "execute_result",
          "execution_count": 202,
          "data": {
            "text/plain": "                         Category  Count  Percentage\n1                      Disapprove     64         3.3\n2                     Do not know    115         5.9\n3  Neither approve nor disapprove    242        12.4\n0                         Approve   1533        78.5",
            "text/html": "<div>\n<style scoped>\n    .dataframe tbody tr th:only-of-type {\n        vertical-align: middle;\n    }\n\n    .dataframe tbody tr th {\n        vertical-align: top;\n    }\n\n    .dataframe thead th {\n        text-align: right;\n    }\n</style>\n<table border=\"1\" class=\"dataframe\">\n  <thead>\n    <tr style=\"text-align: right;\">\n      <th></th>\n      <th>Category</th>\n      <th>Count</th>\n      <th>Percentage</th>\n    </tr>\n  </thead>\n  <tbody>\n    <tr>\n      <th>1</th>\n      <td>Disapprove</td>\n      <td>64</td>\n      <td>3.3</td>\n    </tr>\n    <tr>\n      <th>2</th>\n      <td>Do not know</td>\n      <td>115</td>\n      <td>5.9</td>\n    </tr>\n    <tr>\n      <th>3</th>\n      <td>Neither approve nor disapprove</td>\n      <td>242</td>\n      <td>12.4</td>\n    </tr>\n    <tr>\n      <th>0</th>\n      <td>Approve</td>\n      <td>1533</td>\n      <td>78.5</td>\n    </tr>\n  </tbody>\n</table>\n</div>"
          },
          "metadata": {}
        }
      ],
      "execution_count": 202,
      "metadata": {
        "jupyter": {
          "source_hidden": false,
          "outputs_hidden": false
        },
        "nteract": {
          "transient": {
            "deleting": false
          }
        },
        "gather": {
          "logged": 1730034436931
        }
      }
    },
    {
      "cell_type": "code",
      "source": [
        "# Group by 'q30' and 'w2_broke_up' to calculate frequencies\n",
        "breakup_counts_by_q30 = df.groupby(['q30', 'w2_broke_up']).size().unstack(fill_value=0)\n",
        "\n",
        "# Map 'q30' categories to descriptive labels for the index\n",
        "breakup_counts_by_q30.index = breakup_counts_by_q30.index.map(q30_mapping)\n",
        "\n",
        "# Rename columns with 'w2_broke_up' categories based on the mapping\n",
        "breakup_counts_by_q30 = breakup_counts_by_q30.rename(columns=w2_broke_up_mapping)\n",
        "\n",
        "# Remove the first two rows and the last column\n",
        "breakup_counts_by_q30_trimmed = breakup_counts_by_q30.iloc[2:, :-1]\n",
        "\n",
        "# Display the resulting trimmed DataFrame\n",
        "breakup_counts_by_q30_trimmed"
      ],
      "outputs": [
        {
          "output_type": "execute_result",
          "execution_count": 203,
          "data": {
            "text/plain": "w2_broke_up                     Still together  Broke up\nq30                                                     \nApprove                                   1447        80\nNeither approve nor disapprove             203        37\nDisapprove                                  57         7\nDo not know                                 68        47",
            "text/html": "<div>\n<style scoped>\n    .dataframe tbody tr th:only-of-type {\n        vertical-align: middle;\n    }\n\n    .dataframe tbody tr th {\n        vertical-align: top;\n    }\n\n    .dataframe thead th {\n        text-align: right;\n    }\n</style>\n<table border=\"1\" class=\"dataframe\">\n  <thead>\n    <tr style=\"text-align: right;\">\n      <th>w2_broke_up</th>\n      <th>Still together</th>\n      <th>Broke up</th>\n    </tr>\n    <tr>\n      <th>q30</th>\n      <th></th>\n      <th></th>\n    </tr>\n  </thead>\n  <tbody>\n    <tr>\n      <th>Approve</th>\n      <td>1447</td>\n      <td>80</td>\n    </tr>\n    <tr>\n      <th>Neither approve nor disapprove</th>\n      <td>203</td>\n      <td>37</td>\n    </tr>\n    <tr>\n      <th>Disapprove</th>\n      <td>57</td>\n      <td>7</td>\n    </tr>\n    <tr>\n      <th>Do not know</th>\n      <td>68</td>\n      <td>47</td>\n    </tr>\n  </tbody>\n</table>\n</div>"
          },
          "metadata": {}
        }
      ],
      "execution_count": 203,
      "metadata": {
        "jupyter": {
          "source_hidden": false,
          "outputs_hidden": false
        },
        "nteract": {
          "transient": {
            "deleting": false
          }
        },
        "gather": {
          "logged": 1730034439680
        }
      }
    },
    {
      "cell_type": "code",
      "source": [
        "# Map the 'q34' column to descriptive labels\n",
        "mapped_q34 = df['q34'].map(relationship_quality_mapping)\n",
        "\n",
        "# Calculate the frequency of each category\n",
        "q34_counts = mapped_q34.value_counts().sort_index()\n",
        "\n",
        "# Convert counts to percentages\n",
        "total_q34 = q34_counts.sum()\n",
        "q34_percentages = (q34_counts / total_q34 * 100).round(1)\n",
        "\n",
        "# Create a DataFrame with counts and percentages for 'q30' categories\n",
        "q34_distribution = pd.DataFrame({\n",
        "    'Category': q34_counts.index,\n",
        "    'Count': q34_counts.values,\n",
        "    'Percentage': q34_percentages.values\n",
        "})\n",
        "\n",
        "# Sort the DataFrame by count in ascending order (if needed)\n",
        "q34_distribution_sorted = q34_distribution.sort_values(by='Count')\n",
        "\n",
        "# Display the sorted DataFrame\n",
        "q34_distribution_sorted\n"
      ],
      "outputs": [
        {
          "output_type": "execute_result",
          "execution_count": 204,
          "data": {
            "text/plain": "    Category  Count  Percentage\n4  Very Poor     19         0.7\n3       Poor     37         1.3\n1       Fair    232         8.3\n2       Good    851        30.3\n0  Excellent   1666        59.4",
            "text/html": "<div>\n<style scoped>\n    .dataframe tbody tr th:only-of-type {\n        vertical-align: middle;\n    }\n\n    .dataframe tbody tr th {\n        vertical-align: top;\n    }\n\n    .dataframe thead th {\n        text-align: right;\n    }\n</style>\n<table border=\"1\" class=\"dataframe\">\n  <thead>\n    <tr style=\"text-align: right;\">\n      <th></th>\n      <th>Category</th>\n      <th>Count</th>\n      <th>Percentage</th>\n    </tr>\n  </thead>\n  <tbody>\n    <tr>\n      <th>4</th>\n      <td>Very Poor</td>\n      <td>19</td>\n      <td>0.7</td>\n    </tr>\n    <tr>\n      <th>3</th>\n      <td>Poor</td>\n      <td>37</td>\n      <td>1.3</td>\n    </tr>\n    <tr>\n      <th>1</th>\n      <td>Fair</td>\n      <td>232</td>\n      <td>8.3</td>\n    </tr>\n    <tr>\n      <th>2</th>\n      <td>Good</td>\n      <td>851</td>\n      <td>30.3</td>\n    </tr>\n    <tr>\n      <th>0</th>\n      <td>Excellent</td>\n      <td>1666</td>\n      <td>59.4</td>\n    </tr>\n  </tbody>\n</table>\n</div>"
          },
          "metadata": {}
        }
      ],
      "execution_count": 204,
      "metadata": {
        "jupyter": {
          "source_hidden": false,
          "outputs_hidden": false
        },
        "nteract": {
          "transient": {
            "deleting": false
          }
        },
        "gather": {
          "logged": 1730034442039
        }
      }
    },
    {
      "cell_type": "markdown",
      "source": [
        "## Regression Model"
      ],
      "metadata": {
        "nteract": {
          "transient": {
            "deleting": false
          }
        }
      }
    },
    {
      "cell_type": "markdown",
      "source": [
        "### For all variables"
      ],
      "metadata": {
        "nteract": {
          "transient": {
            "deleting": false
          }
        }
      }
    },
    {
      "cell_type": "code",
      "source": [
        "# Filter data to include only rows where w2_broke_up is 0 or 1\n",
        "data = df[df['w2_broke_up'].isin([0, 1])]\n",
        "\n",
        "# Define target and features\n",
        "y = data['w2_broke_up'].reset_index(drop=True)  # Reset index of target\n",
        "X = data.drop(columns=['w2_broke_up'])\n",
        "\n",
        "# Remove unnecessary columns if they exist\n",
        "columns_to_remove = ['caseid_new', 'weight1', 'weight2', 'pp2_afterp1', 'pp2_respondent_yrsed', 'w2_q10']\n",
        "X = X.drop(columns=[col for col in columns_to_remove if col in X.columns])\n",
        "\n",
        "# Drop any remaining date or object (categorical) columns\n",
        "date_columns = X.select_dtypes(include=['datetime', 'object']).columns\n",
        "X = X.drop(columns=date_columns)\n",
        "\n",
        "# Encode categorical columns using one-hot encoding\n",
        "X = pd.get_dummies(X, drop_first=True)\n",
        "\n",
        "# Standardize numerical features\n",
        "scaler = StandardScaler()\n",
        "X_scaled = scaler.fit_transform(X)\n",
        "\n",
        "# Apply Lasso for feature selection\n",
        "lasso = LassoCV(cv=5, random_state=0, max_iter=10000).fit(X_scaled, y)\n",
        "selected_features = X.columns[lasso.coef_ != 0]\n",
        "print(\"Selected Features:\", selected_features)\n",
        "\n",
        "# Prepare selected features for PCA\n",
        "X_selected = pd.DataFrame(X_scaled, columns=X.columns)[selected_features]\n",
        "\n",
        "# Apply PCA with fewer components to further reduce collinearity\n",
        "pca = PCA(n_components=10)  # Set a fixed number of components\n",
        "X_pca = pca.fit_transform(X_selected)\n",
        "\n",
        "# Convert PCA-transformed data to DataFrame and add constant, aligning indices with y\n",
        "X_pca_df = pd.DataFrame(X_pca, columns=[f\"PC{i+1}\" for i in range(X_pca.shape[1])], index=y.index)\n",
        "X_pca_df = sm.add_constant(X_pca_df)  # Add constant for intercept\n",
        "\n",
        "# Fit logistic regression model using statsmodels with L1 regularization to handle singularity\n",
        "logit_model = sm.Logit(y, X_pca_df)\n",
        "result = logit_model.fit_regularized(method='l1', alpha=0.05)  # L1 regularization with small alpha\n",
        "print(result.summary())\n"
      ],
      "outputs": [
        {
          "output_type": "stream",
          "name": "stdout",
          "text": "Selected Features: Index(['ppincimp_13', 'ppmarit_3', 'papreligion_6', 'papreligion_12', 's2_2',\n       'q4_2', 'q5_0', 'q5_1', 'q6a_3', 'q7b_6', 'q10_8', 'q10_10',\n       'q15a1_compressed_1', 'q17b_0', 'q17b_5', 'q20_0', 'q22_0', 'q22_1',\n       'q22_2', 'q22_4', 'q22_7', 'q27_2', 'q28_2', 'q30_4', 'q34_1', 'q34_2',\n       'q34_3', 'q34_4', 'q34_5', 'q24_church_1',\n       'q24_internet_social_networking_1', 'q24_internet_game_1',\n       'q24_internet_other_1', 'q24_private_party_1', 'relationship_quality_1',\n       'relationship_quality_2', 'relationship_quality_3',\n       'relationship_quality_4', 'pp2_ppmarit_3', 'pp2_ppmarit_4',\n       'pp2_ppmarit_5', 'pp2_ppmarit_6', 'pp2_ppreg9_5', 'pp2_pprent_2',\n       'pp2_ppt612_1', 'pp2_ppnet_1'],\n      dtype='object')\nOptimization terminated successfully    (Exit mode 0)\n            Current function value: 0.13785752829757053\n            Iterations: 137\n            Function evaluations: 137\n            Gradient evaluations: 137\n                           Logit Regression Results                           \n==============================================================================\nDep. Variable:            w2_broke_up   No. Observations:                 3771\nModel:                          Logit   Df Residuals:                     3760\nMethod:                           MLE   Df Model:                           10\nDate:                Sun, 27 Oct 2024   Pseudo R-squ.:                  0.3905\nTime:                        13:07:36   Log-Likelihood:                -519.56\nconverged:                       True   LL-Null:                       -852.42\nCovariance Type:            nonrobust   LLR p-value:                1.421e-136\n==============================================================================\n                 coef    std err          z      P>|z|      [0.025      0.975]\n------------------------------------------------------------------------------\nconst         -4.2009      0.172    -24.468      0.000      -4.537      -3.864\nPC1            0.6975      0.076      9.213      0.000       0.549       0.846\nPC2           -0.4634      0.055     -8.423      0.000      -0.571      -0.356\nPC3           -0.0820      0.042     -1.968      0.049      -0.164      -0.000\nPC4           -0.1980      0.049     -4.068      0.000      -0.293      -0.103\nPC5            0.0956      0.036      2.624      0.009       0.024       0.167\nPC6           -0.0265      0.032     -0.840      0.401      -0.088       0.035\nPC7            0.1596      0.041      3.870      0.000       0.079       0.240\nPC8            0.0475      0.053      0.893      0.372      -0.057       0.152\nPC9            0.0486      0.039      1.260      0.208      -0.027       0.124\nPC10           0.0270      0.039      0.689      0.491      -0.050       0.104\n==============================================================================\n"
        },
        {
          "output_type": "stream",
          "name": "stderr",
          "text": "/anaconda/envs/azureml_py38/lib/python3.10/site-packages/statsmodels/base/l1_solvers_common.py:71: ConvergenceWarning: QC check did not pass for 3 out of 11 parameters\nTry increasing solver accuracy or number of iterations, decreasing alpha, or switch solvers\n  warnings.warn(message, ConvergenceWarning)\n/anaconda/envs/azureml_py38/lib/python3.10/site-packages/statsmodels/base/l1_solvers_common.py:144: ConvergenceWarning: Could not trim params automatically due to failed QC check. Trimming using trim_mode == 'size' will still work.\n  warnings.warn(msg, ConvergenceWarning)\n"
        }
      ],
      "execution_count": 205,
      "metadata": {
        "jupyter": {
          "source_hidden": false,
          "outputs_hidden": false
        },
        "nteract": {
          "transient": {
            "deleting": false
          }
        },
        "gather": {
          "logged": 1730034456817
        }
      }
    },
    {
      "cell_type": "code",
      "source": [
        "# Get the loading matrix\n",
        "loadings = pca.components_.T * np.sqrt(pca.explained_variance_)\n",
        "\n",
        "# Create a DataFrame for better visualization\n",
        "loadings_df = pd.DataFrame(loadings, index=X_selected.columns, columns=[f\"PC{i+1}\" for i in range(loadings.shape[1])])\n",
        "\n",
        "# Display top features contributing to each principal component\n",
        "for pc in loadings_df.columns:\n",
        "    print(f\"Top features for {pc}:\")\n",
        "    print(loadings_df[pc].nlargest(5))\n",
        "    print(\"\\n\")\n",
        "\n",
        "# Identify features with low overall contribution across PCs\n",
        "low_contributors = {}\n",
        "for feature in loadings_df.index:\n",
        "    # Calculate the absolute sum of loadings for each feature across all PCs\n",
        "    total_contribution = loadings_df.loc[feature].abs().sum()\n",
        "    low_contributors[feature] = total_contribution\n",
        "\n",
        "# Sort features by their total contribution to identify low contributors\n",
        "sorted_contributors = sorted(low_contributors.items(), key=lambda x: x[1])\n",
        "\n",
        "print(\"Features with the lowest overall contributions across all PCs:\")\n",
        "for feature, contribution in sorted_contributors[:5]:  # Display the top 5 lowest contributors\n",
        "    print(f\"{feature}: {contribution:.4f}\")"
      ],
      "outputs": [
        {
          "output_type": "stream",
          "name": "stdout",
          "text": "Top features for PC1:\nq28_2                 0.801626\nq15a1_compressed_1    0.780219\nq27_2                 0.707546\nq5_1                  0.531678\nq4_2                  0.430363\nName: PC1, dtype: float64\n\n\nTop features for PC2:\nq20_0                 0.610761\nq34_1                 0.546642\nq22_0                 0.507402\nq17b_0                0.434999\nq15a1_compressed_1    0.322013\nName: PC2, dtype: float64\n\n\nTop features for PC3:\nq34_2                     0.746786\nrelationship_quality_4    0.746786\npp2_ppmarit_6             0.188772\nq5_1                      0.187894\nq20_0                     0.165979\nName: PC3, dtype: float64\n\n\nTop features for PC4:\nq5_1             0.605952\npp2_ppmarit_6    0.463016\nq34_1            0.183479\nq20_0            0.167691\nq34_3            0.154319\nName: PC4, dtype: float64\n\n\nTop features for PC5:\nq34_5                     0.742567\nrelationship_quality_1    0.742567\nq5_1                      0.378995\nq34_4                     0.294776\nrelationship_quality_2    0.294776\nName: PC5, dtype: float64\n\n\nTop features for PC6:\nrelationship_quality_2    0.818531\nq34_4                     0.818531\npp2_ppmarit_5             0.124743\nq5_1                      0.122491\nq24_private_party_1       0.075623\nName: PC6, dtype: float64\n\n\nTop features for PC7:\nrelationship_quality_3    0.643376\nq34_3                     0.643376\nq22_0                     0.316959\nrelationship_quality_4    0.281396\nq34_2                     0.281396\nName: PC7, dtype: float64\n\n\nTop features for PC8:\nppmarit_3             0.735564\npp2_ppmarit_3         0.724628\nq4_2                  0.160396\nq34_1                 0.152532\nq15a1_compressed_1    0.151251\nName: PC8, dtype: float64\n\n\nTop features for PC9:\nq7b_6            0.818990\npapreligion_6    0.802852\nq22_7            0.089771\nppincimp_13      0.070813\nq27_2            0.056111\nName: PC9, dtype: float64\n\n\nTop features for PC10:\nq22_7                  0.501736\nq22_4                  0.418823\nq24_internet_game_1    0.236420\npp2_pprent_2           0.118166\nq5_0                   0.106411\nName: PC10, dtype: float64\n\n\nFeatures with the lowest overall contributions across all PCs:\npp2_ppreg9_5: 0.3335\nq6a_3: 0.3617\nppincimp_13: 0.4696\nq24_internet_game_1: 0.4761\npapreligion_12: 0.5005\n"
        }
      ],
      "execution_count": 206,
      "metadata": {
        "jupyter": {
          "source_hidden": false,
          "outputs_hidden": false
        },
        "nteract": {
          "transient": {
            "deleting": false
          }
        },
        "gather": {
          "logged": 1730034470173
        }
      }
    },
    {
      "cell_type": "markdown",
      "source": [
        "### Regression with less variables"
      ],
      "metadata": {
        "nteract": {
          "transient": {
            "deleting": false
          }
        }
      }
    },
    {
      "cell_type": "code",
      "source": [
        "# Filter data to include only rows where w2_broke_up is 0 or 1\n",
        "data = df[df['w2_broke_up'].isin([0, 1])]\n",
        "\n",
        "# Define target and features\n",
        "y = data['w2_broke_up'].reset_index(drop=True)  # Reset index of target\n",
        "X = data.drop(columns=['w2_broke_up'])\n",
        "\n",
        "selected_columns = ['q17b',  'q34', 'q20', 'q27', 'ppmarit', 'q5']\n",
        "\n",
        "X = data[selected_columns].copy()  # Select only the columns in selected_features\n",
        "\n",
        "\n",
        "# Encode categorical columns using one-hot encoding\n",
        "X = pd.get_dummies(X, drop_first=True)\n",
        "\n",
        "# Standardize numerical features\n",
        "scaler = StandardScaler()\n",
        "X_scaled = scaler.fit_transform(X)\n",
        "\n",
        "# Apply Lasso for feature selection\n",
        "lasso = LassoCV(cv=5, random_state=0, max_iter=10000).fit(X_scaled, y)\n",
        "selected_features = X.columns[lasso.coef_ != 0]\n",
        "print(\"Selected Features:\", selected_features)\n",
        "\n",
        "# Prepare selected features for PCA\n",
        "X_selected = pd.DataFrame(X_scaled, columns=X.columns)[selected_features]\n",
        "\n",
        "# Apply PCA with fewer components to further reduce collinearity\n",
        "pca = PCA(n_components=1)  # Set a fixed number of components\n",
        "X_pca = pca.fit_transform(X_selected)\n",
        "\n",
        "# Convert PCA-transformed data to DataFrame and add constant, aligning indices with y\n",
        "X_pca_df = pd.DataFrame(X_pca, columns=[f\"PC{i+1}\" for i in range(X_pca.shape[1])], index=y.index)\n",
        "X_pca_df = sm.add_constant(X_pca_df)  # Add constant for intercept\n",
        "\n",
        "# Fit logistic regression model using statsmodels with L1 regularization to handle singularity\n",
        "logit_model = sm.Logit(y, X_pca_df)\n",
        "result = logit_model.fit_regularized(method='l1', alpha=0.05)  # L1 regularization with small alpha\n",
        "print(result.summary())\n",
        "\n",
        "\n",
        "# Get the loading matrix\n",
        "loadings = pca.components_.T * np.sqrt(pca.explained_variance_)\n",
        "\n",
        "# Create a DataFrame for better visualization\n",
        "loadings_df = pd.DataFrame(loadings, index=X_selected.columns, columns=[f\"PC{i+1}\" for i in range(loadings.shape[1])])\n",
        "\n",
        "# Display top features contributing to each principal component\n",
        "for pc in loadings_df.columns:\n",
        "    print(f\"Top features for {pc}:\")\n",
        "    print(loadings_df[pc].nlargest(5))\n",
        "    print(\"\\n\")\n",
        "\n",
        "# Identify features with low overall contribution across PCs\n",
        "low_contributors = {}\n",
        "for feature in loadings_df.index:\n",
        "    # Calculate the absolute sum of loadings for each feature across all PCs\n",
        "    total_contribution = loadings_df.loc[feature].abs().sum()\n",
        "    low_contributors[feature] = total_contribution\n",
        "\n",
        "# Sort features by their total contribution to identify low contributors\n",
        "sorted_contributors = sorted(low_contributors.items(), key=lambda x: x[1])\n",
        "\n",
        "print(\"Features with the lowest overall contributions across all PCs:\")\n",
        "for feature, contribution in sorted_contributors[:5]:  # Display the top 5 lowest contributors\n",
        "    print(f\"{feature}: {contribution:.4f}\")"
      ],
      "outputs": [
        {
          "output_type": "stream",
          "name": "stdout",
          "text": "Selected Features: Index(['q17b_0', 'q17b_1', 'q17b_2', 'q17b_3', 'q17b_4', 'q17b_5', 'q34_1',\n       'q34_2', 'q34_3', 'q34_4', 'q34_5', 'q20_0', 'q20_1', 'q20_2', 'q27_1',\n       'q27_2', 'ppmarit_2', 'ppmarit_3', 'ppmarit_4', 'ppmarit_5',\n       'ppmarit_6', 'q5_1', 'q5_2'],\n      dtype='object')\nOptimization terminated successfully    (Exit mode 0)\n            Current function value: 0.15825065886771073\n            Iterations: 34\n            Function evaluations: 34\n            Gradient evaluations: 34\n                           Logit Regression Results                           \n==============================================================================\nDep. Variable:            w2_broke_up   No. Observations:                 3771\nModel:                          Logit   Df Residuals:                     3769\nMethod:                           MLE   Df Model:                            1\nDate:                Sun, 27 Oct 2024   Pseudo R-squ.:                  0.3002\nTime:                        13:07:53   Log-Likelihood:                -596.53\nconverged:                       True   LL-Null:                       -852.42\nCovariance Type:            nonrobust   LLR p-value:                2.582e-113\n==============================================================================\n                 coef    std err          z      P>|z|      [0.025      0.975]\n------------------------------------------------------------------------------\nconst         -3.9201      0.144    -27.223      0.000      -4.202      -3.638\nPC1           -0.8017      0.044    -18.055      0.000      -0.889      -0.715\n==============================================================================\nTop features for PC1:\nq17b_0       0.929999\nq20_0        0.771166\nppmarit_2    0.073160\nq27_1        0.046448\nq34_5       -0.005082\nName: PC1, dtype: float64\n\n\nFeatures with the lowest overall contributions across all PCs:\nq34_5: 0.0051\nq34_1: 0.0214\nq5_2: 0.0269\nq34_4: 0.0422\nppmarit_4: 0.0437\n"
        }
      ],
      "execution_count": 207,
      "metadata": {
        "jupyter": {
          "source_hidden": false,
          "outputs_hidden": false
        },
        "nteract": {
          "transient": {
            "deleting": false
          }
        },
        "gather": {
          "logged": 1730034473726
        }
      }
    },
    {
      "cell_type": "code",
      "source": [
        "# Filter data to include only rows where w2_broke_up is 0 or 1\n",
        "data = df[df['w2_broke_up'].isin([0, 1])]\n",
        "\n",
        "# Define target and features\n",
        "y = data['w2_broke_up'].reset_index(drop=True)  # Reset index of target\n",
        "X = data[['q17b', 'q34', 'q20', 'q27', 'ppmarit', 'q5']].copy()  # Select specified features\n",
        "\n",
        "# Encode categorical columns using one-hot encoding\n",
        "X = pd.get_dummies(X, drop_first=True)\n",
        "\n",
        "# Standardize numerical features\n",
        "scaler = StandardScaler()\n",
        "X_scaled = scaler.fit_transform(X)\n",
        "\n",
        "# Fit logistic regression model with L1 regularization\n",
        "X_scaled_df = pd.DataFrame(X_scaled, columns=X.columns)  # Convert to DataFrame for clarity\n",
        "X_scaled_df = sm.add_constant(X_scaled_df)  # Add intercept\n",
        "logit_model = sm.Logit(y, X_scaled_df)\n",
        "result = logit_model.fit_regularized(method='l1', alpha=0.05)  # L1 regularization with small alpha\n",
        "\n",
        "# Display coefficients for each feature\n",
        "coefficients = pd.Series(result.params.values, index=X_scaled_df.columns, name=\"Coefficient\")\n",
        "print(coefficients)"
      ],
      "outputs": [
        {
          "output_type": "stream",
          "name": "stdout",
          "text": "Optimization terminated successfully    (Exit mode 0)\n            Current function value: 0.13634067042637724\n            Iterations: 422\n            Function evaluations: 422\n            Gradient evaluations: 422\nconst       -5.548689\nq17b_0      -2.646812\nq17b_1      -2.026277\nq17b_2      -1.214801\nq17b_3      -0.703709\nq17b_4      -0.289135\nq17b_5      -0.438728\nq34_0       -0.808119\nq34_1       -1.099136\nq34_2       -0.438199\nq34_3       -0.115317\nq34_4        0.102861\nq34_5        0.109977\nq20_0       -1.460125\nq20_1       -0.590045\nq20_2       -0.927634\nq27_0       -0.808119\nq27_1        1.764926\nq27_2        2.598259\nppmarit_2    0.299376\nppmarit_3    0.660764\nppmarit_4    0.088451\nppmarit_5    0.928542\nppmarit_6    0.434529\nq5_0         0.765459\nq5_1         0.825466\nq5_2         0.227073\nName: Coefficient, dtype: float64\n"
        },
        {
          "output_type": "stream",
          "name": "stderr",
          "text": "/anaconda/envs/azureml_py38/lib/python3.10/site-packages/statsmodels/base/l1_solvers_common.py:71: ConvergenceWarning: QC check did not pass for 9 out of 27 parameters\nTry increasing solver accuracy or number of iterations, decreasing alpha, or switch solvers\n  warnings.warn(message, ConvergenceWarning)\n/anaconda/envs/azureml_py38/lib/python3.10/site-packages/statsmodels/base/l1_solvers_common.py:144: ConvergenceWarning: Could not trim params automatically due to failed QC check. Trimming using trim_mode == 'size' will still work.\n  warnings.warn(msg, ConvergenceWarning)\n"
        }
      ],
      "execution_count": 208,
      "metadata": {
        "jupyter": {
          "source_hidden": false,
          "outputs_hidden": false
        },
        "nteract": {
          "transient": {
            "deleting": false
          }
        },
        "gather": {
          "logged": 1730034477543
        }
      }
    },
    {
      "cell_type": "markdown",
      "source": [
        "### Break Up Probability"
      ],
      "metadata": {
        "nteract": {
          "transient": {
            "deleting": false
          }
        }
      }
    },
    {
      "cell_type": "markdown",
      "source": [
        "q17b_0\tNever married before\t-2.646814 \n\nq17b_1\tMarried once before\t-2.026279\n\nq17b_2\tMarried twice before\t-1.214803\n\nq17b_3\tMarried three times before\t-0.703709\n\nq17b_4\tMarried four times before\t-0.289135\n\nq17b_5\tMarried five or more times before\t-0.438729\n\nq34_0\tRelationship quality - Excellent\t-0.808117\n\nq34_1\tRelationship quality - Good\t-1.099133\n\nq34_2\tRelationship quality - Fair\t-0.438196\n\nq34_3\tRelationship quality - Poor\t-0.115315\n\nq34_4\tRelationship quality - Very Poor\t0.102862\n\nq34_5\tRelationship quality - No answer\t0.109977\n\nq20_0\tNever lived together with partner\t-1.460136\n\nq20_1\tLived together in the past\t-0.590050\n\nq20_2\tCurrently living together\t-0.927643\n\nq27_0\tGrew up in different city/town\t-0.808117\n\nq27_1\tGrew up in the same city/town\t1.764933\n\nq27_2\tGrew up in similar area, different city\t2.598269\n\nppmarit_2\tMarital status - Widowed\t0.299376\n\nppmarit_3\tMarital status - Divorced\t0.660764\n\nppmarit_4\tMarital status - Separated\t0.088451\n\nppmarit_5\tMarital status - Never Married\t0.928542\n\nppmarit_6\tMarital status - Living with partner\t0.434529\n\nq5_0\tSame-sex couple\t0.765455\n\nq5_1\tOpposite-sex couple\t0.825462\n\nq5_2\tPrefer not to answer\t0.227072"
      ],
      "metadata": {
        "nteract": {
          "transient": {
            "deleting": false
          }
        }
      }
    },
    {
      "cell_type": "code",
      "source": [
        "# Sample data (each row is an individual's responses to the variables)\n",
        "data = pd.DataFrame({\n",
        "    \"q17b_0\": [0],\n",
        "    \"q17b_1\": [0],\n",
        "    \"q17b_2\": [0],\n",
        "    \"q17b_3\": [0],\n",
        "    \"q17b_4\": [0],\n",
        "    \"q17b_5\": [1],\n",
        "\n",
        "    \"q34_0\": [0],\n",
        "    \"q34_1\": [0],\n",
        "    \"q34_2\": [0],\n",
        "    \"q34_3\": [0],\n",
        "    \"q34_4\": [1],\n",
        "\n",
        "    \"q20_0\": [1],\n",
        "    \"q20_1\": [0],\n",
        "    \"q20_2\": [0],\n",
        "\n",
        "    \"q27_0\": [1],\n",
        "    \"q27_1\": [0],\n",
        "    \"q27_2\": [0],\n",
        "\n",
        "    \"ppmarit_2\": [1],\n",
        "    \"ppmarit_3\": [0],\n",
        "    \"ppmarit_4\": [0],\n",
        "    \"ppmarit_5\": [0],\n",
        "    \"ppmarit_6\": [0],\n",
        "\n",
        "    \"q5_0\": [1],\n",
        "    \"q5_1\": [0],\n",
        "    \"const\": [1]  # Constant term as 1 for intercept\n",
        "})\n",
        "\n",
        "# Ensure the sample data columns match the regression coefficients\n",
        "data = data.reindex(columns=coefficients.index, fill_value=0)\n",
        "\n",
        "# Compute the score for each individual\n",
        "data[\"score\"] = data.apply(lambda row: sum(coefficients[var] * row[var] for var in coefficients.index), axis=1)\n",
        "\n",
        "# Apply the logistic function to get the breakup probability\n",
        "data[\"breakup_probability\"] = 1 / (1 + np.exp(-data[\"score\"]))\n",
        "\n",
        "# Convert to percentage\n",
        "data[\"breakup_probability_percent\"] = data[\"breakup_probability\"] * 100\n",
        "\n",
        "# Display the score and probability in percentage\n",
        "print(data[[\"score\", \"breakup_probability_percent\"]])"
      ],
      "outputs": [
        {
          "output_type": "stream",
          "name": "stdout",
          "text": "      score  breakup_probability_percent\n0 -7.087965                      0.08344\n"
        }
      ],
      "execution_count": 209,
      "metadata": {
        "jupyter": {
          "source_hidden": false,
          "outputs_hidden": false
        },
        "nteract": {
          "transient": {
            "deleting": false
          }
        },
        "gather": {
          "logged": 1730034482047
        }
      }
    }
  ],
  "metadata": {
    "kernelspec": {
      "name": "python38-azureml",
      "language": "python",
      "display_name": "Python 3.8 - AzureML"
    },
    "language_info": {
      "name": "python",
      "version": "3.10.11",
      "mimetype": "text/x-python",
      "codemirror_mode": {
        "name": "ipython",
        "version": 3
      },
      "pygments_lexer": "ipython3",
      "nbconvert_exporter": "python",
      "file_extension": ".py"
    },
    "kernel_info": {
      "name": "python38-azureml"
    },
    "microsoft": {
      "host": {
        "AzureML": {
          "notebookHasBeenCompleted": true
        }
      }
    },
    "nteract": {
      "version": "nteract-front-end@1.0.0"
    }
  },
  "nbformat": 4,
  "nbformat_minor": 2
}